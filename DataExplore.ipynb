{
 "cells": [
  {
   "cell_type": "markdown",
   "metadata": {},
   "source": [
    "# Columns Exploration "
   ]
  },
  {
   "cell_type": "code",
   "execution_count": 1,
   "metadata": {},
   "outputs": [],
   "source": [
    "import pandas as pd\n",
    "import numpy as np"
   ]
  },
  {
   "cell_type": "code",
   "execution_count": 2,
   "metadata": {},
   "outputs": [
    {
     "name": "stderr",
     "output_type": "stream",
     "text": [
      "/Users/olegsargu/opt/anaconda3/lib/python3.7/site-packages/IPython/core/interactiveshell.py:3063: DtypeWarning: Columns (33) have mixed types.Specify dtype option on import or set low_memory=False.\n",
      "  interactivity=interactivity, compiler=compiler, result=result)\n"
     ]
    },
    {
     "data": {
      "text/html": [
       "<div>\n",
       "<style scoped>\n",
       "    .dataframe tbody tr th:only-of-type {\n",
       "        vertical-align: middle;\n",
       "    }\n",
       "\n",
       "    .dataframe tbody tr th {\n",
       "        vertical-align: top;\n",
       "    }\n",
       "\n",
       "    .dataframe thead th {\n",
       "        text-align: right;\n",
       "    }\n",
       "</style>\n",
       "<table border=\"1\" class=\"dataframe\">\n",
       "  <thead>\n",
       "    <tr style=\"text-align: right;\">\n",
       "      <th></th>\n",
       "      <th>SEVERITYCODE</th>\n",
       "      <th>X</th>\n",
       "      <th>Y</th>\n",
       "      <th>OBJECTID</th>\n",
       "      <th>INCKEY</th>\n",
       "      <th>COLDETKEY</th>\n",
       "      <th>REPORTNO</th>\n",
       "      <th>STATUS</th>\n",
       "      <th>ADDRTYPE</th>\n",
       "      <th>INTKEY</th>\n",
       "      <th>...</th>\n",
       "      <th>ROADCOND</th>\n",
       "      <th>LIGHTCOND</th>\n",
       "      <th>PEDROWNOTGRNT</th>\n",
       "      <th>SDOTCOLNUM</th>\n",
       "      <th>SPEEDING</th>\n",
       "      <th>ST_COLCODE</th>\n",
       "      <th>ST_COLDESC</th>\n",
       "      <th>SEGLANEKEY</th>\n",
       "      <th>CROSSWALKKEY</th>\n",
       "      <th>HITPARKEDCAR</th>\n",
       "    </tr>\n",
       "  </thead>\n",
       "  <tbody>\n",
       "    <tr>\n",
       "      <th>0</th>\n",
       "      <td>2</td>\n",
       "      <td>-122.323148</td>\n",
       "      <td>47.703140</td>\n",
       "      <td>1</td>\n",
       "      <td>1307</td>\n",
       "      <td>1307</td>\n",
       "      <td>3502005</td>\n",
       "      <td>Matched</td>\n",
       "      <td>Intersection</td>\n",
       "      <td>37475.0</td>\n",
       "      <td>...</td>\n",
       "      <td>Wet</td>\n",
       "      <td>Daylight</td>\n",
       "      <td>NaN</td>\n",
       "      <td>NaN</td>\n",
       "      <td>NaN</td>\n",
       "      <td>10</td>\n",
       "      <td>Entering at angle</td>\n",
       "      <td>0</td>\n",
       "      <td>0</td>\n",
       "      <td>N</td>\n",
       "    </tr>\n",
       "    <tr>\n",
       "      <th>1</th>\n",
       "      <td>1</td>\n",
       "      <td>-122.347294</td>\n",
       "      <td>47.647172</td>\n",
       "      <td>2</td>\n",
       "      <td>52200</td>\n",
       "      <td>52200</td>\n",
       "      <td>2607959</td>\n",
       "      <td>Matched</td>\n",
       "      <td>Block</td>\n",
       "      <td>NaN</td>\n",
       "      <td>...</td>\n",
       "      <td>Wet</td>\n",
       "      <td>Dark - Street Lights On</td>\n",
       "      <td>NaN</td>\n",
       "      <td>6354039.0</td>\n",
       "      <td>NaN</td>\n",
       "      <td>11</td>\n",
       "      <td>From same direction - both going straight - bo...</td>\n",
       "      <td>0</td>\n",
       "      <td>0</td>\n",
       "      <td>N</td>\n",
       "    </tr>\n",
       "    <tr>\n",
       "      <th>2</th>\n",
       "      <td>1</td>\n",
       "      <td>-122.334540</td>\n",
       "      <td>47.607871</td>\n",
       "      <td>3</td>\n",
       "      <td>26700</td>\n",
       "      <td>26700</td>\n",
       "      <td>1482393</td>\n",
       "      <td>Matched</td>\n",
       "      <td>Block</td>\n",
       "      <td>NaN</td>\n",
       "      <td>...</td>\n",
       "      <td>Dry</td>\n",
       "      <td>Daylight</td>\n",
       "      <td>NaN</td>\n",
       "      <td>4323031.0</td>\n",
       "      <td>NaN</td>\n",
       "      <td>32</td>\n",
       "      <td>One parked--one moving</td>\n",
       "      <td>0</td>\n",
       "      <td>0</td>\n",
       "      <td>N</td>\n",
       "    </tr>\n",
       "    <tr>\n",
       "      <th>3</th>\n",
       "      <td>1</td>\n",
       "      <td>-122.334803</td>\n",
       "      <td>47.604803</td>\n",
       "      <td>4</td>\n",
       "      <td>1144</td>\n",
       "      <td>1144</td>\n",
       "      <td>3503937</td>\n",
       "      <td>Matched</td>\n",
       "      <td>Block</td>\n",
       "      <td>NaN</td>\n",
       "      <td>...</td>\n",
       "      <td>Dry</td>\n",
       "      <td>Daylight</td>\n",
       "      <td>NaN</td>\n",
       "      <td>NaN</td>\n",
       "      <td>NaN</td>\n",
       "      <td>23</td>\n",
       "      <td>From same direction - all others</td>\n",
       "      <td>0</td>\n",
       "      <td>0</td>\n",
       "      <td>N</td>\n",
       "    </tr>\n",
       "    <tr>\n",
       "      <th>4</th>\n",
       "      <td>2</td>\n",
       "      <td>-122.306426</td>\n",
       "      <td>47.545739</td>\n",
       "      <td>5</td>\n",
       "      <td>17700</td>\n",
       "      <td>17700</td>\n",
       "      <td>1807429</td>\n",
       "      <td>Matched</td>\n",
       "      <td>Intersection</td>\n",
       "      <td>34387.0</td>\n",
       "      <td>...</td>\n",
       "      <td>Wet</td>\n",
       "      <td>Daylight</td>\n",
       "      <td>NaN</td>\n",
       "      <td>4028032.0</td>\n",
       "      <td>NaN</td>\n",
       "      <td>10</td>\n",
       "      <td>Entering at angle</td>\n",
       "      <td>0</td>\n",
       "      <td>0</td>\n",
       "      <td>N</td>\n",
       "    </tr>\n",
       "  </tbody>\n",
       "</table>\n",
       "<p>5 rows × 38 columns</p>\n",
       "</div>"
      ],
      "text/plain": [
       "   SEVERITYCODE           X          Y  OBJECTID  INCKEY  COLDETKEY REPORTNO  \\\n",
       "0             2 -122.323148  47.703140         1    1307       1307  3502005   \n",
       "1             1 -122.347294  47.647172         2   52200      52200  2607959   \n",
       "2             1 -122.334540  47.607871         3   26700      26700  1482393   \n",
       "3             1 -122.334803  47.604803         4    1144       1144  3503937   \n",
       "4             2 -122.306426  47.545739         5   17700      17700  1807429   \n",
       "\n",
       "    STATUS      ADDRTYPE   INTKEY  ... ROADCOND                LIGHTCOND  \\\n",
       "0  Matched  Intersection  37475.0  ...      Wet                 Daylight   \n",
       "1  Matched         Block      NaN  ...      Wet  Dark - Street Lights On   \n",
       "2  Matched         Block      NaN  ...      Dry                 Daylight   \n",
       "3  Matched         Block      NaN  ...      Dry                 Daylight   \n",
       "4  Matched  Intersection  34387.0  ...      Wet                 Daylight   \n",
       "\n",
       "  PEDROWNOTGRNT  SDOTCOLNUM SPEEDING ST_COLCODE  \\\n",
       "0           NaN         NaN      NaN         10   \n",
       "1           NaN   6354039.0      NaN         11   \n",
       "2           NaN   4323031.0      NaN         32   \n",
       "3           NaN         NaN      NaN         23   \n",
       "4           NaN   4028032.0      NaN         10   \n",
       "\n",
       "                                          ST_COLDESC  SEGLANEKEY  \\\n",
       "0                                  Entering at angle           0   \n",
       "1  From same direction - both going straight - bo...           0   \n",
       "2                             One parked--one moving           0   \n",
       "3                   From same direction - all others           0   \n",
       "4                                  Entering at angle           0   \n",
       "\n",
       "   CROSSWALKKEY  HITPARKEDCAR  \n",
       "0             0             N  \n",
       "1             0             N  \n",
       "2             0             N  \n",
       "3             0             N  \n",
       "4             0             N  \n",
       "\n",
       "[5 rows x 38 columns]"
      ]
     },
     "execution_count": 2,
     "metadata": {},
     "output_type": "execute_result"
    }
   ],
   "source": [
    "df = pd.read_csv('/Users/olegsargu/Downloads/Data-Collisions.csv')\n",
    "df.head()"
   ]
  },
  {
   "cell_type": "code",
   "execution_count": 3,
   "metadata": {},
   "outputs": [
    {
     "name": "stdout",
     "output_type": "stream",
     "text": [
      "<class 'pandas.core.frame.DataFrame'>\n",
      "RangeIndex: 194673 entries, 0 to 194672\n",
      "Data columns (total 38 columns):\n",
      " #   Column          Non-Null Count   Dtype  \n",
      "---  ------          --------------   -----  \n",
      " 0   SEVERITYCODE    194673 non-null  int64  \n",
      " 1   X               189339 non-null  float64\n",
      " 2   Y               189339 non-null  float64\n",
      " 3   OBJECTID        194673 non-null  int64  \n",
      " 4   INCKEY          194673 non-null  int64  \n",
      " 5   COLDETKEY       194673 non-null  int64  \n",
      " 6   REPORTNO        194673 non-null  object \n",
      " 7   STATUS          194673 non-null  object \n",
      " 8   ADDRTYPE        192747 non-null  object \n",
      " 9   INTKEY          65070 non-null   float64\n",
      " 10  LOCATION        191996 non-null  object \n",
      " 11  EXCEPTRSNCODE   84811 non-null   object \n",
      " 12  EXCEPTRSNDESC   5638 non-null    object \n",
      " 13  SEVERITYCODE.1  194673 non-null  int64  \n",
      " 14  SEVERITYDESC    194673 non-null  object \n",
      " 15  COLLISIONTYPE   189769 non-null  object \n",
      " 16  PERSONCOUNT     194673 non-null  int64  \n",
      " 17  PEDCOUNT        194673 non-null  int64  \n",
      " 18  PEDCYLCOUNT     194673 non-null  int64  \n",
      " 19  VEHCOUNT        194673 non-null  int64  \n",
      " 20  INCDATE         194673 non-null  object \n",
      " 21  INCDTTM         194673 non-null  object \n",
      " 22  JUNCTIONTYPE    188344 non-null  object \n",
      " 23  SDOT_COLCODE    194673 non-null  int64  \n",
      " 24  SDOT_COLDESC    194673 non-null  object \n",
      " 25  INATTENTIONIND  29805 non-null   object \n",
      " 26  UNDERINFL       189789 non-null  object \n",
      " 27  WEATHER         189592 non-null  object \n",
      " 28  ROADCOND        189661 non-null  object \n",
      " 29  LIGHTCOND       189503 non-null  object \n",
      " 30  PEDROWNOTGRNT   4667 non-null    object \n",
      " 31  SDOTCOLNUM      114936 non-null  float64\n",
      " 32  SPEEDING        9333 non-null    object \n",
      " 33  ST_COLCODE      194655 non-null  object \n",
      " 34  ST_COLDESC      189769 non-null  object \n",
      " 35  SEGLANEKEY      194673 non-null  int64  \n",
      " 36  CROSSWALKKEY    194673 non-null  int64  \n",
      " 37  HITPARKEDCAR    194673 non-null  object \n",
      "dtypes: float64(4), int64(12), object(22)\n",
      "memory usage: 56.4+ MB\n"
     ]
    }
   ],
   "source": [
    "df.info()"
   ]
  },
  {
   "cell_type": "code",
   "execution_count": 241,
   "metadata": {},
   "outputs": [
    {
     "name": "stdout",
     "output_type": "stream",
     "text": [
      "Starting date:  1/1/2004\n",
      "Ending date:  9/9/2019 9:27:00 AM\n"
     ]
    }
   ],
   "source": [
    "print('Starting date: ', min(df['INCDTTM']))\n",
    "print('Ending date: ', max(df['INCDTTM']))"
   ]
  },
  {
   "cell_type": "code",
   "execution_count": 4,
   "metadata": {},
   "outputs": [
    {
     "data": {
      "text/plain": [
       "1100024"
      ]
     },
     "execution_count": 4,
     "metadata": {},
     "output_type": "execute_result"
    }
   ],
   "source": [
    "df.isnull().values.sum()"
   ]
  },
  {
   "cell_type": "code",
   "execution_count": 5,
   "metadata": {},
   "outputs": [
    {
     "data": {
      "text/plain": [
       "SEVERITYCODE           0\n",
       "X                   5334\n",
       "Y                   5334\n",
       "OBJECTID               0\n",
       "INCKEY                 0\n",
       "COLDETKEY              0\n",
       "REPORTNO               0\n",
       "STATUS                 0\n",
       "ADDRTYPE            1926\n",
       "INTKEY            129603\n",
       "LOCATION            2677\n",
       "EXCEPTRSNCODE     109862\n",
       "EXCEPTRSNDESC     189035\n",
       "SEVERITYCODE.1         0\n",
       "SEVERITYDESC           0\n",
       "COLLISIONTYPE       4904\n",
       "PERSONCOUNT            0\n",
       "PEDCOUNT               0\n",
       "PEDCYLCOUNT            0\n",
       "VEHCOUNT               0\n",
       "INCDATE                0\n",
       "INCDTTM                0\n",
       "JUNCTIONTYPE        6329\n",
       "SDOT_COLCODE           0\n",
       "SDOT_COLDESC           0\n",
       "INATTENTIONIND    164868\n",
       "UNDERINFL           4884\n",
       "WEATHER             5081\n",
       "ROADCOND            5012\n",
       "LIGHTCOND           5170\n",
       "PEDROWNOTGRNT     190006\n",
       "SDOTCOLNUM         79737\n",
       "SPEEDING          185340\n",
       "ST_COLCODE            18\n",
       "ST_COLDESC          4904\n",
       "SEGLANEKEY             0\n",
       "CROSSWALKKEY           0\n",
       "HITPARKEDCAR           0\n",
       "dtype: int64"
      ]
     },
     "execution_count": 5,
     "metadata": {},
     "output_type": "execute_result"
    }
   ],
   "source": [
    "df.isnull().sum()"
   ]
  },
  {
   "cell_type": "code",
   "execution_count": 6,
   "metadata": {},
   "outputs": [
    {
     "data": {
      "text/plain": [
       "(194673, 38)"
      ]
     },
     "execution_count": 6,
     "metadata": {},
     "output_type": "execute_result"
    }
   ],
   "source": [
    "df.shape"
   ]
  },
  {
   "cell_type": "markdown",
   "metadata": {},
   "source": [
    "I am starting with a data set that has (194673, 38). There are numerous columns that provides redundant information nor presenting any statistical values or due to high amount of missing values will have to be dropped."
   ]
  },
  {
   "cell_type": "code",
   "execution_count": 7,
   "metadata": {},
   "outputs": [
    {
     "name": "stdout",
     "output_type": "stream",
     "text": [
      "Duplicate Columns are :\n",
      "Column Name :  SEVERITYCODE.1\n"
     ]
    }
   ],
   "source": [
    "# https://thispointer.com/how-to-find-drop-duplicate-columns-in-a-dataframe-python-pandas/\n",
    "def getDuplicateColumns(df): \n",
    "  \n",
    "    # Create an empty set \n",
    "    duplicateColumnNames = set() \n",
    "      \n",
    "    # Iterate through all the columns of dataframe \n",
    "    for x in range(df.shape[1]): \n",
    "          \n",
    "        # Take column at xth index. \n",
    "        col = df.iloc[:, x] \n",
    "          \n",
    "        # Iterate through all the columns in DataFrame from (x + 1)th index to last index \n",
    "        for y in range(x + 1, df.shape[1]): \n",
    "              \n",
    "            # Take column at yth index. \n",
    "            otherCol = df.iloc[:, y] \n",
    "              \n",
    "            # Check if two columns at x & y index are equal or not, if equal then adding to the set \n",
    "            if col.equals(otherCol): \n",
    "                duplicateColumnNames.add(df.columns.values[y]) \n",
    "                  \n",
    "    # Return list of unique column names whose contents are duplicates. \n",
    "    return list(duplicateColumnNames) \n",
    "  \n",
    "# Driver code \n",
    "if __name__ == \"__main__\" : \n",
    "  \n",
    "  \n",
    "    # Get list of duplicate columns \n",
    "    duplicateColNames = getDuplicateColumns(df) \n",
    "  \n",
    "    print('Duplicate Columns are :') \n",
    "        \n",
    "    # Iterate through duplicate column names \n",
    "    for column in duplicateColNames : \n",
    "       print('Column Name : ', column)"
   ]
  },
  {
   "cell_type": "markdown",
   "metadata": {},
   "source": [
    "Technicaly I identified one duplicate column that has to be dropped: 'SEVERITYCODE.1'"
   ]
  },
  {
   "cell_type": "code",
   "execution_count": 8,
   "metadata": {},
   "outputs": [
    {
     "data": {
      "text/plain": [
       "62"
      ]
     },
     "execution_count": 8,
     "metadata": {},
     "output_type": "execute_result"
    }
   ],
   "source": [
    "df['ST_COLDESC'].nunique()"
   ]
  },
  {
   "cell_type": "code",
   "execution_count": 9,
   "metadata": {},
   "outputs": [
    {
     "data": {
      "text/plain": [
       "39"
      ]
     },
     "execution_count": 9,
     "metadata": {},
     "output_type": "execute_result"
    }
   ],
   "source": [
    "df['SDOT_COLDESC'].nunique() "
   ]
  },
  {
   "cell_type": "code",
   "execution_count": 10,
   "metadata": {},
   "outputs": [
    {
     "data": {
      "text/plain": [
       "MOTOR VEHICLE STRUCK MOTOR VEHICLE, FRONT END AT ANGLE          85209\n",
       "MOTOR VEHICLE STRUCK MOTOR VEHICLE, REAR END                    54299\n",
       "MOTOR VEHICLE STRUCK MOTOR VEHICLE, LEFT SIDE SIDESWIPE          9928\n",
       "NOT ENOUGH INFORMATION / NOT APPLICABLE                          9787\n",
       "MOTOR VEHICLE RAN OFF ROAD - HIT FIXED OBJECT                    8856\n",
       "MOTOR VEHCILE STRUCK PEDESTRIAN                                  6518\n",
       "MOTOR VEHICLE STRUCK MOTOR VEHICLE, LEFT SIDE AT ANGLE           5852\n",
       "MOTOR VEHICLE STRUCK OBJECT IN ROAD                              4741\n",
       "MOTOR VEHICLE STRUCK PEDALCYCLIST, FRONT END AT ANGLE            3104\n",
       "MOTOR VEHICLE STRUCK MOTOR VEHICLE, RIGHT SIDE SIDESWIPE         1604\n",
       "MOTOR VEHICLE STRUCK MOTOR VEHICLE, RIGHT SIDE AT ANGLE          1440\n",
       "PEDALCYCLIST STRUCK MOTOR VEHICLE FRONT END AT ANGLE             1312\n",
       "MOTOR VEHICLE OVERTURNED IN ROAD                                  479\n",
       "MOTOR VEHICLE STRUCK PEDALCYCLIST, REAR END                       181\n",
       "PEDALCYCLIST STRUCK MOTOR VEHICLE LEFT SIDE SIDESWIPE             180\n",
       "MOTOR VEHICLE RAN OFF ROAD - NO COLLISION                         166\n",
       "PEDALCYCLIST STRUCK MOTOR VEHICLE REAR END                        139\n",
       "MOTOR VEHICLE STRUCK PEDALCYCLIST, LEFT SIDE SIDESWIPE            124\n",
       "DRIVERLESS VEHICLE RAN OFF ROAD - HIT FIXED OBJECT                107\n",
       "DRIVERLESS VEHICLE STRUCK MOTOR VEHICLE FRONT END AT ANGLE        104\n",
       "MOTOR VEHICLE STRUCK TRAIN                                        102\n",
       "DRIVERLESS VEHICLE STRUCK MOTOR VEHICLE REAR END                   93\n",
       "PEDALCYCLIST STRUCK PEDESTRIAN                                     75\n",
       "PEDALCYCLIST OVERTURNED IN ROAD                                    69\n",
       "DRIVERLESS VEHICLE STRUCK MOTOR VEHICLE LEFT SIDE AT ANGLE         53\n",
       "PEDALCYCLIST STRUCK MOTOR VEHICLE RIGHT SIDE SIDESWIPE             50\n",
       "PEDALCYCLIST STRUCK OBJECT IN ROAD                                 23\n",
       "MOTOR VEHICLE STRUCK PEDALCYCLIST, RIGHT SIDE SIDESWIPE            17\n",
       "DRIVERLESS VEHICLE STRUCK MOTOR VEHICLE RIGHT SIDE AT ANGLE        12\n",
       "PEDALCYCLIST STRUCK MOTOR VEHICLE LEFT SIDE AT ANGLE                9\n",
       "DRIVERLESS VEHICLE STRUCK PEDESTRIAN                                8\n",
       "PEDALCYCLIST STRUCK PEDALCYCLIST REAR END                           7\n",
       "DRIVERLESS VEHICLE STRUCK MOTOR VEHICLE RIGHT SIDE SIDESWIPE        6\n",
       "PEDALCYCLIST STRUCK PEDALCYCLIST FRONT END AT ANGLE                 5\n",
       "DRIVERLESS VEHICLE STRUCK MOTOR VEHICLE LEFT SIDE SIDESWIPE         4\n",
       "PEDALCYCLIST RAN OFF ROAD - HIT FIXED OBJECT                        4\n",
       "DRIVERLESS VEHICLE STRUCK OBJECT IN ROADWAY                         3\n",
       "PEDALCYCLIST STRUCK MOTOR VEHICLE RIGHT SIDE AT ANGLE               2\n",
       "DRIVERLESS VEHICLE RAN OFF ROAD - NO COLLISION                      1\n",
       "Name: SDOT_COLDESC, dtype: int64"
      ]
     },
     "execution_count": 10,
     "metadata": {},
     "output_type": "execute_result"
    }
   ],
   "source": [
    "df['SDOT_COLDESC'].value_counts()"
   ]
  },
  {
   "cell_type": "code",
   "execution_count": 11,
   "metadata": {},
   "outputs": [
    {
     "data": {
      "text/plain": [
       "One parked--one moving                                                 44421\n",
       "Entering at angle                                                      34674\n",
       "From same direction - both going straight - one stopped - rear-end     25771\n",
       "Fixed object                                                           13554\n",
       "From same direction - both going straight - both moving - sideswipe    12777\n",
       "                                                                       ...  \n",
       "Vehicle Strikes All Other Non-Domestic Animal                              2\n",
       "Railway Vehicle Strikes Pedalcyclist                                       2\n",
       "Non-domestic animal (deer, bear, elk, etc)                                 1\n",
       "Vehicle Strikes Deer                                                       1\n",
       "Vehicle Hits State Road or Construction Machinery                          1\n",
       "Name: ST_COLDESC, Length: 62, dtype: int64"
      ]
     },
     "execution_count": 11,
     "metadata": {},
     "output_type": "execute_result"
    }
   ],
   "source": [
    "df['ST_COLDESC'].value_counts()"
   ]
  },
  {
   "cell_type": "code",
   "execution_count": 12,
   "metadata": {},
   "outputs": [
    {
     "data": {
      "text/plain": [
       "Parked Car    47987\n",
       "Angles        34674\n",
       "Rear Ended    34090\n",
       "Other         23703\n",
       "Sideswipe     18609\n",
       "Left Turn     13703\n",
       "Pedestrian     6608\n",
       "Cycles         5415\n",
       "Right Turn     2956\n",
       "Head On        2024\n",
       "Name: COLLISIONTYPE, dtype: int64"
      ]
     },
     "execution_count": 12,
     "metadata": {},
     "output_type": "execute_result"
    }
   ],
   "source": [
    "df['COLLISIONTYPE'].value_counts()"
   ]
  },
  {
   "cell_type": "markdown",
   "metadata": {},
   "source": [
    "Although columns 'ST_COLCODE' and 'ST_COLDESC' are different from 'SDOT_COLCODE' and 'SDOT_COLDESC', these columns contains similar information. Thus, 'ST_COLCODE' and 'ST_COLDESC' will be dropped. Even thought, 'ST_COLCODE' and 'ST_COLDESC' is more descriptive we will not loose any valuable information since 'SDOT_COLCODE' and 'SDOT_COLDESC' in tandem with other columns such as 'COLLISIONTYPE' provides similar information. In addition, SDOT_COLCODE and SDOT_COLDESC do not contain any missing values, while 'ST_COLCODE' and 'ST_COLDESC' registerred 18 and 4905 missing values."
   ]
  },
  {
   "cell_type": "markdown",
   "metadata": {},
   "source": [
    "Columns 'INCKEY', 'COLDETKEY', 'REPORTNO', 'STATUS', 'INTKEY', 'SDOTCOLNUM'  do not provide any statistically relevant information for my further studies, thus these columns will be dropped."
   ]
  },
  {
   "cell_type": "markdown",
   "metadata": {},
   "source": [
    "Columns 'INCDATE' will be dropped since the same information can be found in the columns 'INCDDTM'."
   ]
  },
  {
   "cell_type": "markdown",
   "metadata": {},
   "source": [
    "Columns 'PEDROWNOTGRNT', 'INATTENTIONIND', 'EXCEPTRSNDESC', 'EXCEPTRSNCODE' will be dropped due to vast amount of missing data and/or irrelevant statistical information."
   ]
  },
  {
   "cell_type": "code",
   "execution_count": 13,
   "metadata": {},
   "outputs": [
    {
     "data": {
      "text/plain": [
       "0         190862\n",
       "523609        17\n",
       "520838        15\n",
       "525567        13\n",
       "521707        10\n",
       "           ...  \n",
       "521019         1\n",
       "630862         1\n",
       "25545          1\n",
       "523322         1\n",
       "27186          1\n",
       "Name: CROSSWALKKEY, Length: 2198, dtype: int64"
      ]
     },
     "execution_count": 13,
     "metadata": {},
     "output_type": "execute_result"
    }
   ],
   "source": [
    "df['CROSSWALKKEY'].value_counts() #A key for the crosswalk at which the collision occurred."
   ]
  },
  {
   "cell_type": "markdown",
   "metadata": {},
   "source": [
    "Most of the observations for the column 'CROSSWALKKEY' are registered as '0' which means most of the observations are missing. Thus, this feature will be dropped."
   ]
  },
  {
   "cell_type": "code",
   "execution_count": 14,
   "metadata": {},
   "outputs": [
    {
     "data": {
      "text/plain": [
       "0         191907\n",
       "6532          19\n",
       "6078          16\n",
       "12162         15\n",
       "10336         14\n",
       "           ...  \n",
       "35157          1\n",
       "10817          1\n",
       "15043          1\n",
       "525169         1\n",
       "16376          1\n",
       "Name: SEGLANEKEY, Length: 1955, dtype: int64"
      ]
     },
     "execution_count": 14,
     "metadata": {},
     "output_type": "execute_result"
    }
   ],
   "source": [
    "df['SEGLANEKEY'].value_counts() #A key for the lane segment in which the collision occurred."
   ]
  },
  {
   "cell_type": "markdown",
   "metadata": {},
   "source": [
    "Most of the observations for the column 'SEGLANEKEY' are registered as '0' which means most of the observations are missing. Thus, this feature will be dropped."
   ]
  },
  {
   "cell_type": "code",
   "execution_count": 15,
   "metadata": {},
   "outputs": [
    {
     "data": {
      "text/plain": [
       "N    187457\n",
       "Y      7216\n",
       "Name: HITPARKEDCAR, dtype: int64"
      ]
     },
     "execution_count": 15,
     "metadata": {},
     "output_type": "execute_result"
    }
   ],
   "source": [
    "df['HITPARKEDCAR'].value_counts()"
   ]
  },
  {
   "cell_type": "code",
   "execution_count": 16,
   "metadata": {},
   "outputs": [
    {
     "data": {
      "text/plain": [
       "Parked Car    47987\n",
       "Angles        34674\n",
       "Rear Ended    34090\n",
       "Other         23703\n",
       "Sideswipe     18609\n",
       "Left Turn     13703\n",
       "Pedestrian     6608\n",
       "Cycles         5415\n",
       "Right Turn     2956\n",
       "Head On        2024\n",
       "Name: COLLISIONTYPE, dtype: int64"
      ]
     },
     "execution_count": 16,
     "metadata": {},
     "output_type": "execute_result"
    }
   ],
   "source": [
    "df['COLLISIONTYPE'].value_counts()"
   ]
  },
  {
   "cell_type": "markdown",
   "metadata": {},
   "source": [
    "The 'COLLISIONTYPE' already contains the information about the involvement into the accident of the parked cars. Thus, the column 'HITPARKEDCAR' will be dropped."
   ]
  },
  {
   "cell_type": "code",
   "execution_count": 17,
   "metadata": {},
   "outputs": [
    {
     "data": {
      "text/plain": [
       "       79173\n",
       "NEI     5638\n",
       "Name: EXCEPTRSNCODE, dtype: int64"
      ]
     },
     "execution_count": 17,
     "metadata": {},
     "output_type": "execute_result"
    }
   ],
   "source": [
    "df['EXCEPTRSNCODE'].value_counts()"
   ]
  },
  {
   "cell_type": "code",
   "execution_count": 18,
   "metadata": {},
   "outputs": [
    {
     "data": {
      "text/plain": [
       "Not Enough Information, or Insufficient Location Information    5638\n",
       "Name: EXCEPTRSNDESC, dtype: int64"
      ]
     },
     "execution_count": 18,
     "metadata": {},
     "output_type": "execute_result"
    }
   ],
   "source": [
    "df['EXCEPTRSNDESC'].value_counts()"
   ]
  },
  {
   "cell_type": "markdown",
   "metadata": {},
   "source": [
    "SDOTCOLNUM represents the number given to the collision by SDOT. However, it has 79737 missing values. Thus, it can be dropped since these particular feature does not provide any valuable information for further studies."
   ]
  },
  {
   "cell_type": "code",
   "execution_count": 19,
   "metadata": {},
   "outputs": [
    {
     "data": {
      "text/plain": [
       "1    136485\n",
       "2     58188\n",
       "Name: SEVERITYCODE, dtype: int64"
      ]
     },
     "execution_count": 19,
     "metadata": {},
     "output_type": "execute_result"
    }
   ],
   "source": [
    "df['SEVERITYCODE'].value_counts()"
   ]
  },
  {
   "cell_type": "code",
   "execution_count": 20,
   "metadata": {},
   "outputs": [
    {
     "data": {
      "text/plain": [
       "Property Damage Only Collision    136485\n",
       "Injury Collision                   58188\n",
       "Name: SEVERITYDESC, dtype: int64"
      ]
     },
     "execution_count": 20,
     "metadata": {},
     "output_type": "execute_result"
    }
   ],
   "source": [
    "df['SEVERITYDESC'].value_counts()"
   ]
  },
  {
   "cell_type": "markdown",
   "metadata": {},
   "source": [
    "We will keep only the 'SEVERITYDESC' column since the 'SEVERITYCODE' provides the same information and it will be dropped."
   ]
  },
  {
   "cell_type": "code",
   "execution_count": 21,
   "metadata": {},
   "outputs": [],
   "source": [
    "df_drop=df.drop(columns=['SEVERITYCODE','SEVERITYCODE.1','ST_COLCODE','ST_COLDESC','INCKEY','COLDETKEY','REPORTNO','STATUS',\n",
    "                         'INTKEY','SDOTCOLNUM','INCDATE','EXCEPTRSNCODE','EXCEPTRSNDESC', 'INATTENTIONIND','PEDROWNOTGRNT',\n",
    "                         'CROSSWALKKEY','SEGLANEKEY','HITPARKEDCAR','OBJECTID','SDOT_COLCODE'], axis=1)"
   ]
  },
  {
   "cell_type": "code",
   "execution_count": 22,
   "metadata": {},
   "outputs": [
    {
     "data": {
      "text/html": [
       "<div>\n",
       "<style scoped>\n",
       "    .dataframe tbody tr th:only-of-type {\n",
       "        vertical-align: middle;\n",
       "    }\n",
       "\n",
       "    .dataframe tbody tr th {\n",
       "        vertical-align: top;\n",
       "    }\n",
       "\n",
       "    .dataframe thead th {\n",
       "        text-align: right;\n",
       "    }\n",
       "</style>\n",
       "<table border=\"1\" class=\"dataframe\">\n",
       "  <thead>\n",
       "    <tr style=\"text-align: right;\">\n",
       "      <th></th>\n",
       "      <th>X</th>\n",
       "      <th>Y</th>\n",
       "      <th>ADDRTYPE</th>\n",
       "      <th>LOCATION</th>\n",
       "      <th>SEVERITYDESC</th>\n",
       "      <th>COLLISIONTYPE</th>\n",
       "      <th>PERSONCOUNT</th>\n",
       "      <th>PEDCOUNT</th>\n",
       "      <th>PEDCYLCOUNT</th>\n",
       "      <th>VEHCOUNT</th>\n",
       "      <th>INCDTTM</th>\n",
       "      <th>JUNCTIONTYPE</th>\n",
       "      <th>SDOT_COLDESC</th>\n",
       "      <th>UNDERINFL</th>\n",
       "      <th>WEATHER</th>\n",
       "      <th>ROADCOND</th>\n",
       "      <th>LIGHTCOND</th>\n",
       "      <th>SPEEDING</th>\n",
       "    </tr>\n",
       "  </thead>\n",
       "  <tbody>\n",
       "    <tr>\n",
       "      <th>0</th>\n",
       "      <td>-122.323148</td>\n",
       "      <td>47.703140</td>\n",
       "      <td>Intersection</td>\n",
       "      <td>5TH AVE NE AND NE 103RD ST</td>\n",
       "      <td>Injury Collision</td>\n",
       "      <td>Angles</td>\n",
       "      <td>2</td>\n",
       "      <td>0</td>\n",
       "      <td>0</td>\n",
       "      <td>2</td>\n",
       "      <td>3/27/2013 2:54:00 PM</td>\n",
       "      <td>At Intersection (intersection related)</td>\n",
       "      <td>MOTOR VEHICLE STRUCK MOTOR VEHICLE, FRONT END ...</td>\n",
       "      <td>N</td>\n",
       "      <td>Overcast</td>\n",
       "      <td>Wet</td>\n",
       "      <td>Daylight</td>\n",
       "      <td>NaN</td>\n",
       "    </tr>\n",
       "    <tr>\n",
       "      <th>1</th>\n",
       "      <td>-122.347294</td>\n",
       "      <td>47.647172</td>\n",
       "      <td>Block</td>\n",
       "      <td>AURORA BR BETWEEN RAYE ST AND BRIDGE WAY N</td>\n",
       "      <td>Property Damage Only Collision</td>\n",
       "      <td>Sideswipe</td>\n",
       "      <td>2</td>\n",
       "      <td>0</td>\n",
       "      <td>0</td>\n",
       "      <td>2</td>\n",
       "      <td>12/20/2006 6:55:00 PM</td>\n",
       "      <td>Mid-Block (not related to intersection)</td>\n",
       "      <td>MOTOR VEHICLE STRUCK MOTOR VEHICLE, LEFT SIDE ...</td>\n",
       "      <td>0</td>\n",
       "      <td>Raining</td>\n",
       "      <td>Wet</td>\n",
       "      <td>Dark - Street Lights On</td>\n",
       "      <td>NaN</td>\n",
       "    </tr>\n",
       "    <tr>\n",
       "      <th>2</th>\n",
       "      <td>-122.334540</td>\n",
       "      <td>47.607871</td>\n",
       "      <td>Block</td>\n",
       "      <td>4TH AVE BETWEEN SENECA ST AND UNIVERSITY ST</td>\n",
       "      <td>Property Damage Only Collision</td>\n",
       "      <td>Parked Car</td>\n",
       "      <td>4</td>\n",
       "      <td>0</td>\n",
       "      <td>0</td>\n",
       "      <td>3</td>\n",
       "      <td>11/18/2004 10:20:00 AM</td>\n",
       "      <td>Mid-Block (not related to intersection)</td>\n",
       "      <td>MOTOR VEHICLE STRUCK MOTOR VEHICLE, REAR END</td>\n",
       "      <td>0</td>\n",
       "      <td>Overcast</td>\n",
       "      <td>Dry</td>\n",
       "      <td>Daylight</td>\n",
       "      <td>NaN</td>\n",
       "    </tr>\n",
       "    <tr>\n",
       "      <th>3</th>\n",
       "      <td>-122.334803</td>\n",
       "      <td>47.604803</td>\n",
       "      <td>Block</td>\n",
       "      <td>2ND AVE BETWEEN MARION ST AND MADISON ST</td>\n",
       "      <td>Property Damage Only Collision</td>\n",
       "      <td>Other</td>\n",
       "      <td>3</td>\n",
       "      <td>0</td>\n",
       "      <td>0</td>\n",
       "      <td>3</td>\n",
       "      <td>3/29/2013 9:26:00 AM</td>\n",
       "      <td>Mid-Block (not related to intersection)</td>\n",
       "      <td>MOTOR VEHICLE STRUCK MOTOR VEHICLE, FRONT END ...</td>\n",
       "      <td>N</td>\n",
       "      <td>Clear</td>\n",
       "      <td>Dry</td>\n",
       "      <td>Daylight</td>\n",
       "      <td>NaN</td>\n",
       "    </tr>\n",
       "    <tr>\n",
       "      <th>4</th>\n",
       "      <td>-122.306426</td>\n",
       "      <td>47.545739</td>\n",
       "      <td>Intersection</td>\n",
       "      <td>SWIFT AVE S AND SWIFT AV OFF RP</td>\n",
       "      <td>Injury Collision</td>\n",
       "      <td>Angles</td>\n",
       "      <td>2</td>\n",
       "      <td>0</td>\n",
       "      <td>0</td>\n",
       "      <td>2</td>\n",
       "      <td>1/28/2004 8:04:00 AM</td>\n",
       "      <td>At Intersection (intersection related)</td>\n",
       "      <td>MOTOR VEHICLE STRUCK MOTOR VEHICLE, FRONT END ...</td>\n",
       "      <td>0</td>\n",
       "      <td>Raining</td>\n",
       "      <td>Wet</td>\n",
       "      <td>Daylight</td>\n",
       "      <td>NaN</td>\n",
       "    </tr>\n",
       "  </tbody>\n",
       "</table>\n",
       "</div>"
      ],
      "text/plain": [
       "            X          Y      ADDRTYPE  \\\n",
       "0 -122.323148  47.703140  Intersection   \n",
       "1 -122.347294  47.647172         Block   \n",
       "2 -122.334540  47.607871         Block   \n",
       "3 -122.334803  47.604803         Block   \n",
       "4 -122.306426  47.545739  Intersection   \n",
       "\n",
       "                                      LOCATION  \\\n",
       "0                   5TH AVE NE AND NE 103RD ST   \n",
       "1   AURORA BR BETWEEN RAYE ST AND BRIDGE WAY N   \n",
       "2  4TH AVE BETWEEN SENECA ST AND UNIVERSITY ST   \n",
       "3     2ND AVE BETWEEN MARION ST AND MADISON ST   \n",
       "4              SWIFT AVE S AND SWIFT AV OFF RP   \n",
       "\n",
       "                     SEVERITYDESC COLLISIONTYPE  PERSONCOUNT  PEDCOUNT  \\\n",
       "0                Injury Collision        Angles            2         0   \n",
       "1  Property Damage Only Collision     Sideswipe            2         0   \n",
       "2  Property Damage Only Collision    Parked Car            4         0   \n",
       "3  Property Damage Only Collision         Other            3         0   \n",
       "4                Injury Collision        Angles            2         0   \n",
       "\n",
       "   PEDCYLCOUNT  VEHCOUNT                 INCDTTM  \\\n",
       "0            0         2    3/27/2013 2:54:00 PM   \n",
       "1            0         2   12/20/2006 6:55:00 PM   \n",
       "2            0         3  11/18/2004 10:20:00 AM   \n",
       "3            0         3    3/29/2013 9:26:00 AM   \n",
       "4            0         2    1/28/2004 8:04:00 AM   \n",
       "\n",
       "                              JUNCTIONTYPE  \\\n",
       "0   At Intersection (intersection related)   \n",
       "1  Mid-Block (not related to intersection)   \n",
       "2  Mid-Block (not related to intersection)   \n",
       "3  Mid-Block (not related to intersection)   \n",
       "4   At Intersection (intersection related)   \n",
       "\n",
       "                                        SDOT_COLDESC UNDERINFL   WEATHER  \\\n",
       "0  MOTOR VEHICLE STRUCK MOTOR VEHICLE, FRONT END ...         N  Overcast   \n",
       "1  MOTOR VEHICLE STRUCK MOTOR VEHICLE, LEFT SIDE ...         0   Raining   \n",
       "2       MOTOR VEHICLE STRUCK MOTOR VEHICLE, REAR END         0  Overcast   \n",
       "3  MOTOR VEHICLE STRUCK MOTOR VEHICLE, FRONT END ...         N     Clear   \n",
       "4  MOTOR VEHICLE STRUCK MOTOR VEHICLE, FRONT END ...         0   Raining   \n",
       "\n",
       "  ROADCOND                LIGHTCOND SPEEDING  \n",
       "0      Wet                 Daylight      NaN  \n",
       "1      Wet  Dark - Street Lights On      NaN  \n",
       "2      Dry                 Daylight      NaN  \n",
       "3      Dry                 Daylight      NaN  \n",
       "4      Wet                 Daylight      NaN  "
      ]
     },
     "execution_count": 22,
     "metadata": {},
     "output_type": "execute_result"
    }
   ],
   "source": [
    "df_drop.head()"
   ]
  },
  {
   "cell_type": "code",
   "execution_count": 23,
   "metadata": {},
   "outputs": [
    {
     "name": "stdout",
     "output_type": "stream",
     "text": [
      "<class 'pandas.core.frame.DataFrame'>\n",
      "RangeIndex: 194673 entries, 0 to 194672\n",
      "Data columns (total 18 columns):\n",
      " #   Column         Non-Null Count   Dtype  \n",
      "---  ------         --------------   -----  \n",
      " 0   X              189339 non-null  float64\n",
      " 1   Y              189339 non-null  float64\n",
      " 2   ADDRTYPE       192747 non-null  object \n",
      " 3   LOCATION       191996 non-null  object \n",
      " 4   SEVERITYDESC   194673 non-null  object \n",
      " 5   COLLISIONTYPE  189769 non-null  object \n",
      " 6   PERSONCOUNT    194673 non-null  int64  \n",
      " 7   PEDCOUNT       194673 non-null  int64  \n",
      " 8   PEDCYLCOUNT    194673 non-null  int64  \n",
      " 9   VEHCOUNT       194673 non-null  int64  \n",
      " 10  INCDTTM        194673 non-null  object \n",
      " 11  JUNCTIONTYPE   188344 non-null  object \n",
      " 12  SDOT_COLDESC   194673 non-null  object \n",
      " 13  UNDERINFL      189789 non-null  object \n",
      " 14  WEATHER        189592 non-null  object \n",
      " 15  ROADCOND       189661 non-null  object \n",
      " 16  LIGHTCOND      189503 non-null  object \n",
      " 17  SPEEDING       9333 non-null    object \n",
      "dtypes: float64(2), int64(4), object(12)\n",
      "memory usage: 26.7+ MB\n"
     ]
    }
   ],
   "source": [
    "df_drop.info()"
   ]
  },
  {
   "cell_type": "code",
   "execution_count": 24,
   "metadata": {},
   "outputs": [
    {
     "data": {
      "text/plain": [
       "(194673, 18)"
      ]
     },
     "execution_count": 24,
     "metadata": {},
     "output_type": "execute_result"
    }
   ],
   "source": [
    "df_drop.shape"
   ]
  },
  {
   "cell_type": "markdown",
   "metadata": {},
   "source": [
    "As it can be seen, we have reduced the shape of our working dataset from 38 features to 18 features."
   ]
  },
  {
   "cell_type": "markdown",
   "metadata": {},
   "source": [
    "'X' and 'Y' represents the log and lat, thus names of the columns are changed accordingly."
   ]
  },
  {
   "cell_type": "code",
   "execution_count": 25,
   "metadata": {},
   "outputs": [],
   "source": [
    "df_drop.rename(columns={'X': 'LOG', 'Y': 'LAT'}, inplace='True')"
   ]
  },
  {
   "cell_type": "markdown",
   "metadata": {},
   "source": [
    "Columns 'PEDCOUNT' and 'PEDCYLCOUNT' are merged under one non-vehicle feature 'NONVEH'."
   ]
  },
  {
   "cell_type": "code",
   "execution_count": 26,
   "metadata": {},
   "outputs": [],
   "source": [
    "df_drop['NONVEH']=df_drop['PEDCOUNT']+df_drop['PEDCYLCOUNT']"
   ]
  },
  {
   "cell_type": "code",
   "execution_count": 27,
   "metadata": {},
   "outputs": [],
   "source": [
    "df_drop=df_drop.drop(columns=['PEDCOUNT', 'PEDCYLCOUNT'], axis=1)"
   ]
  },
  {
   "cell_type": "code",
   "execution_count": 28,
   "metadata": {},
   "outputs": [
    {
     "data": {
      "text/plain": [
       "(194673, 17)"
      ]
     },
     "execution_count": 28,
     "metadata": {},
     "output_type": "execute_result"
    }
   ],
   "source": [
    "df_drop.shape"
   ]
  },
  {
   "cell_type": "code",
   "execution_count": 29,
   "metadata": {},
   "outputs": [
    {
     "data": {
      "text/html": [
       "<div>\n",
       "<style scoped>\n",
       "    .dataframe tbody tr th:only-of-type {\n",
       "        vertical-align: middle;\n",
       "    }\n",
       "\n",
       "    .dataframe tbody tr th {\n",
       "        vertical-align: top;\n",
       "    }\n",
       "\n",
       "    .dataframe thead th {\n",
       "        text-align: right;\n",
       "    }\n",
       "</style>\n",
       "<table border=\"1\" class=\"dataframe\">\n",
       "  <thead>\n",
       "    <tr style=\"text-align: right;\">\n",
       "      <th></th>\n",
       "      <th>LOG</th>\n",
       "      <th>LAT</th>\n",
       "      <th>ADDRTYPE</th>\n",
       "      <th>LOCATION</th>\n",
       "      <th>SEVERITYDESC</th>\n",
       "      <th>COLLISIONTYPE</th>\n",
       "      <th>PERSONCOUNT</th>\n",
       "      <th>VEHCOUNT</th>\n",
       "      <th>INCDTTM</th>\n",
       "      <th>JUNCTIONTYPE</th>\n",
       "      <th>SDOT_COLDESC</th>\n",
       "      <th>UNDERINFL</th>\n",
       "      <th>WEATHER</th>\n",
       "      <th>ROADCOND</th>\n",
       "      <th>LIGHTCOND</th>\n",
       "      <th>SPEEDING</th>\n",
       "      <th>NONVEH</th>\n",
       "    </tr>\n",
       "  </thead>\n",
       "  <tbody>\n",
       "    <tr>\n",
       "      <th>0</th>\n",
       "      <td>-122.323148</td>\n",
       "      <td>47.703140</td>\n",
       "      <td>Intersection</td>\n",
       "      <td>5TH AVE NE AND NE 103RD ST</td>\n",
       "      <td>Injury Collision</td>\n",
       "      <td>Angles</td>\n",
       "      <td>2</td>\n",
       "      <td>2</td>\n",
       "      <td>3/27/2013 2:54:00 PM</td>\n",
       "      <td>At Intersection (intersection related)</td>\n",
       "      <td>MOTOR VEHICLE STRUCK MOTOR VEHICLE, FRONT END ...</td>\n",
       "      <td>N</td>\n",
       "      <td>Overcast</td>\n",
       "      <td>Wet</td>\n",
       "      <td>Daylight</td>\n",
       "      <td>NaN</td>\n",
       "      <td>0</td>\n",
       "    </tr>\n",
       "    <tr>\n",
       "      <th>1</th>\n",
       "      <td>-122.347294</td>\n",
       "      <td>47.647172</td>\n",
       "      <td>Block</td>\n",
       "      <td>AURORA BR BETWEEN RAYE ST AND BRIDGE WAY N</td>\n",
       "      <td>Property Damage Only Collision</td>\n",
       "      <td>Sideswipe</td>\n",
       "      <td>2</td>\n",
       "      <td>2</td>\n",
       "      <td>12/20/2006 6:55:00 PM</td>\n",
       "      <td>Mid-Block (not related to intersection)</td>\n",
       "      <td>MOTOR VEHICLE STRUCK MOTOR VEHICLE, LEFT SIDE ...</td>\n",
       "      <td>0</td>\n",
       "      <td>Raining</td>\n",
       "      <td>Wet</td>\n",
       "      <td>Dark - Street Lights On</td>\n",
       "      <td>NaN</td>\n",
       "      <td>0</td>\n",
       "    </tr>\n",
       "    <tr>\n",
       "      <th>2</th>\n",
       "      <td>-122.334540</td>\n",
       "      <td>47.607871</td>\n",
       "      <td>Block</td>\n",
       "      <td>4TH AVE BETWEEN SENECA ST AND UNIVERSITY ST</td>\n",
       "      <td>Property Damage Only Collision</td>\n",
       "      <td>Parked Car</td>\n",
       "      <td>4</td>\n",
       "      <td>3</td>\n",
       "      <td>11/18/2004 10:20:00 AM</td>\n",
       "      <td>Mid-Block (not related to intersection)</td>\n",
       "      <td>MOTOR VEHICLE STRUCK MOTOR VEHICLE, REAR END</td>\n",
       "      <td>0</td>\n",
       "      <td>Overcast</td>\n",
       "      <td>Dry</td>\n",
       "      <td>Daylight</td>\n",
       "      <td>NaN</td>\n",
       "      <td>0</td>\n",
       "    </tr>\n",
       "    <tr>\n",
       "      <th>3</th>\n",
       "      <td>-122.334803</td>\n",
       "      <td>47.604803</td>\n",
       "      <td>Block</td>\n",
       "      <td>2ND AVE BETWEEN MARION ST AND MADISON ST</td>\n",
       "      <td>Property Damage Only Collision</td>\n",
       "      <td>Other</td>\n",
       "      <td>3</td>\n",
       "      <td>3</td>\n",
       "      <td>3/29/2013 9:26:00 AM</td>\n",
       "      <td>Mid-Block (not related to intersection)</td>\n",
       "      <td>MOTOR VEHICLE STRUCK MOTOR VEHICLE, FRONT END ...</td>\n",
       "      <td>N</td>\n",
       "      <td>Clear</td>\n",
       "      <td>Dry</td>\n",
       "      <td>Daylight</td>\n",
       "      <td>NaN</td>\n",
       "      <td>0</td>\n",
       "    </tr>\n",
       "    <tr>\n",
       "      <th>4</th>\n",
       "      <td>-122.306426</td>\n",
       "      <td>47.545739</td>\n",
       "      <td>Intersection</td>\n",
       "      <td>SWIFT AVE S AND SWIFT AV OFF RP</td>\n",
       "      <td>Injury Collision</td>\n",
       "      <td>Angles</td>\n",
       "      <td>2</td>\n",
       "      <td>2</td>\n",
       "      <td>1/28/2004 8:04:00 AM</td>\n",
       "      <td>At Intersection (intersection related)</td>\n",
       "      <td>MOTOR VEHICLE STRUCK MOTOR VEHICLE, FRONT END ...</td>\n",
       "      <td>0</td>\n",
       "      <td>Raining</td>\n",
       "      <td>Wet</td>\n",
       "      <td>Daylight</td>\n",
       "      <td>NaN</td>\n",
       "      <td>0</td>\n",
       "    </tr>\n",
       "  </tbody>\n",
       "</table>\n",
       "</div>"
      ],
      "text/plain": [
       "          LOG        LAT      ADDRTYPE  \\\n",
       "0 -122.323148  47.703140  Intersection   \n",
       "1 -122.347294  47.647172         Block   \n",
       "2 -122.334540  47.607871         Block   \n",
       "3 -122.334803  47.604803         Block   \n",
       "4 -122.306426  47.545739  Intersection   \n",
       "\n",
       "                                      LOCATION  \\\n",
       "0                   5TH AVE NE AND NE 103RD ST   \n",
       "1   AURORA BR BETWEEN RAYE ST AND BRIDGE WAY N   \n",
       "2  4TH AVE BETWEEN SENECA ST AND UNIVERSITY ST   \n",
       "3     2ND AVE BETWEEN MARION ST AND MADISON ST   \n",
       "4              SWIFT AVE S AND SWIFT AV OFF RP   \n",
       "\n",
       "                     SEVERITYDESC COLLISIONTYPE  PERSONCOUNT  VEHCOUNT  \\\n",
       "0                Injury Collision        Angles            2         2   \n",
       "1  Property Damage Only Collision     Sideswipe            2         2   \n",
       "2  Property Damage Only Collision    Parked Car            4         3   \n",
       "3  Property Damage Only Collision         Other            3         3   \n",
       "4                Injury Collision        Angles            2         2   \n",
       "\n",
       "                  INCDTTM                             JUNCTIONTYPE  \\\n",
       "0    3/27/2013 2:54:00 PM   At Intersection (intersection related)   \n",
       "1   12/20/2006 6:55:00 PM  Mid-Block (not related to intersection)   \n",
       "2  11/18/2004 10:20:00 AM  Mid-Block (not related to intersection)   \n",
       "3    3/29/2013 9:26:00 AM  Mid-Block (not related to intersection)   \n",
       "4    1/28/2004 8:04:00 AM   At Intersection (intersection related)   \n",
       "\n",
       "                                        SDOT_COLDESC UNDERINFL   WEATHER  \\\n",
       "0  MOTOR VEHICLE STRUCK MOTOR VEHICLE, FRONT END ...         N  Overcast   \n",
       "1  MOTOR VEHICLE STRUCK MOTOR VEHICLE, LEFT SIDE ...         0   Raining   \n",
       "2       MOTOR VEHICLE STRUCK MOTOR VEHICLE, REAR END         0  Overcast   \n",
       "3  MOTOR VEHICLE STRUCK MOTOR VEHICLE, FRONT END ...         N     Clear   \n",
       "4  MOTOR VEHICLE STRUCK MOTOR VEHICLE, FRONT END ...         0   Raining   \n",
       "\n",
       "  ROADCOND                LIGHTCOND SPEEDING  NONVEH  \n",
       "0      Wet                 Daylight      NaN       0  \n",
       "1      Wet  Dark - Street Lights On      NaN       0  \n",
       "2      Dry                 Daylight      NaN       0  \n",
       "3      Dry                 Daylight      NaN       0  \n",
       "4      Wet                 Daylight      NaN       0  "
      ]
     },
     "execution_count": 29,
     "metadata": {},
     "output_type": "execute_result"
    }
   ],
   "source": [
    "df_drop.head()"
   ]
  },
  {
   "cell_type": "code",
   "execution_count": 30,
   "metadata": {},
   "outputs": [
    {
     "data": {
      "text/plain": [
       "0    0.936663\n",
       "1    0.061349\n",
       "2    0.001829\n",
       "3    0.000128\n",
       "4    0.000021\n",
       "6    0.000005\n",
       "5    0.000005\n",
       "Name: NONVEH, dtype: float64"
      ]
     },
     "execution_count": 30,
     "metadata": {},
     "output_type": "execute_result"
    }
   ],
   "source": [
    "df_drop['NONVEH'].value_counts(normalize=True)"
   ]
  },
  {
   "cell_type": "markdown",
   "metadata": {},
   "source": [
    "As we can see, 94% of the cases did not registered any non vehicle involved. Only about 6% of cases shows involvement into the accident of pedestrians or cyclists."
   ]
  },
  {
   "cell_type": "markdown",
   "metadata": {},
   "source": [
    "Values of the SEVERITYDESC attribute will be renamed just to keep it simple."
   ]
  },
  {
   "cell_type": "code",
   "execution_count": 31,
   "metadata": {},
   "outputs": [],
   "source": [
    "df_drop['SEVERITYDESC']=df_drop['SEVERITYDESC'].replace(['Property Damage Only Collision', 'Injury Collision'],['Property damage','Injury'])"
   ]
  },
  {
   "cell_type": "code",
   "execution_count": 32,
   "metadata": {},
   "outputs": [
    {
     "data": {
      "text/html": [
       "<div>\n",
       "<style scoped>\n",
       "    .dataframe tbody tr th:only-of-type {\n",
       "        vertical-align: middle;\n",
       "    }\n",
       "\n",
       "    .dataframe tbody tr th {\n",
       "        vertical-align: top;\n",
       "    }\n",
       "\n",
       "    .dataframe thead th {\n",
       "        text-align: right;\n",
       "    }\n",
       "</style>\n",
       "<table border=\"1\" class=\"dataframe\">\n",
       "  <thead>\n",
       "    <tr style=\"text-align: right;\">\n",
       "      <th></th>\n",
       "      <th>LOG</th>\n",
       "      <th>LAT</th>\n",
       "      <th>ADDRTYPE</th>\n",
       "      <th>LOCATION</th>\n",
       "      <th>SEVERITYDESC</th>\n",
       "      <th>COLLISIONTYPE</th>\n",
       "      <th>PERSONCOUNT</th>\n",
       "      <th>VEHCOUNT</th>\n",
       "      <th>INCDTTM</th>\n",
       "      <th>JUNCTIONTYPE</th>\n",
       "      <th>SDOT_COLDESC</th>\n",
       "      <th>UNDERINFL</th>\n",
       "      <th>WEATHER</th>\n",
       "      <th>ROADCOND</th>\n",
       "      <th>LIGHTCOND</th>\n",
       "      <th>SPEEDING</th>\n",
       "      <th>NONVEH</th>\n",
       "    </tr>\n",
       "  </thead>\n",
       "  <tbody>\n",
       "    <tr>\n",
       "      <th>0</th>\n",
       "      <td>-122.323148</td>\n",
       "      <td>47.703140</td>\n",
       "      <td>Intersection</td>\n",
       "      <td>5TH AVE NE AND NE 103RD ST</td>\n",
       "      <td>Injury</td>\n",
       "      <td>Angles</td>\n",
       "      <td>2</td>\n",
       "      <td>2</td>\n",
       "      <td>3/27/2013 2:54:00 PM</td>\n",
       "      <td>At Intersection (intersection related)</td>\n",
       "      <td>MOTOR VEHICLE STRUCK MOTOR VEHICLE, FRONT END ...</td>\n",
       "      <td>N</td>\n",
       "      <td>Overcast</td>\n",
       "      <td>Wet</td>\n",
       "      <td>Daylight</td>\n",
       "      <td>NaN</td>\n",
       "      <td>0</td>\n",
       "    </tr>\n",
       "    <tr>\n",
       "      <th>1</th>\n",
       "      <td>-122.347294</td>\n",
       "      <td>47.647172</td>\n",
       "      <td>Block</td>\n",
       "      <td>AURORA BR BETWEEN RAYE ST AND BRIDGE WAY N</td>\n",
       "      <td>Property damage</td>\n",
       "      <td>Sideswipe</td>\n",
       "      <td>2</td>\n",
       "      <td>2</td>\n",
       "      <td>12/20/2006 6:55:00 PM</td>\n",
       "      <td>Mid-Block (not related to intersection)</td>\n",
       "      <td>MOTOR VEHICLE STRUCK MOTOR VEHICLE, LEFT SIDE ...</td>\n",
       "      <td>0</td>\n",
       "      <td>Raining</td>\n",
       "      <td>Wet</td>\n",
       "      <td>Dark - Street Lights On</td>\n",
       "      <td>NaN</td>\n",
       "      <td>0</td>\n",
       "    </tr>\n",
       "  </tbody>\n",
       "</table>\n",
       "</div>"
      ],
      "text/plain": [
       "          LOG        LAT      ADDRTYPE  \\\n",
       "0 -122.323148  47.703140  Intersection   \n",
       "1 -122.347294  47.647172         Block   \n",
       "\n",
       "                                     LOCATION     SEVERITYDESC COLLISIONTYPE  \\\n",
       "0                  5TH AVE NE AND NE 103RD ST           Injury        Angles   \n",
       "1  AURORA BR BETWEEN RAYE ST AND BRIDGE WAY N  Property damage     Sideswipe   \n",
       "\n",
       "   PERSONCOUNT  VEHCOUNT                INCDTTM  \\\n",
       "0            2         2   3/27/2013 2:54:00 PM   \n",
       "1            2         2  12/20/2006 6:55:00 PM   \n",
       "\n",
       "                              JUNCTIONTYPE  \\\n",
       "0   At Intersection (intersection related)   \n",
       "1  Mid-Block (not related to intersection)   \n",
       "\n",
       "                                        SDOT_COLDESC UNDERINFL   WEATHER  \\\n",
       "0  MOTOR VEHICLE STRUCK MOTOR VEHICLE, FRONT END ...         N  Overcast   \n",
       "1  MOTOR VEHICLE STRUCK MOTOR VEHICLE, LEFT SIDE ...         0   Raining   \n",
       "\n",
       "  ROADCOND                LIGHTCOND SPEEDING  NONVEH  \n",
       "0      Wet                 Daylight      NaN       0  \n",
       "1      Wet  Dark - Street Lights On      NaN       0  "
      ]
     },
     "execution_count": 32,
     "metadata": {},
     "output_type": "execute_result"
    }
   ],
   "source": [
    "df_drop.head(2)"
   ]
  },
  {
   "cell_type": "markdown",
   "metadata": {},
   "source": [
    "Features 'MONTH', 'DATE', 'TIME', 'WKDAY' are added to cross check the validity of variables from other columns, such as 'Daylight' from column 'LIGHTCOND' and we will try to extract some useful information based on new detailed data. "
   ]
  },
  {
   "cell_type": "code",
   "execution_count": 33,
   "metadata": {},
   "outputs": [],
   "source": [
    "df_drop['DATE'] = pd.to_datetime(df_drop['INCDTTM'], errors='coerce').dt.date\n",
    "df_drop['MONTH'] = pd.to_datetime(df_drop['INCDTTM'], errors='coerce').dt.month_name()\n",
    "df_drop['TIME'] = pd.to_datetime(df_drop['INCDTTM'], errors='coerce').dt.time\n",
    "df_drop['WKDAY'] = pd.to_datetime(df_drop['INCDTTM'], errors='coerce').dt.day_name()"
   ]
  },
  {
   "cell_type": "markdown",
   "metadata": {},
   "source": [
    "# Values exploration (NaN, missing, wrong coding, and so on)"
   ]
  },
  {
   "cell_type": "markdown",
   "metadata": {},
   "source": [
    "Column 'UNDERINFL' register two formats of the same binary data: 0 / 1, and Y / N. Thus, 0/1 are converted to Y/N"
   ]
  },
  {
   "cell_type": "code",
   "execution_count": 34,
   "metadata": {},
   "outputs": [
    {
     "data": {
      "text/plain": [
       "N    100274\n",
       "0     80394\n",
       "Y      5126\n",
       "1      3995\n",
       "Name: UNDERINFL, dtype: int64"
      ]
     },
     "execution_count": 34,
     "metadata": {},
     "output_type": "execute_result"
    }
   ],
   "source": [
    "df_drop['UNDERINFL'].value_counts()"
   ]
  },
  {
   "cell_type": "code",
   "execution_count": 37,
   "metadata": {},
   "outputs": [],
   "source": [
    "df_drop['UNDERINFL']=df_drop['UNDERINFL'].replace(['0','1'],['N','Y'])"
   ]
  },
  {
   "cell_type": "code",
   "execution_count": 38,
   "metadata": {},
   "outputs": [
    {
     "data": {
      "text/plain": [
       "N      180668\n",
       "Y        9121\n",
       "NaN      4884\n",
       "Name: UNDERINFL, dtype: int64"
      ]
     },
     "execution_count": 38,
     "metadata": {},
     "output_type": "execute_result"
    }
   ],
   "source": [
    "df_drop['UNDERINFL'].value_counts(dropna=False)"
   ]
  },
  {
   "cell_type": "markdown",
   "metadata": {},
   "source": [
    "We have NaN values, however in case of some accident it is virtually impossible to ignore the under influence state of the driver. Also, due to legal implication, by misstake no police officer will report a non-under influence as an under-influence. Thus, the NaN values can be safely converted to 'N'."
   ]
  },
  {
   "cell_type": "code",
   "execution_count": 39,
   "metadata": {},
   "outputs": [],
   "source": [
    "df_drop['UNDERINFL'] = df_drop['UNDERINFL'].fillna('N')"
   ]
  },
  {
   "cell_type": "code",
   "execution_count": 40,
   "metadata": {},
   "outputs": [
    {
     "data": {
      "text/plain": [
       "N    185552\n",
       "Y      9121\n",
       "Name: UNDERINFL, dtype: int64"
      ]
     },
     "execution_count": 40,
     "metadata": {},
     "output_type": "execute_result"
    }
   ],
   "source": [
    "df_drop['UNDERINFL'].value_counts(dropna=False)"
   ]
  },
  {
   "cell_type": "code",
   "execution_count": 41,
   "metadata": {},
   "outputs": [
    {
     "data": {
      "text/plain": [
       "N    0.953147\n",
       "Y    0.046853\n",
       "Name: UNDERINFL, dtype: float64"
      ]
     },
     "execution_count": 41,
     "metadata": {},
     "output_type": "execute_result"
    }
   ],
   "source": [
    "df_drop['UNDERINFL'].value_counts(dropna=False, normalize=True)"
   ]
  },
  {
   "cell_type": "markdown",
   "metadata": {},
   "source": [
    "As we can see, 4.6% of the accidents involved under-influence drivers."
   ]
  },
  {
   "cell_type": "code",
   "execution_count": 42,
   "metadata": {},
   "outputs": [
    {
     "data": {
      "text/plain": [
       "NaN    185340\n",
       "Y        9333\n",
       "Name: SPEEDING, dtype: int64"
      ]
     },
     "execution_count": 42,
     "metadata": {},
     "output_type": "execute_result"
    }
   ],
   "source": [
    "df_drop['SPEEDING'].value_counts(dropna=False)"
   ]
  },
  {
   "cell_type": "markdown",
   "metadata": {},
   "source": [
    "It can be observed thar column 'SPEEDING' registers binary data. However, all the 'N' are registered as NaN. As with 'UNDERINFL' column, it is assumed that wrongfully registering non-speeding event as a speeding one are very unlikely. Vice-versa should hold true as well. Thus, all the missing values 'NaN' are converted to 'N'."
   ]
  },
  {
   "cell_type": "code",
   "execution_count": 43,
   "metadata": {},
   "outputs": [],
   "source": [
    "df_drop['SPEEDING'] = df_drop['SPEEDING'].fillna('N')"
   ]
  },
  {
   "cell_type": "code",
   "execution_count": 44,
   "metadata": {},
   "outputs": [
    {
     "data": {
      "text/plain": [
       "N    185340\n",
       "Y      9333\n",
       "Name: SPEEDING, dtype: int64"
      ]
     },
     "execution_count": 44,
     "metadata": {},
     "output_type": "execute_result"
    }
   ],
   "source": [
    "df_drop['SPEEDING'].value_counts(dropna=False)"
   ]
  },
  {
   "cell_type": "code",
   "execution_count": 45,
   "metadata": {},
   "outputs": [
    {
     "data": {
      "text/plain": [
       "N    0.952058\n",
       "Y    0.047942\n",
       "Name: SPEEDING, dtype: float64"
      ]
     },
     "execution_count": 45,
     "metadata": {},
     "output_type": "execute_result"
    }
   ],
   "source": [
    "df_drop['SPEEDING'].value_counts(dropna=False, normalize=True)"
   ]
  },
  {
   "cell_type": "markdown",
   "metadata": {},
   "source": [
    "As we can see, about 4.8% of accidents involves speeding violation."
   ]
  },
  {
   "cell_type": "code",
   "execution_count": 46,
   "metadata": {},
   "outputs": [
    {
     "data": {
      "text/html": [
       "<div>\n",
       "<style scoped>\n",
       "    .dataframe tbody tr th:only-of-type {\n",
       "        vertical-align: middle;\n",
       "    }\n",
       "\n",
       "    .dataframe tbody tr th {\n",
       "        vertical-align: top;\n",
       "    }\n",
       "\n",
       "    .dataframe thead th {\n",
       "        text-align: right;\n",
       "    }\n",
       "</style>\n",
       "<table border=\"1\" class=\"dataframe\">\n",
       "  <thead>\n",
       "    <tr style=\"text-align: right;\">\n",
       "      <th></th>\n",
       "      <th>LOG</th>\n",
       "      <th>LAT</th>\n",
       "      <th>ADDRTYPE</th>\n",
       "      <th>LOCATION</th>\n",
       "      <th>SEVERITYDESC</th>\n",
       "      <th>COLLISIONTYPE</th>\n",
       "      <th>PERSONCOUNT</th>\n",
       "      <th>VEHCOUNT</th>\n",
       "      <th>INCDTTM</th>\n",
       "      <th>JUNCTIONTYPE</th>\n",
       "      <th>...</th>\n",
       "      <th>UNDERINFL</th>\n",
       "      <th>WEATHER</th>\n",
       "      <th>ROADCOND</th>\n",
       "      <th>LIGHTCOND</th>\n",
       "      <th>SPEEDING</th>\n",
       "      <th>NONVEH</th>\n",
       "      <th>DATE</th>\n",
       "      <th>MONTH</th>\n",
       "      <th>TIME</th>\n",
       "      <th>WKDAY</th>\n",
       "    </tr>\n",
       "  </thead>\n",
       "  <tbody>\n",
       "    <tr>\n",
       "      <th>0</th>\n",
       "      <td>-122.323148</td>\n",
       "      <td>47.703140</td>\n",
       "      <td>Intersection</td>\n",
       "      <td>5TH AVE NE AND NE 103RD ST</td>\n",
       "      <td>Injury</td>\n",
       "      <td>Angles</td>\n",
       "      <td>2</td>\n",
       "      <td>2</td>\n",
       "      <td>3/27/2013 2:54:00 PM</td>\n",
       "      <td>At Intersection (intersection related)</td>\n",
       "      <td>...</td>\n",
       "      <td>N</td>\n",
       "      <td>Overcast</td>\n",
       "      <td>Wet</td>\n",
       "      <td>Daylight</td>\n",
       "      <td>N</td>\n",
       "      <td>0</td>\n",
       "      <td>2013-03-27</td>\n",
       "      <td>March</td>\n",
       "      <td>14:54:00</td>\n",
       "      <td>Wednesday</td>\n",
       "    </tr>\n",
       "    <tr>\n",
       "      <th>1</th>\n",
       "      <td>-122.347294</td>\n",
       "      <td>47.647172</td>\n",
       "      <td>Block</td>\n",
       "      <td>AURORA BR BETWEEN RAYE ST AND BRIDGE WAY N</td>\n",
       "      <td>Property damage</td>\n",
       "      <td>Sideswipe</td>\n",
       "      <td>2</td>\n",
       "      <td>2</td>\n",
       "      <td>12/20/2006 6:55:00 PM</td>\n",
       "      <td>Mid-Block (not related to intersection)</td>\n",
       "      <td>...</td>\n",
       "      <td>N</td>\n",
       "      <td>Raining</td>\n",
       "      <td>Wet</td>\n",
       "      <td>Dark - Street Lights On</td>\n",
       "      <td>N</td>\n",
       "      <td>0</td>\n",
       "      <td>2006-12-20</td>\n",
       "      <td>December</td>\n",
       "      <td>18:55:00</td>\n",
       "      <td>Wednesday</td>\n",
       "    </tr>\n",
       "  </tbody>\n",
       "</table>\n",
       "<p>2 rows × 21 columns</p>\n",
       "</div>"
      ],
      "text/plain": [
       "          LOG        LAT      ADDRTYPE  \\\n",
       "0 -122.323148  47.703140  Intersection   \n",
       "1 -122.347294  47.647172         Block   \n",
       "\n",
       "                                     LOCATION     SEVERITYDESC COLLISIONTYPE  \\\n",
       "0                  5TH AVE NE AND NE 103RD ST           Injury        Angles   \n",
       "1  AURORA BR BETWEEN RAYE ST AND BRIDGE WAY N  Property damage     Sideswipe   \n",
       "\n",
       "   PERSONCOUNT  VEHCOUNT                INCDTTM  \\\n",
       "0            2         2   3/27/2013 2:54:00 PM   \n",
       "1            2         2  12/20/2006 6:55:00 PM   \n",
       "\n",
       "                              JUNCTIONTYPE  ... UNDERINFL   WEATHER ROADCOND  \\\n",
       "0   At Intersection (intersection related)  ...         N  Overcast      Wet   \n",
       "1  Mid-Block (not related to intersection)  ...         N   Raining      Wet   \n",
       "\n",
       "                 LIGHTCOND SPEEDING NONVEH        DATE     MONTH      TIME  \\\n",
       "0                 Daylight        N      0  2013-03-27     March  14:54:00   \n",
       "1  Dark - Street Lights On        N      0  2006-12-20  December  18:55:00   \n",
       "\n",
       "       WKDAY  \n",
       "0  Wednesday  \n",
       "1  Wednesday  \n",
       "\n",
       "[2 rows x 21 columns]"
      ]
     },
     "execution_count": 46,
     "metadata": {},
     "output_type": "execute_result"
    }
   ],
   "source": [
    "df_drop.head(2)"
   ]
  },
  {
   "cell_type": "markdown",
   "metadata": {},
   "source": [
    "The data set contains missing values. Few steps will be taken to address this problem."
   ]
  },
  {
   "cell_type": "code",
   "execution_count": 47,
   "metadata": {},
   "outputs": [
    {
     "data": {
      "text/plain": [
       "LOG              5334\n",
       "LAT              5334\n",
       "ADDRTYPE         1926\n",
       "LOCATION         2677\n",
       "COLLISIONTYPE    4904\n",
       "JUNCTIONTYPE     6329\n",
       "WEATHER          5081\n",
       "ROADCOND         5012\n",
       "LIGHTCOND        5170\n",
       "dtype: int64"
      ]
     },
     "execution_count": 47,
     "metadata": {},
     "output_type": "execute_result"
    }
   ],
   "source": [
    "null_columns=df_drop.columns[df_drop.isnull().any()]\n",
    "df_drop[null_columns].isnull().sum()"
   ]
  },
  {
   "cell_type": "code",
   "execution_count": 48,
   "metadata": {},
   "outputs": [
    {
     "data": {
      "text/plain": [
       "Daylight                    116137\n",
       "Dark - Street Lights On      48507\n",
       "Unknown                      13473\n",
       "Dusk                          5902\n",
       "NaN                           5170\n",
       "Dawn                          2502\n",
       "Dark - No Street Lights       1537\n",
       "Dark - Street Lights Off      1199\n",
       "Other                          235\n",
       "Dark - Unknown Lighting         11\n",
       "Name: LIGHTCOND, dtype: int64"
      ]
     },
     "execution_count": 48,
     "metadata": {},
     "output_type": "execute_result"
    }
   ],
   "source": [
    "df_drop['LIGHTCOND'].value_counts(dropna=False)"
   ]
  },
  {
   "cell_type": "markdown",
   "metadata": {},
   "source": [
    "9 columns, identified above, present observations with missing values. To some degree these values safely can be manipulated. As an example, missing values of the 'LIGHTCOND' feature can be replaced with value 'Daylight', since we have needed information in other columns. In addition, values 'Dark - Unknown Lighting', 'Dark - Street Lights Off', 'Dark - No Street Lights' will be merged since it presents virtually the same information under different wording."
   ]
  },
  {
   "cell_type": "code",
   "execution_count": 49,
   "metadata": {},
   "outputs": [],
   "source": [
    "df_drop['LIGHTCOND']=df_drop['LIGHTCOND'].replace(['Dark - Street Lights Off', 'Dark - Unknown Lighting'],'Dark - No Street Lights')"
   ]
  },
  {
   "cell_type": "code",
   "execution_count": 50,
   "metadata": {},
   "outputs": [
    {
     "data": {
      "text/plain": [
       "Daylight                   116137\n",
       "Dark - Street Lights On     48507\n",
       "Unknown                     13473\n",
       "Dusk                         5902\n",
       "NaN                          5170\n",
       "Dark - No Street Lights      2747\n",
       "Dawn                         2502\n",
       "Other                         235\n",
       "Name: LIGHTCOND, dtype: int64"
      ]
     },
     "execution_count": 50,
     "metadata": {},
     "output_type": "execute_result"
    }
   ],
   "source": [
    "df_drop['LIGHTCOND'].value_counts(dropna=False)"
   ]
  },
  {
   "cell_type": "code",
   "execution_count": 51,
   "metadata": {},
   "outputs": [],
   "source": [
    "# Converted time and month to int to be able to manipulate the data. \n",
    "df_drop['TIME'] = pd.to_datetime(df_drop['INCDTTM'], errors='coerce').dt.hour\n",
    "df_drop['MONTH'] = pd.to_datetime(df_drop['INCDTTM'], errors='coerce').dt.month\n",
    "\n",
    "# Cheching the daytime based on hours and months and replacing the NAN values in 'LIGHTCOND' columns with 'Daylight'\n",
    "df_drop.loc[(df_drop['TIME'] >= 7) & (df_drop['TIME'] <= 19) & (df_drop['MONTH'] == 4) & df_drop['LIGHTCOND'].isnull(), 'LIGHTCOND'] = 'Daylight'\n",
    "df_drop.loc[(df_drop['TIME'] >= 6) & (df_drop['TIME'] <= 20) & (df_drop['MONTH'] == 5) & df_drop['LIGHTCOND'].isnull(), 'LIGHTCOND'] = 'Daylight'\n",
    "df_drop.loc[(df_drop['TIME'] >= 5) & (df_drop['TIME'] <= 21) & (df_drop['MONTH'] == 6) & df_drop['LIGHTCOND'].isnull(), 'LIGHTCOND'] = 'Daylight'\n",
    "df_drop.loc[(df_drop['TIME'] >= 5) & (df_drop['TIME'] <= 21) & (df_drop['MONTH'] == 7) & df_drop['LIGHTCOND'].isnull(), 'LIGHTCOND'] = 'Daylight'\n",
    "df_drop.loc[(df_drop['TIME'] >= 6) & (df_drop['TIME'] <= 20) & (df_drop['MONTH'] == 8) & df_drop['LIGHTCOND'].isnull(), 'LIGHTCOND'] = 'Daylight'\n",
    "\n",
    "df_drop.loc[(df_drop['TIME'] >= 6) & (df_drop['TIME'] <= 19) & (df_drop['MONTH'] == 9) & df_drop['LIGHTCOND'].isnull(), 'LIGHTCOND'] = 'Daylight'\n",
    "df_drop.loc[(df_drop['TIME'] >= 7) & (df_drop['TIME'] <= 18) & (df_drop['MONTH'] == 10) & df_drop['LIGHTCOND'].isnull(), 'LIGHTCOND'] = 'Daylight'\n",
    "df_drop.loc[(df_drop['TIME'] >= 7) & (df_drop['TIME'] <= 16) & (df_drop['MONTH'] == 11) & df_drop['LIGHTCOND'].isnull(), 'LIGHTCOND'] = 'Daylight'\n",
    "df_drop.loc[(df_drop['TIME'] >= 7) & (df_drop['TIME'] <= 16) & (df_drop['MONTH'] == 12) & df_drop['LIGHTCOND'].isnull(), 'LIGHTCOND'] = 'Daylight'\n",
    "df_drop.loc[(df_drop['TIME'] >= 7) & (df_drop['TIME'] <= 16) & (df_drop['MONTH'] == 1) & df_drop['LIGHTCOND'].isnull(), 'LIGHTCOND'] = 'Daylight'\n",
    "df_drop.loc[(df_drop['TIME'] >= 7) & (df_drop['TIME'] <= 17) & (df_drop['MONTH'] == 2) & df_drop['LIGHTCOND'].isnull(), 'LIGHTCOND'] = 'Daylight'\n",
    "df_drop.loc[(df_drop['TIME'] >= 7) & (df_drop['TIME'] <= 19) & (df_drop['MONTH'] == 3) & df_drop['LIGHTCOND'].isnull(), 'LIGHTCOND'] = 'Daylight'"
   ]
  },
  {
   "cell_type": "code",
   "execution_count": 52,
   "metadata": {},
   "outputs": [
    {
     "data": {
      "text/plain": [
       "Daylight                   116317\n",
       "Dark - Street Lights On     48507\n",
       "Unknown                     13473\n",
       "Dusk                         5902\n",
       "NaN                          4990\n",
       "Dark - No Street Lights      2747\n",
       "Dawn                         2502\n",
       "Other                         235\n",
       "Name: LIGHTCOND, dtype: int64"
      ]
     },
     "execution_count": 52,
     "metadata": {},
     "output_type": "execute_result"
    }
   ],
   "source": [
    "df_drop['LIGHTCOND'].value_counts(dropna=False)"
   ]
  },
  {
   "cell_type": "markdown",
   "metadata": {},
   "source": [
    "It was identified 180 observations that were missing and replaced the NaN with 'Daylight' attribute."
   ]
  },
  {
   "cell_type": "markdown",
   "metadata": {},
   "source": [
    "For the night time is a little bit trickier. Apparentely, the 'Unknown' or 'NaN' values are introduced as a midnight or '0:00:00'."
   ]
  },
  {
   "cell_type": "code",
   "execution_count": 53,
   "metadata": {},
   "outputs": [
    {
     "data": {
      "text/plain": [
       "0     34381\n",
       "17    12947\n",
       "16    12122\n",
       "15    11514\n",
       "14    10615\n",
       "12    10384\n",
       "13    10219\n",
       "18     9743\n",
       "8      8570\n",
       "11     8209\n",
       "9      8052\n",
       "10     7465\n",
       "19     7256\n",
       "7      6543\n",
       "20     6236\n",
       "21     5571\n",
       "22     5468\n",
       "23     4611\n",
       "2      3606\n",
       "1      3408\n",
       "6      3199\n",
       "5      1667\n",
       "3      1665\n",
       "4      1222\n",
       "Name: TIME, dtype: int64"
      ]
     },
     "execution_count": 53,
     "metadata": {},
     "output_type": "execute_result"
    }
   ],
   "source": [
    "df_drop['TIME'].value_counts(dropna=False, sort=True)"
   ]
  },
  {
   "cell_type": "markdown",
   "metadata": {},
   "source": [
    "In fact, accidents in the evening and untill early in the morning constantly decreasing in the number. Thus, around midnight, considering the trend, should be around 4 thousands cases not over 34 thousands as the data shows us. One of the explanations, as I mentioned above, is the fact that missing data takes midnight hour."
   ]
  },
  {
   "cell_type": "markdown",
   "metadata": {},
   "source": [
    "I will try to extract similar information for Dawn, Dusk values of 'LIGHTCOND' from 'TIME' column."
   ]
  },
  {
   "cell_type": "code",
   "execution_count": 54,
   "metadata": {},
   "outputs": [],
   "source": [
    "df_drop.loc[(df_drop['TIME'] >= 6) & (df_drop['TIME'] < 7) & (df_drop['MONTH'] == 4) & df_drop['LIGHTCOND'].isnull(), 'LIGHTCOND'] = 'Dawn'\n",
    "df_drop.loc[(df_drop['TIME'] >= 5) & (df_drop['TIME'] < 6) & (df_drop['MONTH'] == 5) & df_drop['LIGHTCOND'].isnull(), 'LIGHTCOND'] = 'Dawn'\n",
    "df_drop.loc[(df_drop['TIME'] >= 4) & (df_drop['TIME'] < 5) & (df_drop['MONTH'] == 6) & df_drop['LIGHTCOND'].isnull(), 'LIGHTCOND'] = 'Dawn'\n",
    "df_drop.loc[(df_drop['TIME'] >= 4) & (df_drop['TIME'] < 5) & (df_drop['MONTH'] == 7) & df_drop['LIGHTCOND'].isnull(), 'LIGHTCOND'] = 'Dawn'\n",
    "df_drop.loc[(df_drop['TIME'] >= 5) & (df_drop['TIME'] < 6) & (df_drop['MONTH'] == 8) & df_drop['LIGHTCOND'].isnull(), 'LIGHTCOND'] = 'Dawn'\n",
    "\n",
    "df_drop.loc[(df_drop['TIME'] >= 5) & (df_drop['TIME'] < 6) & (df_drop['MONTH'] == 9) & df_drop['LIGHTCOND'].isnull(), 'LIGHTCOND'] = 'Dawn'\n",
    "df_drop.loc[(df_drop['TIME'] >= 6) & (df_drop['TIME'] < 7) & (df_drop['MONTH'] == 10) & df_drop['LIGHTCOND'].isnull(), 'LIGHTCOND'] = 'Dawn'\n",
    "df_drop.loc[(df_drop['TIME'] >= 6) & (df_drop['TIME'] < 7) & (df_drop['MONTH'] == 11) & df_drop['LIGHTCOND'].isnull(), 'LIGHTCOND'] = 'Dawn'\n",
    "df_drop.loc[(df_drop['TIME'] >= 6) & (df_drop['TIME'] < 7) & (df_drop['MONTH'] == 12) & df_drop['LIGHTCOND'].isnull(), 'LIGHTCOND'] = 'Dawn'\n",
    "df_drop.loc[(df_drop['TIME'] >= 6) & (df_drop['TIME'] < 7) & (df_drop['MONTH'] == 1) & df_drop['LIGHTCOND'].isnull(), 'LIGHTCOND'] = 'Dawn'\n",
    "df_drop.loc[(df_drop['TIME'] >= 6) & (df_drop['TIME'] < 7) & (df_drop['MONTH'] == 2) & df_drop['LIGHTCOND'].isnull(), 'LIGHTCOND'] = 'Dawn'\n",
    "df_drop.loc[(df_drop['TIME'] >= 6) & (df_drop['TIME'] < 7) & (df_drop['MONTH'] == 3) & df_drop['LIGHTCOND'].isnull(), 'LIGHTCOND'] = 'Dawn'\n",
    "\n",
    "df_drop.loc[(df_drop['TIME'] >19) & (df_drop['TIME'] <= 20) & (df_drop['MONTH'] == 4) & df_drop['LIGHTCOND'].isnull(), 'LIGHTCOND'] = 'Dusk'\n",
    "df_drop.loc[(df_drop['TIME'] >20) & (df_drop['TIME'] <= 21) & (df_drop['MONTH'] == 5) & df_drop['LIGHTCOND'].isnull(), 'LIGHTCOND'] = 'Dusk'\n",
    "df_drop.loc[(df_drop['TIME'] >21) & (df_drop['TIME'] <= 22) & (df_drop['MONTH'] == 6) & df_drop['LIGHTCOND'].isnull(), 'LIGHTCOND'] = 'Dusk'\n",
    "df_drop.loc[(df_drop['TIME'] >21) & (df_drop['TIME'] <= 22) & (df_drop['MONTH'] == 7) & df_drop['LIGHTCOND'].isnull(), 'LIGHTCOND'] = 'Dusk'\n",
    "df_drop.loc[(df_drop['TIME'] >20) & (df_drop['TIME'] <= 21) & (df_drop['MONTH'] == 8) & df_drop['LIGHTCOND'].isnull(), 'LIGHTCOND'] = 'Dusk'\n",
    "\n",
    "df_drop.loc[(df_drop['TIME'] >19) & (df_drop['TIME'] <= 20) & (df_drop['MONTH'] == 9) & df_drop['LIGHTCOND'].isnull(), 'LIGHTCOND'] = 'Dusk'\n",
    "df_drop.loc[(df_drop['TIME'] >18) & (df_drop['TIME'] <= 19) & (df_drop['MONTH'] == 10) & df_drop['LIGHTCOND'].isnull(), 'LIGHTCOND'] = 'Dusk'\n",
    "df_drop.loc[(df_drop['TIME'] >16) & (df_drop['TIME'] <= 17) & (df_drop['MONTH'] == 11) & df_drop['LIGHTCOND'].isnull(), 'LIGHTCOND'] = 'Dusk'\n",
    "df_drop.loc[(df_drop['TIME'] >16) & (df_drop['TIME'] <= 17) & (df_drop['MONTH'] == 12) & df_drop['LIGHTCOND'].isnull(), 'LIGHTCOND'] = 'Dusk'\n",
    "df_drop.loc[(df_drop['TIME'] >16) & (df_drop['TIME'] <= 17) & (df_drop['MONTH'] == 1) & df_drop['LIGHTCOND'].isnull(), 'LIGHTCOND'] = 'Dusk'\n",
    "df_drop.loc[(df_drop['TIME'] >17) & (df_drop['TIME'] <= 18) & (df_drop['MONTH'] == 2) & df_drop['LIGHTCOND'].isnull(), 'LIGHTCOND'] = 'Dusk'\n",
    "df_drop.loc[(df_drop['TIME'] >19) & (df_drop['TIME'] <= 20) & (df_drop['MONTH'] == 3) & df_drop['LIGHTCOND'].isnull(), 'LIGHTCOND'] = 'Dusk'\n",
    "\n",
    "\n"
   ]
  },
  {
   "cell_type": "code",
   "execution_count": 55,
   "metadata": {},
   "outputs": [
    {
     "data": {
      "text/plain": [
       "Daylight                   116317\n",
       "Dark - Street Lights On     48507\n",
       "Unknown                     13473\n",
       "Dusk                         5921\n",
       "NaN                          4966\n",
       "Dark - No Street Lights      2747\n",
       "Dawn                         2507\n",
       "Other                         235\n",
       "Name: LIGHTCOND, dtype: int64"
      ]
     },
     "execution_count": 55,
     "metadata": {},
     "output_type": "execute_result"
    }
   ],
   "source": [
    "df_drop['LIGHTCOND'].value_counts(dropna=False)"
   ]
  },
  {
   "cell_type": "markdown",
   "metadata": {},
   "source": [
    "Another 24 observations were corrected."
   ]
  },
  {
   "cell_type": "markdown",
   "metadata": {},
   "source": [
    "Similar approach can be applied to the Unknown values."
   ]
  },
  {
   "cell_type": "code",
   "execution_count": 56,
   "metadata": {},
   "outputs": [
    {
     "data": {
      "text/html": [
       "<div>\n",
       "<style scoped>\n",
       "    .dataframe tbody tr th:only-of-type {\n",
       "        vertical-align: middle;\n",
       "    }\n",
       "\n",
       "    .dataframe tbody tr th {\n",
       "        vertical-align: top;\n",
       "    }\n",
       "\n",
       "    .dataframe thead th {\n",
       "        text-align: right;\n",
       "    }\n",
       "</style>\n",
       "<table border=\"1\" class=\"dataframe\">\n",
       "  <thead>\n",
       "    <tr style=\"text-align: right;\">\n",
       "      <th></th>\n",
       "      <th>LOG</th>\n",
       "      <th>LAT</th>\n",
       "      <th>ADDRTYPE</th>\n",
       "      <th>LOCATION</th>\n",
       "      <th>SEVERITYDESC</th>\n",
       "      <th>COLLISIONTYPE</th>\n",
       "      <th>PERSONCOUNT</th>\n",
       "      <th>VEHCOUNT</th>\n",
       "      <th>INCDTTM</th>\n",
       "      <th>JUNCTIONTYPE</th>\n",
       "      <th>SDOT_COLDESC</th>\n",
       "      <th>UNDERINFL</th>\n",
       "      <th>WEATHER</th>\n",
       "      <th>ROADCOND</th>\n",
       "      <th>LIGHTCOND</th>\n",
       "      <th>SPEEDING</th>\n",
       "      <th>NONVEH</th>\n",
       "      <th>DATE</th>\n",
       "      <th>MONTH</th>\n",
       "      <th>WKDAY</th>\n",
       "    </tr>\n",
       "    <tr>\n",
       "      <th>TIME</th>\n",
       "      <th></th>\n",
       "      <th></th>\n",
       "      <th></th>\n",
       "      <th></th>\n",
       "      <th></th>\n",
       "      <th></th>\n",
       "      <th></th>\n",
       "      <th></th>\n",
       "      <th></th>\n",
       "      <th></th>\n",
       "      <th></th>\n",
       "      <th></th>\n",
       "      <th></th>\n",
       "      <th></th>\n",
       "      <th></th>\n",
       "      <th></th>\n",
       "      <th></th>\n",
       "      <th></th>\n",
       "      <th></th>\n",
       "      <th></th>\n",
       "    </tr>\n",
       "  </thead>\n",
       "  <tbody>\n",
       "    <tr>\n",
       "      <th>0</th>\n",
       "      <td>2312</td>\n",
       "      <td>2312</td>\n",
       "      <td>2360</td>\n",
       "      <td>2333</td>\n",
       "      <td>2466</td>\n",
       "      <td>2466</td>\n",
       "      <td>2466</td>\n",
       "      <td>2466</td>\n",
       "      <td>2466</td>\n",
       "      <td>2133</td>\n",
       "      <td>2466</td>\n",
       "      <td>2466</td>\n",
       "      <td>2466</td>\n",
       "      <td>2464</td>\n",
       "      <td>2466</td>\n",
       "      <td>2466</td>\n",
       "      <td>2466</td>\n",
       "      <td>2466</td>\n",
       "      <td>2466</td>\n",
       "      <td>2466</td>\n",
       "    </tr>\n",
       "    <tr>\n",
       "      <th>1</th>\n",
       "      <td>187</td>\n",
       "      <td>187</td>\n",
       "      <td>190</td>\n",
       "      <td>189</td>\n",
       "      <td>199</td>\n",
       "      <td>199</td>\n",
       "      <td>199</td>\n",
       "      <td>199</td>\n",
       "      <td>199</td>\n",
       "      <td>159</td>\n",
       "      <td>199</td>\n",
       "      <td>199</td>\n",
       "      <td>199</td>\n",
       "      <td>199</td>\n",
       "      <td>199</td>\n",
       "      <td>199</td>\n",
       "      <td>199</td>\n",
       "      <td>199</td>\n",
       "      <td>199</td>\n",
       "      <td>199</td>\n",
       "    </tr>\n",
       "    <tr>\n",
       "      <th>2</th>\n",
       "      <td>192</td>\n",
       "      <td>192</td>\n",
       "      <td>198</td>\n",
       "      <td>195</td>\n",
       "      <td>211</td>\n",
       "      <td>211</td>\n",
       "      <td>211</td>\n",
       "      <td>211</td>\n",
       "      <td>211</td>\n",
       "      <td>171</td>\n",
       "      <td>211</td>\n",
       "      <td>211</td>\n",
       "      <td>211</td>\n",
       "      <td>211</td>\n",
       "      <td>211</td>\n",
       "      <td>211</td>\n",
       "      <td>211</td>\n",
       "      <td>211</td>\n",
       "      <td>211</td>\n",
       "      <td>211</td>\n",
       "    </tr>\n",
       "    <tr>\n",
       "      <th>3</th>\n",
       "      <td>115</td>\n",
       "      <td>115</td>\n",
       "      <td>115</td>\n",
       "      <td>115</td>\n",
       "      <td>120</td>\n",
       "      <td>120</td>\n",
       "      <td>120</td>\n",
       "      <td>120</td>\n",
       "      <td>120</td>\n",
       "      <td>99</td>\n",
       "      <td>120</td>\n",
       "      <td>120</td>\n",
       "      <td>119</td>\n",
       "      <td>120</td>\n",
       "      <td>120</td>\n",
       "      <td>120</td>\n",
       "      <td>120</td>\n",
       "      <td>120</td>\n",
       "      <td>120</td>\n",
       "      <td>120</td>\n",
       "    </tr>\n",
       "    <tr>\n",
       "      <th>4</th>\n",
       "      <td>86</td>\n",
       "      <td>86</td>\n",
       "      <td>86</td>\n",
       "      <td>86</td>\n",
       "      <td>90</td>\n",
       "      <td>90</td>\n",
       "      <td>90</td>\n",
       "      <td>90</td>\n",
       "      <td>90</td>\n",
       "      <td>78</td>\n",
       "      <td>90</td>\n",
       "      <td>90</td>\n",
       "      <td>90</td>\n",
       "      <td>89</td>\n",
       "      <td>90</td>\n",
       "      <td>90</td>\n",
       "      <td>90</td>\n",
       "      <td>90</td>\n",
       "      <td>90</td>\n",
       "      <td>90</td>\n",
       "    </tr>\n",
       "    <tr>\n",
       "      <th>5</th>\n",
       "      <td>92</td>\n",
       "      <td>92</td>\n",
       "      <td>94</td>\n",
       "      <td>92</td>\n",
       "      <td>102</td>\n",
       "      <td>102</td>\n",
       "      <td>102</td>\n",
       "      <td>102</td>\n",
       "      <td>102</td>\n",
       "      <td>78</td>\n",
       "      <td>102</td>\n",
       "      <td>102</td>\n",
       "      <td>102</td>\n",
       "      <td>102</td>\n",
       "      <td>102</td>\n",
       "      <td>102</td>\n",
       "      <td>102</td>\n",
       "      <td>102</td>\n",
       "      <td>102</td>\n",
       "      <td>102</td>\n",
       "    </tr>\n",
       "    <tr>\n",
       "      <th>6</th>\n",
       "      <td>221</td>\n",
       "      <td>221</td>\n",
       "      <td>224</td>\n",
       "      <td>223</td>\n",
       "      <td>241</td>\n",
       "      <td>241</td>\n",
       "      <td>241</td>\n",
       "      <td>241</td>\n",
       "      <td>241</td>\n",
       "      <td>191</td>\n",
       "      <td>241</td>\n",
       "      <td>241</td>\n",
       "      <td>241</td>\n",
       "      <td>240</td>\n",
       "      <td>241</td>\n",
       "      <td>241</td>\n",
       "      <td>241</td>\n",
       "      <td>241</td>\n",
       "      <td>241</td>\n",
       "      <td>241</td>\n",
       "    </tr>\n",
       "    <tr>\n",
       "      <th>7</th>\n",
       "      <td>391</td>\n",
       "      <td>391</td>\n",
       "      <td>399</td>\n",
       "      <td>396</td>\n",
       "      <td>421</td>\n",
       "      <td>421</td>\n",
       "      <td>421</td>\n",
       "      <td>421</td>\n",
       "      <td>421</td>\n",
       "      <td>335</td>\n",
       "      <td>421</td>\n",
       "      <td>421</td>\n",
       "      <td>421</td>\n",
       "      <td>420</td>\n",
       "      <td>421</td>\n",
       "      <td>421</td>\n",
       "      <td>421</td>\n",
       "      <td>421</td>\n",
       "      <td>421</td>\n",
       "      <td>421</td>\n",
       "    </tr>\n",
       "    <tr>\n",
       "      <th>8</th>\n",
       "      <td>597</td>\n",
       "      <td>597</td>\n",
       "      <td>608</td>\n",
       "      <td>602</td>\n",
       "      <td>659</td>\n",
       "      <td>659</td>\n",
       "      <td>659</td>\n",
       "      <td>659</td>\n",
       "      <td>659</td>\n",
       "      <td>521</td>\n",
       "      <td>659</td>\n",
       "      <td>659</td>\n",
       "      <td>658</td>\n",
       "      <td>659</td>\n",
       "      <td>659</td>\n",
       "      <td>659</td>\n",
       "      <td>659</td>\n",
       "      <td>659</td>\n",
       "      <td>659</td>\n",
       "      <td>659</td>\n",
       "    </tr>\n",
       "    <tr>\n",
       "      <th>9</th>\n",
       "      <td>560</td>\n",
       "      <td>560</td>\n",
       "      <td>572</td>\n",
       "      <td>564</td>\n",
       "      <td>617</td>\n",
       "      <td>617</td>\n",
       "      <td>617</td>\n",
       "      <td>617</td>\n",
       "      <td>617</td>\n",
       "      <td>479</td>\n",
       "      <td>617</td>\n",
       "      <td>617</td>\n",
       "      <td>616</td>\n",
       "      <td>616</td>\n",
       "      <td>617</td>\n",
       "      <td>617</td>\n",
       "      <td>617</td>\n",
       "      <td>617</td>\n",
       "      <td>617</td>\n",
       "      <td>617</td>\n",
       "    </tr>\n",
       "    <tr>\n",
       "      <th>10</th>\n",
       "      <td>558</td>\n",
       "      <td>558</td>\n",
       "      <td>566</td>\n",
       "      <td>562</td>\n",
       "      <td>621</td>\n",
       "      <td>621</td>\n",
       "      <td>621</td>\n",
       "      <td>621</td>\n",
       "      <td>621</td>\n",
       "      <td>467</td>\n",
       "      <td>621</td>\n",
       "      <td>621</td>\n",
       "      <td>621</td>\n",
       "      <td>621</td>\n",
       "      <td>621</td>\n",
       "      <td>621</td>\n",
       "      <td>621</td>\n",
       "      <td>621</td>\n",
       "      <td>621</td>\n",
       "      <td>621</td>\n",
       "    </tr>\n",
       "    <tr>\n",
       "      <th>11</th>\n",
       "      <td>464</td>\n",
       "      <td>464</td>\n",
       "      <td>470</td>\n",
       "      <td>467</td>\n",
       "      <td>508</td>\n",
       "      <td>508</td>\n",
       "      <td>508</td>\n",
       "      <td>508</td>\n",
       "      <td>508</td>\n",
       "      <td>396</td>\n",
       "      <td>508</td>\n",
       "      <td>508</td>\n",
       "      <td>508</td>\n",
       "      <td>508</td>\n",
       "      <td>508</td>\n",
       "      <td>508</td>\n",
       "      <td>508</td>\n",
       "      <td>508</td>\n",
       "      <td>508</td>\n",
       "      <td>508</td>\n",
       "    </tr>\n",
       "    <tr>\n",
       "      <th>12</th>\n",
       "      <td>714</td>\n",
       "      <td>714</td>\n",
       "      <td>722</td>\n",
       "      <td>716</td>\n",
       "      <td>795</td>\n",
       "      <td>793</td>\n",
       "      <td>795</td>\n",
       "      <td>795</td>\n",
       "      <td>795</td>\n",
       "      <td>578</td>\n",
       "      <td>795</td>\n",
       "      <td>795</td>\n",
       "      <td>794</td>\n",
       "      <td>794</td>\n",
       "      <td>795</td>\n",
       "      <td>795</td>\n",
       "      <td>795</td>\n",
       "      <td>795</td>\n",
       "      <td>795</td>\n",
       "      <td>795</td>\n",
       "    </tr>\n",
       "    <tr>\n",
       "      <th>13</th>\n",
       "      <td>514</td>\n",
       "      <td>514</td>\n",
       "      <td>518</td>\n",
       "      <td>514</td>\n",
       "      <td>560</td>\n",
       "      <td>560</td>\n",
       "      <td>560</td>\n",
       "      <td>560</td>\n",
       "      <td>560</td>\n",
       "      <td>457</td>\n",
       "      <td>560</td>\n",
       "      <td>560</td>\n",
       "      <td>560</td>\n",
       "      <td>560</td>\n",
       "      <td>560</td>\n",
       "      <td>560</td>\n",
       "      <td>560</td>\n",
       "      <td>560</td>\n",
       "      <td>560</td>\n",
       "      <td>560</td>\n",
       "    </tr>\n",
       "    <tr>\n",
       "      <th>14</th>\n",
       "      <td>455</td>\n",
       "      <td>455</td>\n",
       "      <td>460</td>\n",
       "      <td>457</td>\n",
       "      <td>494</td>\n",
       "      <td>494</td>\n",
       "      <td>494</td>\n",
       "      <td>494</td>\n",
       "      <td>494</td>\n",
       "      <td>382</td>\n",
       "      <td>494</td>\n",
       "      <td>494</td>\n",
       "      <td>494</td>\n",
       "      <td>494</td>\n",
       "      <td>494</td>\n",
       "      <td>494</td>\n",
       "      <td>494</td>\n",
       "      <td>494</td>\n",
       "      <td>494</td>\n",
       "      <td>494</td>\n",
       "    </tr>\n",
       "    <tr>\n",
       "      <th>15</th>\n",
       "      <td>554</td>\n",
       "      <td>554</td>\n",
       "      <td>565</td>\n",
       "      <td>558</td>\n",
       "      <td>611</td>\n",
       "      <td>611</td>\n",
       "      <td>611</td>\n",
       "      <td>611</td>\n",
       "      <td>611</td>\n",
       "      <td>430</td>\n",
       "      <td>611</td>\n",
       "      <td>611</td>\n",
       "      <td>610</td>\n",
       "      <td>611</td>\n",
       "      <td>611</td>\n",
       "      <td>611</td>\n",
       "      <td>611</td>\n",
       "      <td>611</td>\n",
       "      <td>611</td>\n",
       "      <td>611</td>\n",
       "    </tr>\n",
       "    <tr>\n",
       "      <th>16</th>\n",
       "      <td>583</td>\n",
       "      <td>583</td>\n",
       "      <td>589</td>\n",
       "      <td>586</td>\n",
       "      <td>626</td>\n",
       "      <td>626</td>\n",
       "      <td>626</td>\n",
       "      <td>626</td>\n",
       "      <td>626</td>\n",
       "      <td>480</td>\n",
       "      <td>626</td>\n",
       "      <td>626</td>\n",
       "      <td>626</td>\n",
       "      <td>626</td>\n",
       "      <td>626</td>\n",
       "      <td>626</td>\n",
       "      <td>626</td>\n",
       "      <td>626</td>\n",
       "      <td>626</td>\n",
       "      <td>626</td>\n",
       "    </tr>\n",
       "    <tr>\n",
       "      <th>17</th>\n",
       "      <td>741</td>\n",
       "      <td>741</td>\n",
       "      <td>750</td>\n",
       "      <td>745</td>\n",
       "      <td>806</td>\n",
       "      <td>806</td>\n",
       "      <td>806</td>\n",
       "      <td>806</td>\n",
       "      <td>806</td>\n",
       "      <td>602</td>\n",
       "      <td>806</td>\n",
       "      <td>806</td>\n",
       "      <td>806</td>\n",
       "      <td>805</td>\n",
       "      <td>806</td>\n",
       "      <td>806</td>\n",
       "      <td>806</td>\n",
       "      <td>806</td>\n",
       "      <td>806</td>\n",
       "      <td>806</td>\n",
       "    </tr>\n",
       "    <tr>\n",
       "      <th>18</th>\n",
       "      <td>713</td>\n",
       "      <td>713</td>\n",
       "      <td>720</td>\n",
       "      <td>717</td>\n",
       "      <td>766</td>\n",
       "      <td>766</td>\n",
       "      <td>766</td>\n",
       "      <td>766</td>\n",
       "      <td>766</td>\n",
       "      <td>578</td>\n",
       "      <td>766</td>\n",
       "      <td>766</td>\n",
       "      <td>766</td>\n",
       "      <td>766</td>\n",
       "      <td>766</td>\n",
       "      <td>766</td>\n",
       "      <td>766</td>\n",
       "      <td>766</td>\n",
       "      <td>766</td>\n",
       "      <td>766</td>\n",
       "    </tr>\n",
       "    <tr>\n",
       "      <th>19</th>\n",
       "      <td>541</td>\n",
       "      <td>541</td>\n",
       "      <td>545</td>\n",
       "      <td>542</td>\n",
       "      <td>571</td>\n",
       "      <td>571</td>\n",
       "      <td>571</td>\n",
       "      <td>571</td>\n",
       "      <td>571</td>\n",
       "      <td>412</td>\n",
       "      <td>571</td>\n",
       "      <td>571</td>\n",
       "      <td>571</td>\n",
       "      <td>571</td>\n",
       "      <td>571</td>\n",
       "      <td>571</td>\n",
       "      <td>571</td>\n",
       "      <td>571</td>\n",
       "      <td>571</td>\n",
       "      <td>571</td>\n",
       "    </tr>\n",
       "    <tr>\n",
       "      <th>20</th>\n",
       "      <td>547</td>\n",
       "      <td>547</td>\n",
       "      <td>557</td>\n",
       "      <td>552</td>\n",
       "      <td>597</td>\n",
       "      <td>597</td>\n",
       "      <td>597</td>\n",
       "      <td>597</td>\n",
       "      <td>597</td>\n",
       "      <td>448</td>\n",
       "      <td>597</td>\n",
       "      <td>597</td>\n",
       "      <td>596</td>\n",
       "      <td>596</td>\n",
       "      <td>597</td>\n",
       "      <td>597</td>\n",
       "      <td>597</td>\n",
       "      <td>597</td>\n",
       "      <td>597</td>\n",
       "      <td>597</td>\n",
       "    </tr>\n",
       "    <tr>\n",
       "      <th>21</th>\n",
       "      <td>439</td>\n",
       "      <td>439</td>\n",
       "      <td>443</td>\n",
       "      <td>442</td>\n",
       "      <td>471</td>\n",
       "      <td>471</td>\n",
       "      <td>471</td>\n",
       "      <td>471</td>\n",
       "      <td>471</td>\n",
       "      <td>369</td>\n",
       "      <td>471</td>\n",
       "      <td>471</td>\n",
       "      <td>470</td>\n",
       "      <td>471</td>\n",
       "      <td>471</td>\n",
       "      <td>471</td>\n",
       "      <td>471</td>\n",
       "      <td>471</td>\n",
       "      <td>471</td>\n",
       "      <td>471</td>\n",
       "    </tr>\n",
       "    <tr>\n",
       "      <th>22</th>\n",
       "      <td>416</td>\n",
       "      <td>416</td>\n",
       "      <td>420</td>\n",
       "      <td>418</td>\n",
       "      <td>443</td>\n",
       "      <td>443</td>\n",
       "      <td>443</td>\n",
       "      <td>443</td>\n",
       "      <td>443</td>\n",
       "      <td>358</td>\n",
       "      <td>443</td>\n",
       "      <td>443</td>\n",
       "      <td>441</td>\n",
       "      <td>443</td>\n",
       "      <td>443</td>\n",
       "      <td>443</td>\n",
       "      <td>443</td>\n",
       "      <td>443</td>\n",
       "      <td>443</td>\n",
       "      <td>443</td>\n",
       "    </tr>\n",
       "    <tr>\n",
       "      <th>23</th>\n",
       "      <td>440</td>\n",
       "      <td>440</td>\n",
       "      <td>445</td>\n",
       "      <td>442</td>\n",
       "      <td>478</td>\n",
       "      <td>478</td>\n",
       "      <td>478</td>\n",
       "      <td>478</td>\n",
       "      <td>478</td>\n",
       "      <td>365</td>\n",
       "      <td>478</td>\n",
       "      <td>478</td>\n",
       "      <td>478</td>\n",
       "      <td>478</td>\n",
       "      <td>478</td>\n",
       "      <td>478</td>\n",
       "      <td>478</td>\n",
       "      <td>478</td>\n",
       "      <td>478</td>\n",
       "      <td>478</td>\n",
       "    </tr>\n",
       "  </tbody>\n",
       "</table>\n",
       "</div>"
      ],
      "text/plain": [
       "       LOG   LAT  ADDRTYPE  LOCATION  SEVERITYDESC  COLLISIONTYPE  \\\n",
       "TIME                                                                \n",
       "0     2312  2312      2360      2333          2466           2466   \n",
       "1      187   187       190       189           199            199   \n",
       "2      192   192       198       195           211            211   \n",
       "3      115   115       115       115           120            120   \n",
       "4       86    86        86        86            90             90   \n",
       "5       92    92        94        92           102            102   \n",
       "6      221   221       224       223           241            241   \n",
       "7      391   391       399       396           421            421   \n",
       "8      597   597       608       602           659            659   \n",
       "9      560   560       572       564           617            617   \n",
       "10     558   558       566       562           621            621   \n",
       "11     464   464       470       467           508            508   \n",
       "12     714   714       722       716           795            793   \n",
       "13     514   514       518       514           560            560   \n",
       "14     455   455       460       457           494            494   \n",
       "15     554   554       565       558           611            611   \n",
       "16     583   583       589       586           626            626   \n",
       "17     741   741       750       745           806            806   \n",
       "18     713   713       720       717           766            766   \n",
       "19     541   541       545       542           571            571   \n",
       "20     547   547       557       552           597            597   \n",
       "21     439   439       443       442           471            471   \n",
       "22     416   416       420       418           443            443   \n",
       "23     440   440       445       442           478            478   \n",
       "\n",
       "      PERSONCOUNT  VEHCOUNT  INCDTTM  JUNCTIONTYPE  SDOT_COLDESC  UNDERINFL  \\\n",
       "TIME                                                                          \n",
       "0            2466      2466     2466          2133          2466       2466   \n",
       "1             199       199      199           159           199        199   \n",
       "2             211       211      211           171           211        211   \n",
       "3             120       120      120            99           120        120   \n",
       "4              90        90       90            78            90         90   \n",
       "5             102       102      102            78           102        102   \n",
       "6             241       241      241           191           241        241   \n",
       "7             421       421      421           335           421        421   \n",
       "8             659       659      659           521           659        659   \n",
       "9             617       617      617           479           617        617   \n",
       "10            621       621      621           467           621        621   \n",
       "11            508       508      508           396           508        508   \n",
       "12            795       795      795           578           795        795   \n",
       "13            560       560      560           457           560        560   \n",
       "14            494       494      494           382           494        494   \n",
       "15            611       611      611           430           611        611   \n",
       "16            626       626      626           480           626        626   \n",
       "17            806       806      806           602           806        806   \n",
       "18            766       766      766           578           766        766   \n",
       "19            571       571      571           412           571        571   \n",
       "20            597       597      597           448           597        597   \n",
       "21            471       471      471           369           471        471   \n",
       "22            443       443      443           358           443        443   \n",
       "23            478       478      478           365           478        478   \n",
       "\n",
       "      WEATHER  ROADCOND  LIGHTCOND  SPEEDING  NONVEH  DATE  MONTH  WKDAY  \n",
       "TIME                                                                      \n",
       "0        2466      2464       2466      2466    2466  2466   2466   2466  \n",
       "1         199       199        199       199     199   199    199    199  \n",
       "2         211       211        211       211     211   211    211    211  \n",
       "3         119       120        120       120     120   120    120    120  \n",
       "4          90        89         90        90      90    90     90     90  \n",
       "5         102       102        102       102     102   102    102    102  \n",
       "6         241       240        241       241     241   241    241    241  \n",
       "7         421       420        421       421     421   421    421    421  \n",
       "8         658       659        659       659     659   659    659    659  \n",
       "9         616       616        617       617     617   617    617    617  \n",
       "10        621       621        621       621     621   621    621    621  \n",
       "11        508       508        508       508     508   508    508    508  \n",
       "12        794       794        795       795     795   795    795    795  \n",
       "13        560       560        560       560     560   560    560    560  \n",
       "14        494       494        494       494     494   494    494    494  \n",
       "15        610       611        611       611     611   611    611    611  \n",
       "16        626       626        626       626     626   626    626    626  \n",
       "17        806       805        806       806     806   806    806    806  \n",
       "18        766       766        766       766     766   766    766    766  \n",
       "19        571       571        571       571     571   571    571    571  \n",
       "20        596       596        597       597     597   597    597    597  \n",
       "21        470       471        471       471     471   471    471    471  \n",
       "22        441       443        443       443     443   443    443    443  \n",
       "23        478       478        478       478     478   478    478    478  "
      ]
     },
     "execution_count": 56,
     "metadata": {},
     "output_type": "execute_result"
    }
   ],
   "source": [
    "# Checking if the Time column can provide any usefull information for the 'LIGHTCOND's Unknown values.\n",
    "df_drop[df_drop[\"LIGHTCOND\"]=='Unknown'].groupby('TIME').count()"
   ]
  },
  {
   "cell_type": "markdown",
   "metadata": {},
   "source": [
    "Above results shows that there are planny information that might be extracted. As an example, about 600 records shows that at 8am were some kind of accident, however it was registered in the LIGHTCOND as 'Unknown' status, even though at 8am is already 'Daytime' outside. So we are going to extract this information and make appropriate adjustments."
   ]
  },
  {
   "cell_type": "code",
   "execution_count": 57,
   "metadata": {},
   "outputs": [],
   "source": [
    "df_drop.loc[(df_drop['TIME'] >= 7) & (df_drop['TIME'] <= 19) & (df_drop['MONTH'] == 4) & (df_drop['LIGHTCOND']=='Unknown'), 'LIGHTCOND'] = 'Daylight'\n",
    "df_drop.loc[(df_drop['TIME'] >= 6) & (df_drop['TIME'] <= 20) & (df_drop['MONTH'] == 5) & (df_drop['LIGHTCOND']=='Unknown'), 'LIGHTCOND'] = 'Daylight'\n",
    "df_drop.loc[(df_drop['TIME'] >= 5) & (df_drop['TIME'] <= 21) & (df_drop['MONTH'] == 6) & (df_drop['LIGHTCOND']=='Unknown'), 'LIGHTCOND'] = 'Daylight'\n",
    "df_drop.loc[(df_drop['TIME'] >= 5) & (df_drop['TIME'] <= 21) & (df_drop['MONTH'] == 7) & (df_drop['LIGHTCOND']=='Unknown'), 'LIGHTCOND'] = 'Daylight'\n",
    "df_drop.loc[(df_drop['TIME'] >= 6) & (df_drop['TIME'] <= 20) & (df_drop['MONTH'] == 8) & (df_drop['LIGHTCOND']=='Unknown'), 'LIGHTCOND'] = 'Daylight'\n",
    "\n",
    "df_drop.loc[(df_drop['TIME'] >= 6) & (df_drop['TIME'] <= 19) & (df_drop['MONTH'] == 9) & (df_drop['LIGHTCOND']=='Unknown'), 'LIGHTCOND'] = 'Daylight'\n",
    "df_drop.loc[(df_drop['TIME'] >= 7) & (df_drop['TIME'] <= 18) & (df_drop['MONTH'] == 10) & (df_drop['LIGHTCOND']=='Unknown'), 'LIGHTCOND'] = 'Daylight'\n",
    "df_drop.loc[(df_drop['TIME'] >= 7) & (df_drop['TIME'] <= 16) & (df_drop['MONTH'] == 11) & (df_drop['LIGHTCOND']=='Unknown'), 'LIGHTCOND'] = 'Daylight'\n",
    "df_drop.loc[(df_drop['TIME'] >= 7) & (df_drop['TIME'] <= 16) & (df_drop['MONTH'] == 12) & (df_drop['LIGHTCOND']=='Unknown'), 'LIGHTCOND'] = 'Daylight'\n",
    "df_drop.loc[(df_drop['TIME'] >= 7) & (df_drop['TIME'] <= 16) & (df_drop['MONTH'] == 1) & (df_drop['LIGHTCOND']=='Unknown'), 'LIGHTCOND'] = 'Daylight'\n",
    "df_drop.loc[(df_drop['TIME'] >= 7) & (df_drop['TIME'] <= 17) & (df_drop['MONTH'] == 2) & (df_drop['LIGHTCOND']=='Unknown'), 'LIGHTCOND'] = 'Daylight'\n",
    "df_drop.loc[(df_drop['TIME'] >= 7) & (df_drop['TIME'] <= 19) & (df_drop['MONTH'] == 3) & (df_drop['LIGHTCOND']=='Unknown'), 'LIGHTCOND'] = 'Daylight'\n",
    "\n",
    "df_drop.loc[(df_drop['TIME'] >= 6) & (df_drop['TIME'] < 7) & (df_drop['MONTH'] == 4) & (df_drop['LIGHTCOND']=='Unknown'), 'LIGHTCOND'] = 'Dawn'\n",
    "df_drop.loc[(df_drop['TIME'] >= 5) & (df_drop['TIME'] < 6) & (df_drop['MONTH'] == 5) & (df_drop['LIGHTCOND']=='Unknown'), 'LIGHTCOND'] = 'Dawn'\n",
    "df_drop.loc[(df_drop['TIME'] >= 4) & (df_drop['TIME'] < 5) & (df_drop['MONTH'] == 6) & (df_drop['LIGHTCOND']=='Unknown'), 'LIGHTCOND'] = 'Dawn'\n",
    "df_drop.loc[(df_drop['TIME'] >= 4) & (df_drop['TIME'] < 5) & (df_drop['MONTH'] == 7) & (df_drop['LIGHTCOND']=='Unknown'), 'LIGHTCOND'] = 'Dawn'\n",
    "df_drop.loc[(df_drop['TIME'] >= 5) & (df_drop['TIME'] < 6) & (df_drop['MONTH'] == 8) & (df_drop['LIGHTCOND']=='Unknown'), 'LIGHTCOND'] = 'Dawn'\n",
    "\n",
    "df_drop.loc[(df_drop['TIME'] >= 5) & (df_drop['TIME'] < 6) & (df_drop['MONTH'] == 9) & (df_drop['LIGHTCOND']=='Unknown'), 'LIGHTCOND'] = 'Dawn'\n",
    "df_drop.loc[(df_drop['TIME'] >= 6) & (df_drop['TIME'] < 7) & (df_drop['MONTH'] == 10) & (df_drop['LIGHTCOND']=='Unknown'), 'LIGHTCOND'] = 'Dawn'\n",
    "df_drop.loc[(df_drop['TIME'] >= 6) & (df_drop['TIME'] < 7) & (df_drop['MONTH'] == 11) & (df_drop['LIGHTCOND']=='Unknown'), 'LIGHTCOND'] = 'Dawn'\n",
    "df_drop.loc[(df_drop['TIME'] >= 6) & (df_drop['TIME'] < 7) & (df_drop['MONTH'] == 12) & (df_drop['LIGHTCOND']=='Unknown'), 'LIGHTCOND'] = 'Dawn'\n",
    "df_drop.loc[(df_drop['TIME'] >= 6) & (df_drop['TIME'] < 7) & (df_drop['MONTH'] == 1) & (df_drop['LIGHTCOND']=='Unknown'), 'LIGHTCOND'] = 'Dawn'\n",
    "df_drop.loc[(df_drop['TIME'] >= 6) & (df_drop['TIME'] < 7) & (df_drop['MONTH'] == 2) & (df_drop['LIGHTCOND']=='Unknown'), 'LIGHTCOND'] = 'Dawn'\n",
    "df_drop.loc[(df_drop['TIME'] >= 6) & (df_drop['TIME'] < 7) & (df_drop['MONTH'] == 3) & (df_drop['LIGHTCOND']=='Unknown'), 'LIGHTCOND'] = 'Dawn'\n",
    "\n",
    "df_drop.loc[(df_drop['TIME'] >19) & (df_drop['TIME'] <= 20) & (df_drop['MONTH'] == 4) & (df_drop['LIGHTCOND']=='Unknown'), 'LIGHTCOND'] = 'Dusk'\n",
    "df_drop.loc[(df_drop['TIME'] >20) & (df_drop['TIME'] <= 21) & (df_drop['MONTH'] == 5) & (df_drop['LIGHTCOND']=='Unknown'), 'LIGHTCOND'] = 'Dusk'\n",
    "df_drop.loc[(df_drop['TIME'] >21) & (df_drop['TIME'] <= 22) & (df_drop['MONTH'] == 6) & (df_drop['LIGHTCOND']=='Unknown'), 'LIGHTCOND'] = 'Dusk'\n",
    "df_drop.loc[(df_drop['TIME'] >21) & (df_drop['TIME'] <= 22) & (df_drop['MONTH'] == 7) & (df_drop['LIGHTCOND']=='Unknown'), 'LIGHTCOND'] = 'Dusk'\n",
    "df_drop.loc[(df_drop['TIME'] >20) & (df_drop['TIME'] <= 21) & (df_drop['MONTH'] == 8) & (df_drop['LIGHTCOND']=='Unknown'), 'LIGHTCOND'] = 'Dusk'\n",
    "\n",
    "df_drop.loc[(df_drop['TIME'] >19) & (df_drop['TIME'] <= 20) & (df_drop['MONTH'] == 9) & (df_drop['LIGHTCOND']=='Unknown'), 'LIGHTCOND'] = 'Dusk'\n",
    "df_drop.loc[(df_drop['TIME'] >18) & (df_drop['TIME'] <= 19) & (df_drop['MONTH'] == 10) & (df_drop['LIGHTCOND']=='Unknown'), 'LIGHTCOND'] = 'Dusk'\n",
    "df_drop.loc[(df_drop['TIME'] >16) & (df_drop['TIME'] <= 17) & (df_drop['MONTH'] == 11) & (df_drop['LIGHTCOND']=='Unknown'), 'LIGHTCOND'] = 'Dusk'\n",
    "df_drop.loc[(df_drop['TIME'] >16) & (df_drop['TIME'] <= 17) & (df_drop['MONTH'] == 12) & (df_drop['LIGHTCOND']=='Unknown'), 'LIGHTCOND'] = 'Dusk'\n",
    "df_drop.loc[(df_drop['TIME'] >16) & (df_drop['TIME'] <= 17) & (df_drop['MONTH'] == 1) & (df_drop['LIGHTCOND']=='Unknown'), 'LIGHTCOND'] = 'Dusk'\n",
    "df_drop.loc[(df_drop['TIME'] >17) & (df_drop['TIME'] <= 18) & (df_drop['MONTH'] == 2) & (df_drop['LIGHTCOND']=='Unknown'), 'LIGHTCOND'] = 'Dusk'\n",
    "df_drop.loc[(df_drop['TIME'] >19) & (df_drop['TIME'] <= 20) & (df_drop['MONTH'] == 3) & (df_drop['LIGHTCOND']=='Unknown'), 'LIGHTCOND'] = 'Dusk'\n"
   ]
  },
  {
   "cell_type": "code",
   "execution_count": 58,
   "metadata": {},
   "outputs": [
    {
     "data": {
      "text/plain": [
       "Daylight                   123962\n",
       "Dark - Street Lights On     48507\n",
       "Dusk                         6651\n",
       "NaN                          4966\n",
       "Unknown                      4916\n",
       "Dark - No Street Lights      2747\n",
       "Dawn                         2689\n",
       "Other                         235\n",
       "Name: LIGHTCOND, dtype: int64"
      ]
     },
     "execution_count": 58,
     "metadata": {},
     "output_type": "execute_result"
    }
   ],
   "source": [
    "df_drop['LIGHTCOND'].value_counts(dropna=False)"
   ]
  },
  {
   "cell_type": "markdown",
   "metadata": {},
   "source": [
    "By checking the pre- and post- changes it can be noticed that observations with values 'Unknown' have been reduced from 13473 to only 4916 recors. That means that 8557 records with 'Unknown' value were corrected."
   ]
  },
  {
   "cell_type": "code",
   "execution_count": 59,
   "metadata": {},
   "outputs": [
    {
     "data": {
      "text/plain": [
       "Daylight                   123962\n",
       "Dark - Street Lights On     48507\n",
       "Unknown                     10117\n",
       "Dusk                         6651\n",
       "Dark - No Street Lights      2747\n",
       "Dawn                         2689\n",
       "Name: LIGHTCOND, dtype: int64"
      ]
     },
     "execution_count": 59,
     "metadata": {},
     "output_type": "execute_result"
    }
   ],
   "source": [
    "# Replacing 'Other' with 'Unknown' since not much useful information is providing.\n",
    "df_drop['LIGHTCOND']=df_drop['LIGHTCOND'].replace(['Other'],'Unknown')\n",
    "\n",
    "# Replacing 'NaN' with 'Unknown'. Most of the useful information already has been extracted and adjusted. \n",
    "df_drop.loc[df_drop['LIGHTCOND'].isnull(), 'LIGHTCOND'] = 'Unknown'\n",
    "\n",
    "# Reporting the new shape of the column 'LIGHTCOND'\n",
    "df_drop['LIGHTCOND'].value_counts(dropna=False)"
   ]
  },
  {
   "cell_type": "code",
   "execution_count": 60,
   "metadata": {},
   "outputs": [],
   "source": [
    "# Comparing the innitial report of the 'LIGHTCOND' feature (bellow) with the results (above)\n",
    "\n",
    "# Daylight                    116137\n",
    "# Dark - Street Lights On      48507\n",
    "# Unknown                      13473\n",
    "# Dusk                          5902\n",
    "# NaN                           5170\n",
    "# Dawn                          2502\n",
    "# Dark - No Street Lights       1537\n",
    "# Dark - Street Lights Off      1199\n",
    "# Other                          235\n",
    "# Dark - Unknown Lighting         11"
   ]
  },
  {
   "cell_type": "markdown",
   "metadata": {},
   "source": [
    "Just to mention that there are mistakes identified such as events occured during the night time were reported as having Daylight values. Overall there are about one hundred of such errors. "
   ]
  },
  {
   "cell_type": "code",
   "execution_count": 61,
   "metadata": {},
   "outputs": [
    {
     "data": {
      "text/plain": [
       "LOG              5334\n",
       "LAT              5334\n",
       "ADDRTYPE         1926\n",
       "LOCATION         2677\n",
       "COLLISIONTYPE    4904\n",
       "JUNCTIONTYPE     6329\n",
       "WEATHER          5081\n",
       "ROADCOND         5012\n",
       "dtype: int64"
      ]
     },
     "execution_count": 61,
     "metadata": {},
     "output_type": "execute_result"
    }
   ],
   "source": [
    "# Updated NaN values per feature\n",
    "null_columns1=df_drop.columns[df_drop.isnull().any()]\n",
    "df_drop[null_columns1].isnull().sum()"
   ]
  },
  {
   "cell_type": "code",
   "execution_count": 62,
   "metadata": {},
   "outputs": [],
   "source": [
    "# Adjusting values in 'ROADCOND' based on 'WEATHER' values.\n",
    "\n",
    "# When raining \n",
    "df_drop.loc[(df_drop['WEATHER'] == 'Raining') & (df_drop['ROADCOND']=='Unknown'), 'ROADCOND'] = 'Wet'\n",
    "df_drop.loc[(df_drop['WEATHER'] == 'Raining') & (df_drop['ROADCOND']=='Other'), 'ROADCOND'] = 'Wet'\n",
    "df_drop.loc[(df_drop['WEATHER'] == 'Raining') & (df_drop['ROADCOND'].isnull()), 'ROADCOND'] = 'Wet'\n",
    "\n",
    "# When snowing\n",
    "df_drop.loc[(df_drop['WEATHER'] == 'Snowing') & (df_drop['ROADCOND']=='Unknown'), 'ROADCOND'] = 'Snow/Slush'\n",
    "df_drop.loc[(df_drop['WEATHER'] == 'Snowing') & (df_drop['ROADCOND']=='Other'), 'ROADCOND'] = 'Snow/Slush'\n",
    "df_drop.loc[(df_drop['WEATHER'] == 'Snowing') & (df_drop['ROADCOND'].isnull()), 'ROADCOND'] = 'Snow/Slush'\n",
    "\n",
    "# When weather is \"Sleet/Hail/Freezing Rain\" road condition usually are 'Wet'\n",
    "df_drop.loc[(df_drop['WEATHER'] == 'Sleet/Hail/Freezing Rain') & (df_drop['ROADCOND']=='Unknown'), 'ROADCOND'] = 'Wet'\n",
    "df_drop.loc[(df_drop['WEATHER'] == 'Sleet/Hail/Freezing Rain') & (df_drop['ROADCOND']=='Other'), 'ROADCOND'] = 'Wet'\n",
    "df_drop.loc[(df_drop['WEATHER'] == 'Sleet/Hail/Freezing Rain') & (df_drop['ROADCOND'].isnull()), 'ROADCOND'] = 'Wet'"
   ]
  },
  {
   "cell_type": "code",
   "execution_count": 63,
   "metadata": {},
   "outputs": [],
   "source": [
    "# Adjusting values in 'WEATHER' based on 'ROADCOND' values.\n",
    "\n",
    "# When road is 'Wet' it is more likely is raining. Althougth, it could be Sleet/Hail/Freezing Rain or Snowing, \n",
    "# considering the proportions/propability of occurence the 'Raining' value is more likely to be appropriate for substitution.\n",
    "\n",
    "df_drop.loc[(df_drop['ROADCOND'] == 'Wet') & (df_drop['WEATHER']=='Unknown'), 'WEATHER'] = 'Raining'\n",
    "df_drop.loc[(df_drop['ROADCOND'] == 'Wet') & (df_drop['WEATHER']=='Other'), 'WEATHER'] = 'Raining'\n",
    "df_drop.loc[(df_drop['ROADCOND'] == 'Wet') & (df_drop['WEATHER'].isnull()), 'WEATHER'] = 'Raining'\n",
    "\n",
    "# When 'ROADCOND' is checked as 'Snow/Slush' it is more likely that 'WEATHER' should take 'Snowing' value\n",
    "df_drop.loc[(df_drop['ROADCOND'] == 'Snow/Slush') & (df_drop['WEATHER']=='Unknown'), 'WEATHER'] = 'Snowing'\n",
    "df_drop.loc[(df_drop['ROADCOND'] == 'Snow/Slush') & (df_drop['WEATHER']=='Other'), 'WEATHER'] = 'Snowing'\n",
    "df_drop.loc[(df_drop['ROADCOND'] == 'Snow/Slush') & (df_drop['WEATHER'].isnull()), 'WEATHER'] = 'Snowing'"
   ]
  },
  {
   "cell_type": "code",
   "execution_count": 64,
   "metadata": {},
   "outputs": [],
   "source": [
    "# Replacing 'Other' with 'Unknown' since not much useful information is providing.\n",
    "df_drop['WEATHER']=df_drop['WEATHER'].replace(['Other'],'Unknown')\n",
    "df_drop['ROADCOND']=df_drop['ROADCOND'].replace(['Other'],'Unknown')\n",
    "\n",
    "# Replacing 'NaN' with 'Unknown'. Most of the useful information already has been extracted and adjusted. \n",
    "df_drop.loc[df_drop['WEATHER'].isnull(), 'WEATHER'] = 'Unknown'\n",
    "df_drop.loc[df_drop['ROADCOND'].isnull(), 'ROADCOND'] = 'Unknown'"
   ]
  },
  {
   "cell_type": "markdown",
   "metadata": {},
   "source": [
    "So far, changes has been made on 'LIGHTCOND' based on daytime hours, and to features 'WEATHER' and 'ROADCOND' by cross-checking the available information.\n",
    "Similar approach can be taken while makeing needed adjustments to columns 'JUNCTIONTYPE' and 'COLLISIONTYPE'."
   ]
  },
  {
   "cell_type": "code",
   "execution_count": 65,
   "metadata": {},
   "outputs": [
    {
     "data": {
      "text/plain": [
       "Parked Car    47987\n",
       "Angles        34674\n",
       "Rear Ended    34090\n",
       "Other         23703\n",
       "Sideswipe     18609\n",
       "Left Turn     13703\n",
       "Pedestrian     6608\n",
       "Cycles         5415\n",
       "NaN            4904\n",
       "Right Turn     2956\n",
       "Head On        2024\n",
       "Name: COLLISIONTYPE, dtype: int64"
      ]
     },
     "execution_count": 65,
     "metadata": {},
     "output_type": "execute_result"
    }
   ],
   "source": [
    "df_drop['COLLISIONTYPE'].value_counts(dropna=False)"
   ]
  },
  {
   "cell_type": "code",
   "execution_count": 66,
   "metadata": {},
   "outputs": [
    {
     "data": {
      "text/plain": [
       "Mid-Block (not related to intersection)              89800\n",
       "At Intersection (intersection related)               62810\n",
       "Mid-Block (but intersection related)                 22790\n",
       "Driveway Junction                                    10671\n",
       "NaN                                                   6329\n",
       "At Intersection (but not related to intersection)     2098\n",
       "Ramp Junction                                          166\n",
       "Unknown                                                  9\n",
       "Name: JUNCTIONTYPE, dtype: int64"
      ]
     },
     "execution_count": 66,
     "metadata": {},
     "output_type": "execute_result"
    }
   ],
   "source": [
    "df_drop['JUNCTIONTYPE'].value_counts(dropna=False)"
   ]
  },
  {
   "cell_type": "markdown",
   "metadata": {},
   "source": [
    "Checking values of both columns, it can be observed few correlated aspects that can be used to extract needed information to fill the NaN values. So, an accident happened to a 'Parked Car' is more likely to happen while a car is parked in either 'Mid-Block (not related to intersection)' or 'At Intersection (but not related to intersection)' or 'Driveway Junction'. But, since first option dominates in terms of frequency, it will be fairly safe to assume that if a 'NaN' or 'Unknown' values from 'JUNCTIONTYPE' matches the value of 'Parked Car' value from 'COLLISIONTYPE' than those values must be changed to 'Mid-Block (not related to intersection)'. "
   ]
  },
  {
   "cell_type": "markdown",
   "metadata": {},
   "source": [
    "If 'JUNCTIONTYPE' takes value 'Mid-Block (but intersection related)' or 'At Intersection (intersection related)', it is more likely that the accident happended while trying to turn left. Again, the frequency for the left turn dominates, thus we will change the missing values for 'COLLISIONTYPE' to 'Left Turn' if it matches with the intersection related values of the 'JUNCTIONTYPE' column."
   ]
  },
  {
   "cell_type": "code",
   "execution_count": 67,
   "metadata": {},
   "outputs": [],
   "source": [
    "# Replacing the missing values of 'JUNCTIONTYPE' with 'Mid-Block (not related to intersection)' if \n",
    "# the coresponding value for the 'COLLISIONTYPE' reports a 'Parked Car'\n",
    "\n",
    "df_drop.loc[(df_drop['COLLISIONTYPE'] == 'Parked Car') & (df_drop['JUNCTIONTYPE']=='Unknown'), 'JUNCTIONTYPE'] = 'Mid-Block (not related to intersection)'\n",
    "df_drop.loc[(df_drop['COLLISIONTYPE'] == 'Parked Car') & (df_drop['JUNCTIONTYPE'].isnull()), 'JUNCTIONTYPE'] = 'Mid-Block (not related to intersection)'\n",
    "\n",
    "# Replacing the missing values of 'JUNCTIONTYPE' with 'At Intersection (intersection related)' if \n",
    "# the coresponding value for the 'COLLISIONTYPE' reports a 'Left Turn' or 'Right Turn'\n",
    "\n",
    "df_drop.loc[(df_drop['COLLISIONTYPE'] == 'Left Turn') & (df_drop['JUNCTIONTYPE']=='Unknown'), 'JUNCTIONTYPE'] = 'At Intersection (intersection related)'\n",
    "df_drop.loc[(df_drop['COLLISIONTYPE'] == 'Left Turn') & (df_drop['JUNCTIONTYPE'].isnull()), 'JUNCTIONTYPE'] = 'At Intersection (intersection related)'\n",
    "df_drop.loc[(df_drop['COLLISIONTYPE'] == 'Right Turn') & (df_drop['JUNCTIONTYPE']=='Unknown'), 'JUNCTIONTYPE'] = 'At Intersection (intersection related)'\n",
    "df_drop.loc[(df_drop['COLLISIONTYPE'] == 'Right Turn') & (df_drop['JUNCTIONTYPE'].isnull()), 'JUNCTIONTYPE'] = 'At Intersection (intersection related)'\n",
    "\n",
    "# Replacing the missing values of 'COLLISIONTYPE' with 'Left Turn' if the coresponding value for the 'JUNCTIONTYPE'\n",
    "# report 'Mid-Block (but intersection related)' or 'At Intersection (intersection related)'\n",
    "\n",
    "df_drop.loc[(df_drop['JUNCTIONTYPE'] == 'Mid-Block (but intersection related)') & (df_drop['COLLISIONTYPE']=='Other'), 'COLLISIONTYPE'] = 'Left Turn'\n",
    "df_drop.loc[(df_drop['JUNCTIONTYPE'] == 'Mid-Block (but intersection related)') & (df_drop['COLLISIONTYPE'].isnull()), 'COLLISIONTYPE'] = 'Left Turn'\n",
    "df_drop.loc[(df_drop['JUNCTIONTYPE'] == 'At Intersection (intersection related)') & (df_drop['COLLISIONTYPE']=='Other'), 'COLLISIONTYPE'] = 'Left Turn'\n",
    "df_drop.loc[(df_drop['JUNCTIONTYPE'] == 'At Intersection (intersection related)') & (df_drop['COLLISIONTYPE'].isnull()), 'COLLISIONTYPE'] = 'Left Turn'\n",
    "\n",
    "# Replacing the missing values of 'COLLISIONTYPE' with 'Parked Car' if the coresponding value for the 'JUNCTIONTYPE'\n",
    "# report 'Mid-Block (not related to intersection)'\n",
    "\n",
    "df_drop.loc[(df_drop['JUNCTIONTYPE'] == 'Mid-Block (not related to intersection)') & (df_drop['COLLISIONTYPE']=='Unknown'), 'COLLISIONTYPE'] = 'Parked Car'\n",
    "df_drop.loc[(df_drop['JUNCTIONTYPE'] == 'Mid-Block (not related to intersection)') & (df_drop['COLLISIONTYPE'].isnull()), 'COLLISIONTYPE'] = 'Parked Car'"
   ]
  },
  {
   "cell_type": "code",
   "execution_count": 68,
   "metadata": {},
   "outputs": [
    {
     "data": {
      "text/plain": [
       "Parked Car    50670\n",
       "Angles        34674\n",
       "Rear Ended    34090\n",
       "Left Turn     22209\n",
       "Sideswipe     18609\n",
       "Other         17088\n",
       "Pedestrian     6608\n",
       "Cycles         5415\n",
       "Right Turn     2956\n",
       "Head On        2024\n",
       "NaN             330\n",
       "Name: COLLISIONTYPE, dtype: int64"
      ]
     },
     "execution_count": 68,
     "metadata": {},
     "output_type": "execute_result"
    }
   ],
   "source": [
    "df_drop['COLLISIONTYPE'].value_counts(dropna=False)"
   ]
  },
  {
   "cell_type": "code",
   "execution_count": 69,
   "metadata": {},
   "outputs": [
    {
     "data": {
      "text/plain": [
       "Mid-Block (not related to intersection)              94372\n",
       "At Intersection (intersection related)               62880\n",
       "Mid-Block (but intersection related)                 22790\n",
       "Driveway Junction                                    10671\n",
       "At Intersection (but not related to intersection)     2098\n",
       "NaN                                                   1692\n",
       "Ramp Junction                                          166\n",
       "Unknown                                                  4\n",
       "Name: JUNCTIONTYPE, dtype: int64"
      ]
     },
     "execution_count": 69,
     "metadata": {},
     "output_type": "execute_result"
    }
   ],
   "source": [
    "df_drop['JUNCTIONTYPE'].value_counts(dropna=False)"
   ]
  },
  {
   "cell_type": "markdown",
   "metadata": {},
   "source": [
    "Final checks to assure that the most useful information were extracted and manipulated properly."
   ]
  },
  {
   "cell_type": "code",
   "execution_count": 70,
   "metadata": {},
   "outputs": [
    {
     "name": "stdout",
     "output_type": "stream",
     "text": [
      "COLLISIONTYPE   False  True \n",
      "JUNCTIONTYPE                \n",
      "False          192804    177\n",
      "True             1539    153\n"
     ]
    }
   ],
   "source": [
    "df_check = df_drop.isna()\n",
    "df_check1 = pd.crosstab(df_check['JUNCTIONTYPE'], df_check['COLLISIONTYPE'])\n",
    "print (df_check1)"
   ]
  },
  {
   "cell_type": "markdown",
   "metadata": {},
   "source": [
    "It can be observed that while 'JUNCTIONTYPE' isnull, in 1539 observation the 'COLLISIONTYPE' feature still provides some information. Therefore, a crosstab should provide some kind of inteligence that might help to deal with NaN values."
   ]
  },
  {
   "cell_type": "code",
   "execution_count": 71,
   "metadata": {},
   "outputs": [
    {
     "data": {
      "text/html": [
       "<div>\n",
       "<style scoped>\n",
       "    .dataframe tbody tr th:only-of-type {\n",
       "        vertical-align: middle;\n",
       "    }\n",
       "\n",
       "    .dataframe tbody tr th {\n",
       "        vertical-align: top;\n",
       "    }\n",
       "\n",
       "    .dataframe thead th {\n",
       "        text-align: right;\n",
       "    }\n",
       "</style>\n",
       "<table border=\"1\" class=\"dataframe\">\n",
       "  <thead>\n",
       "    <tr style=\"text-align: right;\">\n",
       "      <th>JUNCTIONTYPE</th>\n",
       "      <th>False</th>\n",
       "      <th>True</th>\n",
       "    </tr>\n",
       "    <tr>\n",
       "      <th>COLLISIONTYPE</th>\n",
       "      <th></th>\n",
       "      <th></th>\n",
       "    </tr>\n",
       "  </thead>\n",
       "  <tbody>\n",
       "    <tr>\n",
       "      <th>Angles</th>\n",
       "      <td>34517</td>\n",
       "      <td>157</td>\n",
       "    </tr>\n",
       "    <tr>\n",
       "      <th>Cycles</th>\n",
       "      <td>5377</td>\n",
       "      <td>38</td>\n",
       "    </tr>\n",
       "    <tr>\n",
       "      <th>Head On</th>\n",
       "      <td>2002</td>\n",
       "      <td>22</td>\n",
       "    </tr>\n",
       "    <tr>\n",
       "      <th>Left Turn</th>\n",
       "      <td>22209</td>\n",
       "      <td>0</td>\n",
       "    </tr>\n",
       "    <tr>\n",
       "      <th>Other</th>\n",
       "      <td>16467</td>\n",
       "      <td>621</td>\n",
       "    </tr>\n",
       "    <tr>\n",
       "      <th>Parked Car</th>\n",
       "      <td>50670</td>\n",
       "      <td>0</td>\n",
       "    </tr>\n",
       "    <tr>\n",
       "      <th>Pedestrian</th>\n",
       "      <td>6529</td>\n",
       "      <td>79</td>\n",
       "    </tr>\n",
       "    <tr>\n",
       "      <th>Rear Ended</th>\n",
       "      <td>33736</td>\n",
       "      <td>354</td>\n",
       "    </tr>\n",
       "    <tr>\n",
       "      <th>Right Turn</th>\n",
       "      <td>2956</td>\n",
       "      <td>0</td>\n",
       "    </tr>\n",
       "    <tr>\n",
       "      <th>Sideswipe</th>\n",
       "      <td>18341</td>\n",
       "      <td>268</td>\n",
       "    </tr>\n",
       "  </tbody>\n",
       "</table>\n",
       "</div>"
      ],
      "text/plain": [
       "JUNCTIONTYPE   False  True \n",
       "COLLISIONTYPE              \n",
       "Angles         34517    157\n",
       "Cycles          5377     38\n",
       "Head On         2002     22\n",
       "Left Turn      22209      0\n",
       "Other          16467    621\n",
       "Parked Car     50670      0\n",
       "Pedestrian      6529     79\n",
       "Rear Ended     33736    354\n",
       "Right Turn      2956      0\n",
       "Sideswipe      18341    268"
      ]
     },
     "execution_count": 71,
     "metadata": {},
     "output_type": "execute_result"
    }
   ],
   "source": [
    "df2= pd.crosstab(df_drop['COLLISIONTYPE'], df_drop['JUNCTIONTYPE'].isnull())\n",
    "df2"
   ]
  },
  {
   "cell_type": "markdown",
   "metadata": {},
   "source": [
    "Information provided do not reveals much usefull insight regarding the NaN values for the 'JUNCTIONTYPE' feature."
   ]
  },
  {
   "cell_type": "markdown",
   "metadata": {},
   "source": [
    "After above data manipulation, the column 'COLLISIONTYPE' still registers 330 NaN values, that will be replaced with 'Other' value. Similarly, the column 'JUNCTIONTYPE' contains 1692 NaN values that will be converted into 'Unknown' values."
   ]
  },
  {
   "cell_type": "code",
   "execution_count": 72,
   "metadata": {},
   "outputs": [],
   "source": [
    "df_drop.loc[df_drop['COLLISIONTYPE'].isnull(), 'COLLISIONTYPE']='Other'\n",
    "df_drop.loc[df_drop['JUNCTIONTYPE'].isnull(), 'JUNCTIONTYPE']='Unknown'"
   ]
  },
  {
   "cell_type": "code",
   "execution_count": 73,
   "metadata": {},
   "outputs": [
    {
     "data": {
      "text/plain": [
       "LOG              5334\n",
       "LAT              5334\n",
       "ADDRTYPE         1926\n",
       "LOCATION         2677\n",
       "COLLISIONTYPE       0\n",
       "JUNCTIONTYPE        0\n",
       "WEATHER             0\n",
       "ROADCOND            0\n",
       "LIGHTCOND           0\n",
       "dtype: int64"
      ]
     },
     "execution_count": 73,
     "metadata": {},
     "output_type": "execute_result"
    }
   ],
   "source": [
    "# Updated NaN values per feature\n",
    "\n",
    "df_drop[null_columns].isnull().sum()"
   ]
  },
  {
   "cell_type": "code",
   "execution_count": 74,
   "metadata": {},
   "outputs": [
    {
     "data": {
      "text/html": [
       "<div>\n",
       "<style scoped>\n",
       "    .dataframe tbody tr th:only-of-type {\n",
       "        vertical-align: middle;\n",
       "    }\n",
       "\n",
       "    .dataframe tbody tr th {\n",
       "        vertical-align: top;\n",
       "    }\n",
       "\n",
       "    .dataframe thead th {\n",
       "        text-align: right;\n",
       "    }\n",
       "</style>\n",
       "<table border=\"1\" class=\"dataframe\">\n",
       "  <thead>\n",
       "    <tr style=\"text-align: right;\">\n",
       "      <th>ADDRTYPE</th>\n",
       "      <th>False</th>\n",
       "      <th>True</th>\n",
       "    </tr>\n",
       "    <tr>\n",
       "      <th>LOCATION</th>\n",
       "      <th></th>\n",
       "      <th></th>\n",
       "    </tr>\n",
       "  </thead>\n",
       "  <tbody>\n",
       "    <tr>\n",
       "      <th>False</th>\n",
       "      <td>191996</td>\n",
       "      <td>0</td>\n",
       "    </tr>\n",
       "    <tr>\n",
       "      <th>True</th>\n",
       "      <td>751</td>\n",
       "      <td>1926</td>\n",
       "    </tr>\n",
       "  </tbody>\n",
       "</table>\n",
       "</div>"
      ],
      "text/plain": [
       "ADDRTYPE   False  True \n",
       "LOCATION               \n",
       "False     191996      0\n",
       "True         751   1926"
      ]
     },
     "execution_count": 74,
     "metadata": {},
     "output_type": "execute_result"
    }
   ],
   "source": [
    "# Trying to group two features and to extract some usefull information for further manipulation of NaN values\n",
    "df3= pd.crosstab(df_drop['LOCATION'].isnull(), df_drop['ADDRTYPE'].isnull())\n",
    "df3"
   ]
  },
  {
   "cell_type": "code",
   "execution_count": 75,
   "metadata": {},
   "outputs": [
    {
     "data": {
      "text/html": [
       "<div>\n",
       "<style scoped>\n",
       "    .dataframe tbody tr th:only-of-type {\n",
       "        vertical-align: middle;\n",
       "    }\n",
       "\n",
       "    .dataframe tbody tr th {\n",
       "        vertical-align: top;\n",
       "    }\n",
       "\n",
       "    .dataframe thead th {\n",
       "        text-align: right;\n",
       "    }\n",
       "</style>\n",
       "<table border=\"1\" class=\"dataframe\">\n",
       "  <thead>\n",
       "    <tr style=\"text-align: right;\">\n",
       "      <th>ADDRTYPE</th>\n",
       "      <th>Alley</th>\n",
       "      <th>Block</th>\n",
       "      <th>Intersection</th>\n",
       "    </tr>\n",
       "    <tr>\n",
       "      <th>LOCATION</th>\n",
       "      <th></th>\n",
       "      <th></th>\n",
       "      <th></th>\n",
       "    </tr>\n",
       "  </thead>\n",
       "  <tbody>\n",
       "    <tr>\n",
       "      <th>False</th>\n",
       "      <td>0</td>\n",
       "      <td>126926</td>\n",
       "      <td>65070</td>\n",
       "    </tr>\n",
       "    <tr>\n",
       "      <th>True</th>\n",
       "      <td>751</td>\n",
       "      <td>0</td>\n",
       "      <td>0</td>\n",
       "    </tr>\n",
       "  </tbody>\n",
       "</table>\n",
       "</div>"
      ],
      "text/plain": [
       "ADDRTYPE  Alley   Block  Intersection\n",
       "LOCATION                             \n",
       "False         0  126926         65070\n",
       "True        751       0             0"
      ]
     },
     "execution_count": 75,
     "metadata": {},
     "output_type": "execute_result"
    }
   ],
   "source": [
    "df4= pd.crosstab(df_drop['LOCATION'].isnull(), df_drop['ADDRTYPE'])\n",
    "df4"
   ]
  },
  {
   "cell_type": "code",
   "execution_count": 76,
   "metadata": {},
   "outputs": [],
   "source": [
    "df_drop.loc[(df_drop['LOCATION'].isnull()) & (df_drop['ADDRTYPE']=='Alley'), 'LOCATION']='Unknown'"
   ]
  },
  {
   "cell_type": "markdown",
   "metadata": {},
   "source": [
    "Probably, the person that records the accident on an alley doesn't know the exact location and he/she skipps this field. 751 observation having values of NaN under the 'LOCATION', still shows under 'ADDRTYPE' that the accident happened on alley. Thus, 751 NaN observation, besides exact location, still offers some analytical information. So, these observation will fill NaN value with 'Unknown' value. Other 1926 NaN values for LOCATION column are NaN under ADDRTYPE column as well. "
   ]
  },
  {
   "cell_type": "code",
   "execution_count": 77,
   "metadata": {},
   "outputs": [
    {
     "data": {
      "text/html": [
       "<div>\n",
       "<style scoped>\n",
       "    .dataframe tbody tr th:only-of-type {\n",
       "        vertical-align: middle;\n",
       "    }\n",
       "\n",
       "    .dataframe tbody tr th {\n",
       "        vertical-align: top;\n",
       "    }\n",
       "\n",
       "    .dataframe thead th {\n",
       "        text-align: right;\n",
       "    }\n",
       "</style>\n",
       "<table border=\"1\" class=\"dataframe\">\n",
       "  <thead>\n",
       "    <tr style=\"text-align: right;\">\n",
       "      <th>ADDRTYPE</th>\n",
       "      <th>False</th>\n",
       "      <th>True</th>\n",
       "    </tr>\n",
       "    <tr>\n",
       "      <th>LOCATION</th>\n",
       "      <th></th>\n",
       "      <th></th>\n",
       "    </tr>\n",
       "  </thead>\n",
       "  <tbody>\n",
       "    <tr>\n",
       "      <th>False</th>\n",
       "      <td>192747</td>\n",
       "      <td>0</td>\n",
       "    </tr>\n",
       "    <tr>\n",
       "      <th>True</th>\n",
       "      <td>0</td>\n",
       "      <td>1926</td>\n",
       "    </tr>\n",
       "  </tbody>\n",
       "</table>\n",
       "</div>"
      ],
      "text/plain": [
       "ADDRTYPE   False  True \n",
       "LOCATION               \n",
       "False     192747      0\n",
       "True           0   1926"
      ]
     },
     "execution_count": 77,
     "metadata": {},
     "output_type": "execute_result"
    }
   ],
   "source": [
    "df5= pd.crosstab(df_drop['LOCATION'].isnull(), df_drop['ADDRTYPE'].isnull())\n",
    "df5"
   ]
  },
  {
   "cell_type": "markdown",
   "metadata": {},
   "source": [
    "At this point, there are still 1926 NaN values for both 'ADDRTYPE' and 'LOCATION' columns. The 'LOCATION' columns represents the exact address of the accident that occured. Thus, to extract the exact address by exploring the data is not possible. However, we can try to address some NaN values for 'ADDRTYPE' columns by crosscheck it with 'JUNCTIONTYPE' and 'COLLISIONTYPE' columns."
   ]
  },
  {
   "cell_type": "code",
   "execution_count": 78,
   "metadata": {},
   "outputs": [
    {
     "data": {
      "text/html": [
       "<div>\n",
       "<style scoped>\n",
       "    .dataframe tbody tr th:only-of-type {\n",
       "        vertical-align: middle;\n",
       "    }\n",
       "\n",
       "    .dataframe tbody tr th {\n",
       "        vertical-align: top;\n",
       "    }\n",
       "\n",
       "    .dataframe thead th {\n",
       "        text-align: right;\n",
       "    }\n",
       "</style>\n",
       "<table border=\"1\" class=\"dataframe\">\n",
       "  <thead>\n",
       "    <tr style=\"text-align: right;\">\n",
       "      <th>ADDRTYPE</th>\n",
       "      <th>False</th>\n",
       "      <th>True</th>\n",
       "    </tr>\n",
       "    <tr>\n",
       "      <th>COLLISIONTYPE</th>\n",
       "      <th></th>\n",
       "      <th></th>\n",
       "    </tr>\n",
       "  </thead>\n",
       "  <tbody>\n",
       "    <tr>\n",
       "      <th>Angles</th>\n",
       "      <td>34608</td>\n",
       "      <td>66</td>\n",
       "    </tr>\n",
       "    <tr>\n",
       "      <th>Cycles</th>\n",
       "      <td>5411</td>\n",
       "      <td>4</td>\n",
       "    </tr>\n",
       "    <tr>\n",
       "      <th>Head On</th>\n",
       "      <td>2018</td>\n",
       "      <td>6</td>\n",
       "    </tr>\n",
       "    <tr>\n",
       "      <th>Left Turn</th>\n",
       "      <td>22170</td>\n",
       "      <td>39</td>\n",
       "    </tr>\n",
       "    <tr>\n",
       "      <th>Other</th>\n",
       "      <td>17188</td>\n",
       "      <td>230</td>\n",
       "    </tr>\n",
       "    <tr>\n",
       "      <th>Parked Car</th>\n",
       "      <td>49490</td>\n",
       "      <td>1180</td>\n",
       "    </tr>\n",
       "    <tr>\n",
       "      <th>Pedestrian</th>\n",
       "      <td>6604</td>\n",
       "      <td>4</td>\n",
       "    </tr>\n",
       "    <tr>\n",
       "      <th>Rear Ended</th>\n",
       "      <td>33846</td>\n",
       "      <td>244</td>\n",
       "    </tr>\n",
       "    <tr>\n",
       "      <th>Right Turn</th>\n",
       "      <td>2940</td>\n",
       "      <td>16</td>\n",
       "    </tr>\n",
       "    <tr>\n",
       "      <th>Sideswipe</th>\n",
       "      <td>18472</td>\n",
       "      <td>137</td>\n",
       "    </tr>\n",
       "  </tbody>\n",
       "</table>\n",
       "</div>"
      ],
      "text/plain": [
       "ADDRTYPE       False  True \n",
       "COLLISIONTYPE              \n",
       "Angles         34608     66\n",
       "Cycles          5411      4\n",
       "Head On         2018      6\n",
       "Left Turn      22170     39\n",
       "Other          17188    230\n",
       "Parked Car     49490   1180\n",
       "Pedestrian      6604      4\n",
       "Rear Ended     33846    244\n",
       "Right Turn      2940     16\n",
       "Sideswipe      18472    137"
      ]
     },
     "execution_count": 78,
     "metadata": {},
     "output_type": "execute_result"
    }
   ],
   "source": [
    "df6= pd.crosstab(df_drop['COLLISIONTYPE'], df_drop['ADDRTYPE'].isnull())\n",
    "df6"
   ]
  },
  {
   "cell_type": "code",
   "execution_count": 79,
   "metadata": {},
   "outputs": [
    {
     "data": {
      "text/html": [
       "<div>\n",
       "<style scoped>\n",
       "    .dataframe tbody tr th:only-of-type {\n",
       "        vertical-align: middle;\n",
       "    }\n",
       "\n",
       "    .dataframe tbody tr th {\n",
       "        vertical-align: top;\n",
       "    }\n",
       "\n",
       "    .dataframe thead th {\n",
       "        text-align: right;\n",
       "    }\n",
       "</style>\n",
       "<table border=\"1\" class=\"dataframe\">\n",
       "  <thead>\n",
       "    <tr style=\"text-align: right;\">\n",
       "      <th>ADDRTYPE</th>\n",
       "      <th>False</th>\n",
       "      <th>True</th>\n",
       "    </tr>\n",
       "    <tr>\n",
       "      <th>JUNCTIONTYPE</th>\n",
       "      <th></th>\n",
       "      <th></th>\n",
       "    </tr>\n",
       "  </thead>\n",
       "  <tbody>\n",
       "    <tr>\n",
       "      <th>At Intersection (but not related to intersection)</th>\n",
       "      <td>2096</td>\n",
       "      <td>2</td>\n",
       "    </tr>\n",
       "    <tr>\n",
       "      <th>At Intersection (intersection related)</th>\n",
       "      <td>62816</td>\n",
       "      <td>64</td>\n",
       "    </tr>\n",
       "    <tr>\n",
       "      <th>Driveway Junction</th>\n",
       "      <td>10670</td>\n",
       "      <td>1</td>\n",
       "    </tr>\n",
       "    <tr>\n",
       "      <th>Mid-Block (but intersection related)</th>\n",
       "      <td>22775</td>\n",
       "      <td>15</td>\n",
       "    </tr>\n",
       "    <tr>\n",
       "      <th>Mid-Block (not related to intersection)</th>\n",
       "      <td>93101</td>\n",
       "      <td>1271</td>\n",
       "    </tr>\n",
       "    <tr>\n",
       "      <th>Ramp Junction</th>\n",
       "      <td>164</td>\n",
       "      <td>2</td>\n",
       "    </tr>\n",
       "    <tr>\n",
       "      <th>Unknown</th>\n",
       "      <td>1125</td>\n",
       "      <td>571</td>\n",
       "    </tr>\n",
       "  </tbody>\n",
       "</table>\n",
       "</div>"
      ],
      "text/plain": [
       "ADDRTYPE                                           False  True \n",
       "JUNCTIONTYPE                                                   \n",
       "At Intersection (but not related to intersection)   2096      2\n",
       "At Intersection (intersection related)             62816     64\n",
       "Driveway Junction                                  10670      1\n",
       "Mid-Block (but intersection related)               22775     15\n",
       "Mid-Block (not related to intersection)            93101   1271\n",
       "Ramp Junction                                        164      2\n",
       "Unknown                                             1125    571"
      ]
     },
     "execution_count": 79,
     "metadata": {},
     "output_type": "execute_result"
    }
   ],
   "source": [
    "df7= pd.crosstab(df_drop['JUNCTIONTYPE'], df_drop['ADDRTYPE'].isnull())\n",
    "df7"
   ]
  },
  {
   "cell_type": "code",
   "execution_count": 80,
   "metadata": {},
   "outputs": [],
   "source": [
    "# 'Mid-Block' accidents in 'JUNCTIONTYPE' relates to 'Block' in 'ADDRTYPE' columns. Therefore, cross-checking the NaN values between these columns.\n",
    "df_drop.loc[(df_drop['JUNCTIONTYPE'] == 'Mid-Block (not related to intersection)') & (df_drop['ADDRTYPE'].isnull()), 'ADDRTYPE'] = 'Block'\n",
    "df_drop.loc[(df_drop['JUNCTIONTYPE'] == 'Mid-Block (but intersection related)') & (df_drop['ADDRTYPE'].isnull()), 'ADDRTYPE'] = 'Block'\n",
    "\n",
    "# 'Intersection' accidents in 'JUNCTIONTYPE' relates to 'Block' in 'ADDRTYPE' columns. Therefore, cross-checking the NaN values between these columns.\n",
    "df_drop.loc[(df_drop['JUNCTIONTYPE'] == 'At Intersection (intersection related)') & (df_drop['ADDRTYPE'].isnull()), 'ADDRTYPE'] = 'Intersection'\n",
    "df_drop.loc[(df_drop['JUNCTIONTYPE'] == 'At Intersection (but not related to intersection)') & (df_drop['ADDRTYPE'].isnull()), 'ADDRTYPE'] = 'Intersection'"
   ]
  },
  {
   "cell_type": "markdown",
   "metadata": {},
   "source": [
    "Let's check the results"
   ]
  },
  {
   "cell_type": "code",
   "execution_count": 81,
   "metadata": {},
   "outputs": [
    {
     "data": {
      "text/html": [
       "<div>\n",
       "<style scoped>\n",
       "    .dataframe tbody tr th:only-of-type {\n",
       "        vertical-align: middle;\n",
       "    }\n",
       "\n",
       "    .dataframe tbody tr th {\n",
       "        vertical-align: top;\n",
       "    }\n",
       "\n",
       "    .dataframe thead th {\n",
       "        text-align: right;\n",
       "    }\n",
       "</style>\n",
       "<table border=\"1\" class=\"dataframe\">\n",
       "  <thead>\n",
       "    <tr style=\"text-align: right;\">\n",
       "      <th>ADDRTYPE</th>\n",
       "      <th>False</th>\n",
       "      <th>True</th>\n",
       "    </tr>\n",
       "    <tr>\n",
       "      <th>JUNCTIONTYPE</th>\n",
       "      <th></th>\n",
       "      <th></th>\n",
       "    </tr>\n",
       "  </thead>\n",
       "  <tbody>\n",
       "    <tr>\n",
       "      <th>At Intersection (but not related to intersection)</th>\n",
       "      <td>2098</td>\n",
       "      <td>0</td>\n",
       "    </tr>\n",
       "    <tr>\n",
       "      <th>At Intersection (intersection related)</th>\n",
       "      <td>62880</td>\n",
       "      <td>0</td>\n",
       "    </tr>\n",
       "    <tr>\n",
       "      <th>Driveway Junction</th>\n",
       "      <td>10670</td>\n",
       "      <td>1</td>\n",
       "    </tr>\n",
       "    <tr>\n",
       "      <th>Mid-Block (but intersection related)</th>\n",
       "      <td>22790</td>\n",
       "      <td>0</td>\n",
       "    </tr>\n",
       "    <tr>\n",
       "      <th>Mid-Block (not related to intersection)</th>\n",
       "      <td>94372</td>\n",
       "      <td>0</td>\n",
       "    </tr>\n",
       "    <tr>\n",
       "      <th>Ramp Junction</th>\n",
       "      <td>164</td>\n",
       "      <td>2</td>\n",
       "    </tr>\n",
       "    <tr>\n",
       "      <th>Unknown</th>\n",
       "      <td>1125</td>\n",
       "      <td>571</td>\n",
       "    </tr>\n",
       "  </tbody>\n",
       "</table>\n",
       "</div>"
      ],
      "text/plain": [
       "ADDRTYPE                                           False  True \n",
       "JUNCTIONTYPE                                                   \n",
       "At Intersection (but not related to intersection)   2098      0\n",
       "At Intersection (intersection related)             62880      0\n",
       "Driveway Junction                                  10670      1\n",
       "Mid-Block (but intersection related)               22790      0\n",
       "Mid-Block (not related to intersection)            94372      0\n",
       "Ramp Junction                                        164      2\n",
       "Unknown                                             1125    571"
      ]
     },
     "execution_count": 81,
     "metadata": {},
     "output_type": "execute_result"
    }
   ],
   "source": [
    "pd.crosstab(df_drop['JUNCTIONTYPE'], df_drop['ADDRTYPE'].isnull())"
   ]
  },
  {
   "cell_type": "code",
   "execution_count": 82,
   "metadata": {},
   "outputs": [
    {
     "data": {
      "text/html": [
       "<div>\n",
       "<style scoped>\n",
       "    .dataframe tbody tr th:only-of-type {\n",
       "        vertical-align: middle;\n",
       "    }\n",
       "\n",
       "    .dataframe tbody tr th {\n",
       "        vertical-align: top;\n",
       "    }\n",
       "\n",
       "    .dataframe thead th {\n",
       "        text-align: right;\n",
       "    }\n",
       "</style>\n",
       "<table border=\"1\" class=\"dataframe\">\n",
       "  <thead>\n",
       "    <tr style=\"text-align: right;\">\n",
       "      <th>ADDRTYPE</th>\n",
       "      <th>False</th>\n",
       "      <th>True</th>\n",
       "    </tr>\n",
       "    <tr>\n",
       "      <th>COLLISIONTYPE</th>\n",
       "      <th></th>\n",
       "      <th></th>\n",
       "    </tr>\n",
       "  </thead>\n",
       "  <tbody>\n",
       "    <tr>\n",
       "      <th>Angles</th>\n",
       "      <td>34619</td>\n",
       "      <td>55</td>\n",
       "    </tr>\n",
       "    <tr>\n",
       "      <th>Cycles</th>\n",
       "      <td>5414</td>\n",
       "      <td>1</td>\n",
       "    </tr>\n",
       "    <tr>\n",
       "      <th>Head On</th>\n",
       "      <td>2018</td>\n",
       "      <td>6</td>\n",
       "    </tr>\n",
       "    <tr>\n",
       "      <th>Left Turn</th>\n",
       "      <td>22209</td>\n",
       "      <td>0</td>\n",
       "    </tr>\n",
       "    <tr>\n",
       "      <th>Other</th>\n",
       "      <td>17222</td>\n",
       "      <td>196</td>\n",
       "    </tr>\n",
       "    <tr>\n",
       "      <th>Parked Car</th>\n",
       "      <td>50670</td>\n",
       "      <td>0</td>\n",
       "    </tr>\n",
       "    <tr>\n",
       "      <th>Pedestrian</th>\n",
       "      <td>6605</td>\n",
       "      <td>3</td>\n",
       "    </tr>\n",
       "    <tr>\n",
       "      <th>Rear Ended</th>\n",
       "      <td>33887</td>\n",
       "      <td>203</td>\n",
       "    </tr>\n",
       "    <tr>\n",
       "      <th>Right Turn</th>\n",
       "      <td>2956</td>\n",
       "      <td>0</td>\n",
       "    </tr>\n",
       "    <tr>\n",
       "      <th>Sideswipe</th>\n",
       "      <td>18499</td>\n",
       "      <td>110</td>\n",
       "    </tr>\n",
       "  </tbody>\n",
       "</table>\n",
       "</div>"
      ],
      "text/plain": [
       "ADDRTYPE       False  True \n",
       "COLLISIONTYPE              \n",
       "Angles         34619     55\n",
       "Cycles          5414      1\n",
       "Head On         2018      6\n",
       "Left Turn      22209      0\n",
       "Other          17222    196\n",
       "Parked Car     50670      0\n",
       "Pedestrian      6605      3\n",
       "Rear Ended     33887    203\n",
       "Right Turn      2956      0\n",
       "Sideswipe      18499    110"
      ]
     },
     "execution_count": 82,
     "metadata": {},
     "output_type": "execute_result"
    }
   ],
   "source": [
    "pd.crosstab(df_drop['COLLISIONTYPE'], df_drop['ADDRTYPE'].isnull())"
   ]
  },
  {
   "cell_type": "markdown",
   "metadata": {},
   "source": [
    "It can be observed that coss-checking information between above mentioned columns permited to identify values of NaN."
   ]
  },
  {
   "cell_type": "code",
   "execution_count": 83,
   "metadata": {},
   "outputs": [
    {
     "data": {
      "text/plain": [
       "Block           128212\n",
       "Intersection     65136\n",
       "Alley              751\n",
       "NaN                574\n",
       "Name: ADDRTYPE, dtype: int64"
      ]
     },
     "execution_count": 83,
     "metadata": {},
     "output_type": "execute_result"
    }
   ],
   "source": [
    "df_drop['ADDRTYPE'].value_counts(dropna=False)"
   ]
  },
  {
   "cell_type": "markdown",
   "metadata": {},
   "source": [
    "Now checking if NaN values of 'ADDRTYPE' feature that left un-manipulated provides any usefull information across other columns."
   ]
  },
  {
   "cell_type": "code",
   "execution_count": 84,
   "metadata": {},
   "outputs": [
    {
     "data": {
      "text/html": [
       "<div>\n",
       "<style scoped>\n",
       "    .dataframe tbody tr th:only-of-type {\n",
       "        vertical-align: middle;\n",
       "    }\n",
       "\n",
       "    .dataframe tbody tr th {\n",
       "        vertical-align: top;\n",
       "    }\n",
       "\n",
       "    .dataframe thead th {\n",
       "        text-align: right;\n",
       "    }\n",
       "</style>\n",
       "<table border=\"1\" class=\"dataframe\">\n",
       "  <thead>\n",
       "    <tr style=\"text-align: right;\">\n",
       "      <th></th>\n",
       "      <th>LOG</th>\n",
       "      <th>LAT</th>\n",
       "      <th>ADDRTYPE</th>\n",
       "      <th>LOCATION</th>\n",
       "      <th>SEVERITYDESC</th>\n",
       "      <th>COLLISIONTYPE</th>\n",
       "      <th>PERSONCOUNT</th>\n",
       "      <th>VEHCOUNT</th>\n",
       "      <th>INCDTTM</th>\n",
       "      <th>JUNCTIONTYPE</th>\n",
       "      <th>...</th>\n",
       "      <th>UNDERINFL</th>\n",
       "      <th>WEATHER</th>\n",
       "      <th>ROADCOND</th>\n",
       "      <th>LIGHTCOND</th>\n",
       "      <th>SPEEDING</th>\n",
       "      <th>NONVEH</th>\n",
       "      <th>DATE</th>\n",
       "      <th>MONTH</th>\n",
       "      <th>TIME</th>\n",
       "      <th>WKDAY</th>\n",
       "    </tr>\n",
       "  </thead>\n",
       "  <tbody>\n",
       "    <tr>\n",
       "      <th>715</th>\n",
       "      <td>NaN</td>\n",
       "      <td>NaN</td>\n",
       "      <td>NaN</td>\n",
       "      <td>NaN</td>\n",
       "      <td>Property damage</td>\n",
       "      <td>Sideswipe</td>\n",
       "      <td>2</td>\n",
       "      <td>2</td>\n",
       "      <td>2/6/2004</td>\n",
       "      <td>Unknown</td>\n",
       "      <td>...</td>\n",
       "      <td>N</td>\n",
       "      <td>Overcast</td>\n",
       "      <td>Wet</td>\n",
       "      <td>Dark - Street Lights On</td>\n",
       "      <td>N</td>\n",
       "      <td>0</td>\n",
       "      <td>2004-02-06</td>\n",
       "      <td>2</td>\n",
       "      <td>0</td>\n",
       "      <td>Friday</td>\n",
       "    </tr>\n",
       "    <tr>\n",
       "      <th>1023</th>\n",
       "      <td>NaN</td>\n",
       "      <td>NaN</td>\n",
       "      <td>NaN</td>\n",
       "      <td>NaN</td>\n",
       "      <td>Property damage</td>\n",
       "      <td>Sideswipe</td>\n",
       "      <td>2</td>\n",
       "      <td>2</td>\n",
       "      <td>5/6/2009</td>\n",
       "      <td>Unknown</td>\n",
       "      <td>...</td>\n",
       "      <td>N</td>\n",
       "      <td>Unknown</td>\n",
       "      <td>Unknown</td>\n",
       "      <td>Unknown</td>\n",
       "      <td>N</td>\n",
       "      <td>0</td>\n",
       "      <td>2009-05-06</td>\n",
       "      <td>5</td>\n",
       "      <td>0</td>\n",
       "      <td>Wednesday</td>\n",
       "    </tr>\n",
       "    <tr>\n",
       "      <th>1120</th>\n",
       "      <td>NaN</td>\n",
       "      <td>NaN</td>\n",
       "      <td>NaN</td>\n",
       "      <td>NaN</td>\n",
       "      <td>Injury</td>\n",
       "      <td>Sideswipe</td>\n",
       "      <td>3</td>\n",
       "      <td>3</td>\n",
       "      <td>6/5/2010 5:20:00 PM</td>\n",
       "      <td>Unknown</td>\n",
       "      <td>...</td>\n",
       "      <td>N</td>\n",
       "      <td>Clear</td>\n",
       "      <td>Dry</td>\n",
       "      <td>Daylight</td>\n",
       "      <td>N</td>\n",
       "      <td>0</td>\n",
       "      <td>2010-06-05</td>\n",
       "      <td>6</td>\n",
       "      <td>17</td>\n",
       "      <td>Saturday</td>\n",
       "    </tr>\n",
       "    <tr>\n",
       "      <th>1216</th>\n",
       "      <td>NaN</td>\n",
       "      <td>NaN</td>\n",
       "      <td>NaN</td>\n",
       "      <td>NaN</td>\n",
       "      <td>Property damage</td>\n",
       "      <td>Rear Ended</td>\n",
       "      <td>2</td>\n",
       "      <td>2</td>\n",
       "      <td>11/24/2012 5:28:00 PM</td>\n",
       "      <td>Unknown</td>\n",
       "      <td>...</td>\n",
       "      <td>N</td>\n",
       "      <td>Overcast</td>\n",
       "      <td>Dry</td>\n",
       "      <td>Dusk</td>\n",
       "      <td>N</td>\n",
       "      <td>0</td>\n",
       "      <td>2012-11-24</td>\n",
       "      <td>11</td>\n",
       "      <td>17</td>\n",
       "      <td>Saturday</td>\n",
       "    </tr>\n",
       "    <tr>\n",
       "      <th>1546</th>\n",
       "      <td>NaN</td>\n",
       "      <td>NaN</td>\n",
       "      <td>NaN</td>\n",
       "      <td>NaN</td>\n",
       "      <td>Injury</td>\n",
       "      <td>Other</td>\n",
       "      <td>1</td>\n",
       "      <td>1</td>\n",
       "      <td>6/9/2010 9:19:00 PM</td>\n",
       "      <td>Unknown</td>\n",
       "      <td>...</td>\n",
       "      <td>Y</td>\n",
       "      <td>Clear</td>\n",
       "      <td>Dry</td>\n",
       "      <td>Dark - No Street Lights</td>\n",
       "      <td>N</td>\n",
       "      <td>0</td>\n",
       "      <td>2010-06-09</td>\n",
       "      <td>6</td>\n",
       "      <td>21</td>\n",
       "      <td>Wednesday</td>\n",
       "    </tr>\n",
       "  </tbody>\n",
       "</table>\n",
       "<p>5 rows × 21 columns</p>\n",
       "</div>"
      ],
      "text/plain": [
       "      LOG  LAT ADDRTYPE LOCATION     SEVERITYDESC COLLISIONTYPE  PERSONCOUNT  \\\n",
       "715   NaN  NaN      NaN      NaN  Property damage     Sideswipe            2   \n",
       "1023  NaN  NaN      NaN      NaN  Property damage     Sideswipe            2   \n",
       "1120  NaN  NaN      NaN      NaN           Injury     Sideswipe            3   \n",
       "1216  NaN  NaN      NaN      NaN  Property damage    Rear Ended            2   \n",
       "1546  NaN  NaN      NaN      NaN           Injury         Other            1   \n",
       "\n",
       "      VEHCOUNT                INCDTTM JUNCTIONTYPE  ... UNDERINFL   WEATHER  \\\n",
       "715          2               2/6/2004      Unknown  ...         N  Overcast   \n",
       "1023         2               5/6/2009      Unknown  ...         N   Unknown   \n",
       "1120         3    6/5/2010 5:20:00 PM      Unknown  ...         N     Clear   \n",
       "1216         2  11/24/2012 5:28:00 PM      Unknown  ...         N  Overcast   \n",
       "1546         1    6/9/2010 9:19:00 PM      Unknown  ...         Y     Clear   \n",
       "\n",
       "     ROADCOND                LIGHTCOND SPEEDING NONVEH        DATE MONTH  \\\n",
       "715       Wet  Dark - Street Lights On        N      0  2004-02-06     2   \n",
       "1023  Unknown                  Unknown        N      0  2009-05-06     5   \n",
       "1120      Dry                 Daylight        N      0  2010-06-05     6   \n",
       "1216      Dry                     Dusk        N      0  2012-11-24    11   \n",
       "1546      Dry  Dark - No Street Lights        N      0  2010-06-09     6   \n",
       "\n",
       "      TIME      WKDAY  \n",
       "715      0     Friday  \n",
       "1023     0  Wednesday  \n",
       "1120    17   Saturday  \n",
       "1216    17   Saturday  \n",
       "1546    21  Wednesday  \n",
       "\n",
       "[5 rows x 21 columns]"
      ]
     },
     "execution_count": 84,
     "metadata": {},
     "output_type": "execute_result"
    }
   ],
   "source": [
    "df_drop[df_drop['ADDRTYPE'].isnull()].head()"
   ]
  },
  {
   "cell_type": "markdown",
   "metadata": {},
   "source": [
    "Even thought, NaN do not provide any information for the 'ADDRTYPE' column, the respective observation contains other descriptive and usefull information for other features. Thus, we will not discharge completely these NaN observation, but rather will keept them under 'Unknown' value."
   ]
  },
  {
   "cell_type": "code",
   "execution_count": 85,
   "metadata": {},
   "outputs": [],
   "source": [
    "df_drop.loc[df_drop['ADDRTYPE'].isnull(), 'ADDRTYPE']='Unknown'"
   ]
  },
  {
   "cell_type": "code",
   "execution_count": 86,
   "metadata": {},
   "outputs": [
    {
     "data": {
      "text/plain": [
       "Block           128212\n",
       "Intersection     65136\n",
       "Alley              751\n",
       "Unknown            574\n",
       "Name: ADDRTYPE, dtype: int64"
      ]
     },
     "execution_count": 86,
     "metadata": {},
     "output_type": "execute_result"
    }
   ],
   "source": [
    "df_drop['ADDRTYPE'].value_counts(dropna=False)"
   ]
  },
  {
   "cell_type": "code",
   "execution_count": 87,
   "metadata": {},
   "outputs": [
    {
     "data": {
      "text/html": [
       "<div>\n",
       "<style scoped>\n",
       "    .dataframe tbody tr th:only-of-type {\n",
       "        vertical-align: middle;\n",
       "    }\n",
       "\n",
       "    .dataframe tbody tr th {\n",
       "        vertical-align: top;\n",
       "    }\n",
       "\n",
       "    .dataframe thead th {\n",
       "        text-align: right;\n",
       "    }\n",
       "</style>\n",
       "<table border=\"1\" class=\"dataframe\">\n",
       "  <thead>\n",
       "    <tr style=\"text-align: right;\">\n",
       "      <th>LOCATION</th>\n",
       "      <th>False</th>\n",
       "      <th>True</th>\n",
       "    </tr>\n",
       "    <tr>\n",
       "      <th>LAT</th>\n",
       "      <th></th>\n",
       "      <th></th>\n",
       "    </tr>\n",
       "  </thead>\n",
       "  <tbody>\n",
       "    <tr>\n",
       "      <th>False</th>\n",
       "      <td>189339</td>\n",
       "      <td>0</td>\n",
       "    </tr>\n",
       "    <tr>\n",
       "      <th>True</th>\n",
       "      <td>3408</td>\n",
       "      <td>1926</td>\n",
       "    </tr>\n",
       "  </tbody>\n",
       "</table>\n",
       "</div>"
      ],
      "text/plain": [
       "LOCATION   False  True \n",
       "LAT                    \n",
       "False     189339      0\n",
       "True        3408   1926"
      ]
     },
     "execution_count": 87,
     "metadata": {},
     "output_type": "execute_result"
    }
   ],
   "source": [
    "pd.crosstab(df_drop['LAT'].isnull(), df_drop['LOCATION'].isnull())"
   ]
  },
  {
   "cell_type": "markdown",
   "metadata": {},
   "source": [
    "As of NaN values for the 'LOCATION' columns, we will convert those values to 'Unknown' since the respective observation keeps usefull information in other columns."
   ]
  },
  {
   "cell_type": "code",
   "execution_count": 88,
   "metadata": {},
   "outputs": [],
   "source": [
    "df_drop.loc[df_drop['LOCATION'].isnull(), 'LOCATION']='Unknown'"
   ]
  },
  {
   "cell_type": "code",
   "execution_count": 89,
   "metadata": {},
   "outputs": [
    {
     "data": {
      "text/html": [
       "<div>\n",
       "<style scoped>\n",
       "    .dataframe tbody tr th:only-of-type {\n",
       "        vertical-align: middle;\n",
       "    }\n",
       "\n",
       "    .dataframe tbody tr th {\n",
       "        vertical-align: top;\n",
       "    }\n",
       "\n",
       "    .dataframe thead th {\n",
       "        text-align: right;\n",
       "    }\n",
       "</style>\n",
       "<table border=\"1\" class=\"dataframe\">\n",
       "  <thead>\n",
       "    <tr style=\"text-align: right;\">\n",
       "      <th>LOCATION</th>\n",
       "      <th>False</th>\n",
       "      <th>True</th>\n",
       "    </tr>\n",
       "    <tr>\n",
       "      <th>LAT</th>\n",
       "      <th></th>\n",
       "      <th></th>\n",
       "    </tr>\n",
       "  </thead>\n",
       "  <tbody>\n",
       "    <tr>\n",
       "      <th>False</th>\n",
       "      <td>189339</td>\n",
       "      <td>0</td>\n",
       "    </tr>\n",
       "    <tr>\n",
       "      <th>True</th>\n",
       "      <td>2657</td>\n",
       "      <td>2677</td>\n",
       "    </tr>\n",
       "  </tbody>\n",
       "</table>\n",
       "</div>"
      ],
      "text/plain": [
       "LOCATION   False  True \n",
       "LAT                    \n",
       "False     189339      0\n",
       "True        2657   2677"
      ]
     },
     "execution_count": 89,
     "metadata": {},
     "output_type": "execute_result"
    }
   ],
   "source": [
    "pd.crosstab(df_drop['LAT'].isnull(), df_drop['LOCATION'] == 'Unknown')"
   ]
  },
  {
   "cell_type": "markdown",
   "metadata": {},
   "source": [
    "Above cross-check still shows that there are some posibilities to extract usefull information by matching the LAT/LOG with provided LOCATION and vice-versa, however this will be beyond the scope of this data exploration."
   ]
  },
  {
   "cell_type": "code",
   "execution_count": 90,
   "metadata": {},
   "outputs": [
    {
     "name": "stdout",
     "output_type": "stream",
     "text": [
      "<class 'pandas.core.frame.DataFrame'>\n",
      "RangeIndex: 194673 entries, 0 to 194672\n",
      "Data columns (total 21 columns):\n",
      " #   Column         Non-Null Count   Dtype  \n",
      "---  ------         --------------   -----  \n",
      " 0   LOG            189339 non-null  float64\n",
      " 1   LAT            189339 non-null  float64\n",
      " 2   ADDRTYPE       194673 non-null  object \n",
      " 3   LOCATION       194673 non-null  object \n",
      " 4   SEVERITYDESC   194673 non-null  object \n",
      " 5   COLLISIONTYPE  194673 non-null  object \n",
      " 6   PERSONCOUNT    194673 non-null  int64  \n",
      " 7   VEHCOUNT       194673 non-null  int64  \n",
      " 8   INCDTTM        194673 non-null  object \n",
      " 9   JUNCTIONTYPE   194673 non-null  object \n",
      " 10  SDOT_COLDESC   194673 non-null  object \n",
      " 11  UNDERINFL      194673 non-null  object \n",
      " 12  WEATHER        194673 non-null  object \n",
      " 13  ROADCOND       194673 non-null  object \n",
      " 14  LIGHTCOND      194673 non-null  object \n",
      " 15  SPEEDING       194673 non-null  object \n",
      " 16  NONVEH         194673 non-null  int64  \n",
      " 17  DATE           194673 non-null  object \n",
      " 18  MONTH          194673 non-null  int64  \n",
      " 19  TIME           194673 non-null  int64  \n",
      " 20  WKDAY          194673 non-null  object \n",
      "dtypes: float64(2), int64(5), object(14)\n",
      "memory usage: 31.2+ MB\n"
     ]
    }
   ],
   "source": [
    "df_drop.info()"
   ]
  },
  {
   "cell_type": "code",
   "execution_count": 91,
   "metadata": {},
   "outputs": [
    {
     "data": {
      "text/plain": [
       "LOG              5334\n",
       "LAT              5334\n",
       "ADDRTYPE            0\n",
       "LOCATION            0\n",
       "SEVERITYDESC        0\n",
       "COLLISIONTYPE       0\n",
       "PERSONCOUNT         0\n",
       "VEHCOUNT            0\n",
       "INCDTTM             0\n",
       "JUNCTIONTYPE        0\n",
       "SDOT_COLDESC        0\n",
       "UNDERINFL           0\n",
       "WEATHER             0\n",
       "ROADCOND            0\n",
       "LIGHTCOND           0\n",
       "SPEEDING            0\n",
       "NONVEH              0\n",
       "DATE                0\n",
       "MONTH               0\n",
       "TIME                0\n",
       "WKDAY               0\n",
       "dtype: int64"
      ]
     },
     "execution_count": 91,
     "metadata": {},
     "output_type": "execute_result"
    }
   ],
   "source": [
    "df_drop.isnull().sum()"
   ]
  },
  {
   "cell_type": "code",
   "execution_count": 92,
   "metadata": {},
   "outputs": [
    {
     "name": "stdout",
     "output_type": "stream",
     "text": [
      "NaN values at the begining:  1100024\n",
      "NaN values now:  10668\n"
     ]
    }
   ],
   "source": [
    "print('NaN values at the begining: ', df.isnull().values.sum())\n",
    "print('NaN values now: ', df_drop.isnull().values.sum())"
   ]
  },
  {
   "cell_type": "markdown",
   "metadata": {},
   "source": [
    "# Visualization"
   ]
  },
  {
   "cell_type": "markdown",
   "metadata": {},
   "source": [
    "In order to better understand the value of our data set, features require to be visualy manipulated."
   ]
  },
  {
   "cell_type": "code",
   "execution_count": 97,
   "metadata": {},
   "outputs": [],
   "source": [
    "import numpy as np\n",
    "import matplotlib as mpl\n",
    "import matplotlib.pyplot as plt\n",
    "import seaborn as sns"
   ]
  },
  {
   "cell_type": "code",
   "execution_count": 98,
   "metadata": {},
   "outputs": [
    {
     "data": {
      "image/png": "[encoded data removed]",
      "text/plain": [
       "<Figure size 1080x720 with 1 Axes>"
      ]
     },
     "metadata": {
      "needs_background": "light"
     },
     "output_type": "display_data"
    }
   ],
   "source": [
    "fig = plt.figure(figsize=(15,10))\n",
    "ax1 = plt.subplot(111)\n",
    "sns.countplot(y='SDOT_COLDESC', data=df_drop)\n",
    "plt.tight_layout()\n",
    "plt.show()"
   ]
  },
  {
   "cell_type": "code",
   "execution_count": 99,
   "metadata": {},
   "outputs": [
    {
     "data": {
      "text/plain": [
       "MOTOR VEHICLE STRUCK MOTOR VEHICLE, FRONT END AT ANGLE          85209\n",
       "MOTOR VEHICLE STRUCK MOTOR VEHICLE, REAR END                    54299\n",
       "MOTOR VEHICLE STRUCK MOTOR VEHICLE, LEFT SIDE SIDESWIPE          9928\n",
       "NOT ENOUGH INFORMATION / NOT APPLICABLE                          9787\n",
       "MOTOR VEHICLE RAN OFF ROAD - HIT FIXED OBJECT                    8856\n",
       "MOTOR VEHCILE STRUCK PEDESTRIAN                                  6518\n",
       "MOTOR VEHICLE STRUCK MOTOR VEHICLE, LEFT SIDE AT ANGLE           5852\n",
       "MOTOR VEHICLE STRUCK OBJECT IN ROAD                              4741\n",
       "MOTOR VEHICLE STRUCK PEDALCYCLIST, FRONT END AT ANGLE            3104\n",
       "MOTOR VEHICLE STRUCK MOTOR VEHICLE, RIGHT SIDE SIDESWIPE         1604\n",
       "MOTOR VEHICLE STRUCK MOTOR VEHICLE, RIGHT SIDE AT ANGLE          1440\n",
       "PEDALCYCLIST STRUCK MOTOR VEHICLE FRONT END AT ANGLE             1312\n",
       "MOTOR VEHICLE OVERTURNED IN ROAD                                  479\n",
       "MOTOR VEHICLE STRUCK PEDALCYCLIST, REAR END                       181\n",
       "PEDALCYCLIST STRUCK MOTOR VEHICLE LEFT SIDE SIDESWIPE             180\n",
       "MOTOR VEHICLE RAN OFF ROAD - NO COLLISION                         166\n",
       "PEDALCYCLIST STRUCK MOTOR VEHICLE REAR END                        139\n",
       "MOTOR VEHICLE STRUCK PEDALCYCLIST, LEFT SIDE SIDESWIPE            124\n",
       "DRIVERLESS VEHICLE RAN OFF ROAD - HIT FIXED OBJECT                107\n",
       "DRIVERLESS VEHICLE STRUCK MOTOR VEHICLE FRONT END AT ANGLE        104\n",
       "MOTOR VEHICLE STRUCK TRAIN                                        102\n",
       "DRIVERLESS VEHICLE STRUCK MOTOR VEHICLE REAR END                   93\n",
       "PEDALCYCLIST STRUCK PEDESTRIAN                                     75\n",
       "PEDALCYCLIST OVERTURNED IN ROAD                                    69\n",
       "DRIVERLESS VEHICLE STRUCK MOTOR VEHICLE LEFT SIDE AT ANGLE         53\n",
       "PEDALCYCLIST STRUCK MOTOR VEHICLE RIGHT SIDE SIDESWIPE             50\n",
       "PEDALCYCLIST STRUCK OBJECT IN ROAD                                 23\n",
       "MOTOR VEHICLE STRUCK PEDALCYCLIST, RIGHT SIDE SIDESWIPE            17\n",
       "DRIVERLESS VEHICLE STRUCK MOTOR VEHICLE RIGHT SIDE AT ANGLE        12\n",
       "PEDALCYCLIST STRUCK MOTOR VEHICLE LEFT SIDE AT ANGLE                9\n",
       "DRIVERLESS VEHICLE STRUCK PEDESTRIAN                                8\n",
       "PEDALCYCLIST STRUCK PEDALCYCLIST REAR END                           7\n",
       "DRIVERLESS VEHICLE STRUCK MOTOR VEHICLE RIGHT SIDE SIDESWIPE        6\n",
       "PEDALCYCLIST STRUCK PEDALCYCLIST FRONT END AT ANGLE                 5\n",
       "DRIVERLESS VEHICLE STRUCK MOTOR VEHICLE LEFT SIDE SIDESWIPE         4\n",
       "PEDALCYCLIST RAN OFF ROAD - HIT FIXED OBJECT                        4\n",
       "DRIVERLESS VEHICLE STRUCK OBJECT IN ROADWAY                         3\n",
       "PEDALCYCLIST STRUCK MOTOR VEHICLE RIGHT SIDE AT ANGLE               2\n",
       "DRIVERLESS VEHICLE RAN OFF ROAD - NO COLLISION                      1\n",
       "Name: SDOT_COLDESC, dtype: int64"
      ]
     },
     "execution_count": 99,
     "metadata": {},
     "output_type": "execute_result"
    }
   ],
   "source": [
    "df_drop['SDOT_COLDESC'].value_counts()"
   ]
  },
  {
   "cell_type": "code",
   "execution_count": 100,
   "metadata": {},
   "outputs": [
    {
     "data": {
      "text/plain": [
       "39"
      ]
     },
     "execution_count": 100,
     "metadata": {},
     "output_type": "execute_result"
    }
   ],
   "source": [
    "df_drop['SDOT_COLDESC'].nunique()"
   ]
  },
  {
   "cell_type": "markdown",
   "metadata": {},
   "source": [
    "As observed from the above graph and the list of options that SDOT_COLDESC might take, the SDOT_COLDESC must be re-classified."
   ]
  },
  {
   "cell_type": "code",
   "execution_count": 110,
   "metadata": {},
   "outputs": [],
   "source": [
    "# DRIVERLESS vehicles will be grouped unded a unique value - \"DRIVERLESS VEHICLE ACCIDENT\". Due to fact that driverless accidents\n",
    "# are so few in numbers, merging these obs with MOTOR VEHICLE will not influence at all. However, keep it as a separate class\n",
    "# there maybe some usefull insights obtained from such classification.\n",
    "\n",
    "df_drop.loc[df_drop['SDOT_COLDESC'] =='DRIVERLESS VEHICLE RAN OFF ROAD - NO COLLISION', 'SDOT_COLDESC'] = 'DRIVERLESS VEHICLE AT FAUL'\n",
    "df_drop.loc[df_drop['SDOT_COLDESC'] =='DRIVERLESS VEHICLE STRUCK OBJECT IN ROADWAY', 'SDOT_COLDESC'] = 'DRIVERLESS VEHICLE AT FAUL'\n",
    "df_drop.loc[df_drop['SDOT_COLDESC'] =='DRIVERLESS VEHICLE STRUCK MOTOR VEHICLE LEFT SIDE SIDESWIPE', 'SDOT_COLDESC'] = 'DRIVERLESS VEHICLE AT FAUL'\n",
    "df_drop.loc[df_drop['SDOT_COLDESC'] =='DRIVERLESS VEHICLE STRUCK MOTOR VEHICLE RIGHT SIDE SIDESWIPE', 'SDOT_COLDESC'] = 'DRIVERLESS VEHICLE AT FAUL'\n",
    "df_drop.loc[df_drop['SDOT_COLDESC'] =='DRIVERLESS VEHICLE STRUCK PEDESTRIAN', 'SDOT_COLDESC'] = 'DRIVERLESS VEHICLE AT FAUL'\n",
    "df_drop.loc[df_drop['SDOT_COLDESC'] =='DRIVERLESS VEHICLE STRUCK MOTOR VEHICLE RIGHT SIDE AT ANGLE', 'SDOT_COLDESC'] = 'DRIVERLESS VEHICLE AT FAUL'\n",
    "df_drop.loc[df_drop['SDOT_COLDESC'] =='DRIVERLESS VEHICLE STRUCK MOTOR VEHICLE LEFT SIDE AT ANGLE', 'SDOT_COLDESC'] = 'DRIVERLESS VEHICLE AT FAUL'\n",
    "df_drop.loc[df_drop['SDOT_COLDESC'] =='DRIVERLESS VEHICLE STRUCK MOTOR VEHICLE REAR END', 'SDOT_COLDESC'] = 'DRIVERLESS VEHICLE AT FAUL'\n",
    "df_drop.loc[df_drop['SDOT_COLDESC'] =='DRIVERLESS VEHICLE STRUCK MOTOR VEHICLE FRONT END AT ANGLE', 'SDOT_COLDESC'] = 'DRIVERLESS VEHICLE AT FAUL'\n",
    "df_drop.loc[df_drop['SDOT_COLDESC'] =='DRIVERLESS VEHICLE RAN OFF ROAD - HIT FIXED OBJECT', 'SDOT_COLDESC'] = 'DRIVERLESS VEHICLE AT FAUL'\n",
    "df_drop.loc[df_drop['SDOT_COLDESC'] =='DRIVERLESS VEHICLE STRUCK MOTOR VEHICLE RIGHT SIDE AT ANGLE ', 'SDOT_COLDESC'] = 'DRIVERLESS VEHICLE AT FAUL'\n",
    "\n",
    "\n",
    "# PEDALCYCLIST values will be classified under a singular value. The logic remains the same as with DRIVERLESS.\n",
    "\n",
    "df_drop.loc[df_drop['SDOT_COLDESC'] =='PEDALCYCLIST STRUCK MOTOR VEHICLE RIGHT SIDE AT ANGLE', 'SDOT_COLDESC'] = 'PEDALCICLIST AT FAULT'\n",
    "df_drop.loc[df_drop['SDOT_COLDESC'] =='PEDALCYCLIST RAN OFF ROAD - HIT FIXED OBJECT', 'SDOT_COLDESC'] = 'PEDALCICLIST AT FAULT'\n",
    "df_drop.loc[df_drop['SDOT_COLDESC'] =='PEDALCYCLIST STRUCK PEDALCYCLIST FRONT END AT ANGLE', 'SDOT_COLDESC'] = 'PEDALCICLIST AT FAULT'\n",
    "df_drop.loc[df_drop['SDOT_COLDESC'] =='PEDALCYCLIST STRUCK PEDALCYCLIST REAR END', 'SDOT_COLDESC'] = 'PEDALCICLIST AT FAULT'\n",
    "df_drop.loc[df_drop['SDOT_COLDESC'] =='PEDALCYCLIST STRUCK MOTOR VEHICLE LEFT SIDE AT ANGLE', 'SDOT_COLDESC'] = 'PEDALCICLIST AT FAULT'\n",
    "df_drop.loc[df_drop['SDOT_COLDESC'] =='PEDALCYCLIST STRUCK PEDALCYCLIST REAR END', 'SDOT_COLDESC'] = 'PEDALCICLIST AT FAULT'\n",
    "df_drop.loc[df_drop['SDOT_COLDESC'] =='PEDALCYCLIST STRUCK OBJECT IN ROAD', 'SDOT_COLDESC'] = 'PEDALCICLIST AT FAULT'\n",
    "df_drop.loc[df_drop['SDOT_COLDESC'] =='PEDALCYCLIST STRUCK MOTOR VEHICLE RIGHT SIDE SIDESWIPE', 'SDOT_COLDESC'] = 'PEDALCICLIST AT FAULT'\n",
    "df_drop.loc[df_drop['SDOT_COLDESC'] =='PEDALCYCLIST OVERTURNED IN ROAD', 'SDOT_COLDESC'] = 'PEDALCICLIST AT FAULT'\n",
    "df_drop.loc[df_drop['SDOT_COLDESC'] =='PEDALCYCLIST STRUCK PEDESTRIAN', 'SDOT_COLDESC'] = 'PEDALCICLIST AT FAULT'\n",
    "df_drop.loc[df_drop['SDOT_COLDESC'] =='PEDALCYCLIST STRUCK MOTOR VEHICLE REAR END', 'SDOT_COLDESC'] = 'PEDALCICLIST AT FAULT'\n",
    "df_drop.loc[df_drop['SDOT_COLDESC'] =='PEDALCYCLIST STRUCK MOTOR VEHICLE LEFT SIDE SIDESWIPE', 'SDOT_COLDESC'] = 'PEDALCICLIST AT FAULT'\n",
    "df_drop.loc[df_drop['SDOT_COLDESC'] =='PEDALCYCLIST STRUCK MOTOR VEHICLE FRONT END AT ANGLE', 'SDOT_COLDESC'] = 'PEDALCICLIST AT FAULT'\n",
    "\n",
    "# MOTOR VEHICLE strucking a PEDALCYCLIST will be grouped under a single class.\n",
    "df_drop.loc[df_drop['SDOT_COLDESC'] =='MOTOR VEHICLE STRUCK PEDALCYCLIST, RIGHT SIDE SIDESWIPE', 'SDOT_COLDESC'] = 'MOTOR VEHICLE STRUCK PEDALCYCLIST'\n",
    "df_drop.loc[df_drop['SDOT_COLDESC'] =='MOTOR VEHICLE STRUCK PEDALCYCLIST, LEFT SIDE SIDESWIPE', 'SDOT_COLDESC'] = 'MOTOR VEHICLE STRUCK PEDALCYCLIST'\n",
    "df_drop.loc[df_drop['SDOT_COLDESC'] =='MOTOR VEHICLE STRUCK PEDALCYCLIST, REAR END', 'SDOT_COLDESC'] = 'MOTOR VEHICLE STRUCK PEDALCYCLIST'\n",
    "df_drop.loc[df_drop['SDOT_COLDESC'] =='MOTOR VEHICLE STRUCK PEDALCYCLIST, FRONT END AT ANGLE', 'SDOT_COLDESC'] = 'MOTOR VEHICLE STRUCK PEDALCYCLIST'\n"
   ]
  },
  {
   "cell_type": "code",
   "execution_count": 111,
   "metadata": {},
   "outputs": [
    {
     "data": {
      "text/plain": [
       "16"
      ]
     },
     "execution_count": 111,
     "metadata": {},
     "output_type": "execute_result"
    }
   ],
   "source": [
    "df_drop['SDOT_COLDESC'].nunique()"
   ]
  },
  {
   "cell_type": "code",
   "execution_count": 112,
   "metadata": {},
   "outputs": [
    {
     "data": {
      "text/plain": [
       "MOTOR VEHICLE STRUCK MOTOR VEHICLE, FRONT END AT ANGLE      85209\n",
       "MOTOR VEHICLE STRUCK MOTOR VEHICLE, REAR END                54299\n",
       "MOTOR VEHICLE STRUCK MOTOR VEHICLE, LEFT SIDE SIDESWIPE      9928\n",
       "NOT ENOUGH INFORMATION / NOT APPLICABLE                      9787\n",
       "MOTOR VEHICLE RAN OFF ROAD - HIT FIXED OBJECT                8856\n",
       "MOTOR VEHCILE STRUCK PEDESTRIAN                              6518\n",
       "MOTOR VEHICLE STRUCK MOTOR VEHICLE, LEFT SIDE AT ANGLE       5852\n",
       "MOTOR VEHICLE STRUCK OBJECT IN ROAD                          4741\n",
       "MOTOR VEHICLE STRUCK AT PEDALCYCLIST                         3426\n",
       "PEDALCICLIST AT FAULT                                        1875\n",
       "MOTOR VEHICLE STRUCK MOTOR VEHICLE, RIGHT SIDE SIDESWIPE     1604\n",
       "MOTOR VEHICLE STRUCK MOTOR VEHICLE, RIGHT SIDE AT ANGLE      1440\n",
       "MOTOR VEHICLE OVERTURNED IN ROAD                              479\n",
       "DRIVERLESS VEHICLE AT FAUL                                    391\n",
       "MOTOR VEHICLE RAN OFF ROAD - NO COLLISION                     166\n",
       "MOTOR VEHICLE STRUCK TRAIN                                    102\n",
       "Name: SDOT_COLDESC, dtype: int64"
      ]
     },
     "execution_count": 112,
     "metadata": {},
     "output_type": "execute_result"
    }
   ],
   "source": [
    "df_drop['SDOT_COLDESC'].value_counts()"
   ]
  },
  {
   "cell_type": "code",
   "execution_count": 113,
   "metadata": {},
   "outputs": [
    {
     "data": {
      "image/png": "[encoded data removed]",
      "text/plain": [
       "<Figure size 1080x360 with 1 Axes>"
      ]
     },
     "metadata": {
      "needs_background": "light"
     },
     "output_type": "display_data"
    }
   ],
   "source": [
    "fig = plt.figure(figsize=(15,5))\n",
    "ax1 = plt.subplot(111)\n",
    "sns.countplot(y='SDOT_COLDESC', data=df_drop)\n",
    "plt.tight_layout()\n",
    "plt.show()"
   ]
  },
  {
   "cell_type": "markdown",
   "metadata": {},
   "source": [
    "Ffrom the graph above, can be observed that \"MOTOR VEHICLE STRUCK MOTOR VEHICLE, FRONT END AT ANGLE\" and \"MOTOR VEHICLE STRUCK MOTOR VEHICLE, REAR END\" group of accidents dominates the kind of accidents. \n",
    "Grouping toghether \"MOTOR VEHICLE STRUCK AT PEDALCYCLIST\" and \"MOTOR VEHCILE STRUCK PEDESTRIAN\" under a single group it would be the 3rd most often accidents registered. Since, PEDALCYCLIST and PEDESTRIANS are going to be treated as a single group, these categories will be grouped under a single category.\n",
    "\"MOTOR VEHICLE STRUCK TRAIN\", \"MOTOR VEHICLE RAN OFF ROAD - NO COLLISION\", and \"MOTOR VEHICLE OVERTURNED IN ROAD\"  will be grouped under the \"NOT ENOUGH INFORMATION / NOT APPLICABLE\" since there are too few observations for this categories to extract some reliable inteligence."
   ]
  },
  {
   "cell_type": "code",
   "execution_count": 114,
   "metadata": {},
   "outputs": [],
   "source": [
    "df_drop.loc[df_drop['SDOT_COLDESC'] =='MOTOR VEHICLE STRUCK AT PEDALCYCLIST', 'SDOT_COLDESC'] = 'MOTOR VEHICLE STRUCK PEDALCYCLIST OR PEDESTRIAN'\n",
    "df_drop.loc[df_drop['SDOT_COLDESC'] =='MOTOR VEHCILE STRUCK PEDESTRIAN', 'SDOT_COLDESC'] = 'MOTOR VEHICLE STRUCK PEDALCYCLIST OR PEDESTRIAN'\n",
    "df_drop.loc[df_drop['SDOT_COLDESC'] =='MOTOR VEHICLE STRUCK TRAIN', 'SDOT_COLDESC'] = 'NOT ENOUGH INFORMATION / NOT APPLICABLE'\n",
    "df_drop.loc[df_drop['SDOT_COLDESC'] =='MOTOR VEHICLE RAN OFF ROAD - NO COLLISION', 'SDOT_COLDESC'] = 'NOT ENOUGH INFORMATION / NOT APPLICABLE'\n",
    "df_drop.loc[df_drop['SDOT_COLDESC'] =='MOTOR VEHICLE OVERTURNED IN ROAD', 'SDOT_COLDESC'] = 'NOT ENOUGH INFORMATION / NOT APPLICABLE'"
   ]
  },
  {
   "cell_type": "code",
   "execution_count": 115,
   "metadata": {},
   "outputs": [
    {
     "data": {
      "text/plain": [
       "MOTOR VEHICLE STRUCK MOTOR VEHICLE, FRONT END AT ANGLE      85209\n",
       "MOTOR VEHICLE STRUCK MOTOR VEHICLE, REAR END                54299\n",
       "NOT ENOUGH INFORMATION / NOT APPLICABLE                     10534\n",
       "MOTOR VEHICLE STRUCK PEDALCYCLIST OR PEDESTRIAN              9944\n",
       "MOTOR VEHICLE STRUCK MOTOR VEHICLE, LEFT SIDE SIDESWIPE      9928\n",
       "MOTOR VEHICLE RAN OFF ROAD - HIT FIXED OBJECT                8856\n",
       "MOTOR VEHICLE STRUCK MOTOR VEHICLE, LEFT SIDE AT ANGLE       5852\n",
       "MOTOR VEHICLE STRUCK OBJECT IN ROAD                          4741\n",
       "PEDALCICLIST AT FAULT                                        1875\n",
       "MOTOR VEHICLE STRUCK MOTOR VEHICLE, RIGHT SIDE SIDESWIPE     1604\n",
       "MOTOR VEHICLE STRUCK MOTOR VEHICLE, RIGHT SIDE AT ANGLE      1440\n",
       "DRIVERLESS VEHICLE AT FAUL                                    391\n",
       "Name: SDOT_COLDESC, dtype: int64"
      ]
     },
     "execution_count": 115,
     "metadata": {},
     "output_type": "execute_result"
    }
   ],
   "source": [
    "df_drop['SDOT_COLDESC'].value_counts()"
   ]
  },
  {
   "cell_type": "code",
   "execution_count": 212,
   "metadata": {},
   "outputs": [
    {
     "data": {
      "image/png": "[encoded data removed]",
      "text/plain": [
       "<Figure size 1080x360 with 1 Axes>"
      ]
     },
     "metadata": {
      "needs_background": "light"
     },
     "output_type": "display_data"
    }
   ],
   "source": [
    "fig = plt.figure(figsize=(15,5))\n",
    "ax1 = plt.subplot(111)\n",
    "order0=df_drop['SDOT_COLDESC'].value_counts(ascending=False).index\n",
    "sns.countplot(y='SDOT_COLDESC', data=df_drop, order=order0)\n",
    "plt.tight_layout()\n",
    "plt.show()"
   ]
  },
  {
   "cell_type": "code",
   "execution_count": null,
   "metadata": {},
   "outputs": [],
   "source": []
  },
  {
   "cell_type": "markdown",
   "metadata": {},
   "source": [
    "Next variables that are going to be graphically reviewed are \"ROADCOND\", \"LIGHTCOND\", and \"WEATHER\"."
   ]
  },
  {
   "cell_type": "code",
   "execution_count": 117,
   "metadata": {},
   "outputs": [
    {
     "data": {
      "image/png": "[encoded data removed]",
      "text/plain": [
       "<Figure size 1080x288 with 3 Axes>"
      ]
     },
     "metadata": {
      "needs_background": "light"
     },
     "output_type": "display_data"
    }
   ],
   "source": [
    "fig = plt.figure(figsize=(15,4))\n",
    "ax1 = plt.subplot(131)\n",
    "sns.countplot(y='ROADCOND', data=df_drop)\n",
    "ax2 = plt.subplot(132)\n",
    "sns.countplot(y='LIGHTCOND', data=df_drop)\n",
    "ax3 = plt.subplot(133)\n",
    "sns.countplot(y='WEATHER', data=df_drop)\n",
    "plt.tight_layout()\n",
    "plt.show()"
   ]
  },
  {
   "cell_type": "markdown",
   "metadata": {},
   "source": [
    "Under the ROADCOND options 'Snow/Slush', 'Ice', 'Standing Water', and 'Oil' will go under 'Wet' category, 'Sand/Mud/Dirt' goes under 'Unknown'.\n",
    "Under the LIGHTCOND options 'Dawn' and 'Dusk' will be merged under 'Dark - No Street Lights'.\n",
    "Under the WEATHER options 'Snowing', 'Sleet/Hail/Freezing Rain', 'Fog/Smog/Smoke', 'Blowing Sand/Dirt', 'Severe Crosswind' and 'Partly Cloudy' classified under 'Unknown' category since the frequency of a such records has a very insignificant impact to be considered."
   ]
  },
  {
   "cell_type": "code",
   "execution_count": 120,
   "metadata": {},
   "outputs": [],
   "source": [
    "# ROADCOND\n",
    "df_drop.loc[df_drop['ROADCOND'] =='Snow/Slush', 'ROADCOND'] = 'Wet'\n",
    "df_drop.loc[df_drop['ROADCOND'] =='Ice', 'ROADCOND'] = 'Wet'\n",
    "df_drop.loc[df_drop['ROADCOND'] =='Standing Water', 'ROADCOND'] = 'Wet'\n",
    "df_drop.loc[df_drop['ROADCOND'] =='Oil', 'ROADCOND'] = 'Wet'\n",
    "df_drop.loc[df_drop['ROADCOND'] =='Sand/Mud/Dirt', 'ROADCOND'] = 'Unknown'\n",
    "\n",
    "# LIGHTCOND\n",
    "df_drop.loc[df_drop['LIGHTCOND'] =='Dawn', 'LIGHTCOND'] = 'Dark - No Street Lights'\n",
    "df_drop.loc[df_drop['LIGHTCOND'] =='Dusk', 'LIGHTCOND'] = 'Dark - No Street Lights'\n",
    "\n",
    "# WEATHER\n",
    "df_drop.loc[df_drop['WEATHER'] =='Snowing', 'WEATHER'] = 'Unknown'\n",
    "df_drop.loc[df_drop['WEATHER'] =='Sleet/Hail/Freezing Rain', 'WEATHER'] = 'Unknown'\n",
    "df_drop.loc[df_drop['WEATHER'] =='Fog/Smog/Smoke', 'WEATHER'] = 'Unknown'\n",
    "df_drop.loc[df_drop['WEATHER'] == 'Blowing Sand/Dirt', 'WEATHER'] = 'Unknown'\n",
    "df_drop.loc[df_drop['WEATHER'] == 'Severe Crosswind', 'WEATHER'] = 'Unknown'\n",
    "df_drop.loc[df_drop['WEATHER'] == 'Partly Cloudy', 'WEATHER'] = 'Unknown'"
   ]
  },
  {
   "cell_type": "code",
   "execution_count": 122,
   "metadata": {},
   "outputs": [
    {
     "data": {
      "image/png": "[encoded data removed]",
      "text/plain": [
       "<Figure size 1440x216 with 3 Axes>"
      ]
     },
     "metadata": {
      "needs_background": "light"
     },
     "output_type": "display_data"
    }
   ],
   "source": [
    "fig = plt.figure(figsize=(20,3))\n",
    "ax1 = plt.subplot(131)\n",
    "sns.countplot(y='ROADCOND', data=df_drop)\n",
    "ax2 = plt.subplot(132)\n",
    "sns.countplot(y='LIGHTCOND', data=df_drop)\n",
    "ax3 = plt.subplot(133)\n",
    "sns.countplot(y='WEATHER', data=df_drop)\n",
    "plt.tight_layout()\n",
    "plt.show()"
   ]
  },
  {
   "cell_type": "markdown",
   "metadata": {},
   "source": [
    "It can be observed that most accidents are happens under 'Dry' roadconditions, during the 'Daylight', in a 'Clear' weather. This might be due to the fact that drivers are overconfident and paying less attention to the road. On another hand, during the bad weather/lightcondition/roadcondition there are less participants on the traffic."
   ]
  },
  {
   "cell_type": "markdown",
   "metadata": {},
   "source": [
    "Time related insights should be extracted out of 'TIME', 'WKDAY', 'MONTH' columns."
   ]
  },
  {
   "cell_type": "code",
   "execution_count": 123,
   "metadata": {},
   "outputs": [
    {
     "data": {
      "image/png": "[encoded data removed]",
      "text/plain": [
       "<Figure size 1440x288 with 3 Axes>"
      ]
     },
     "metadata": {
      "needs_background": "light"
     },
     "output_type": "display_data"
    }
   ],
   "source": [
    "fig = plt.figure(figsize=(20,4))\n",
    "ax1 = plt.subplot(131)\n",
    "sns.countplot(df_drop['TIME'])\n",
    "ax2 = plt.subplot(132)\n",
    "sns.countplot(df_drop['WKDAY'], order=['Monday', 'Tuesday','Wednesday','Tuesday', 'Friday', 'Saturday', 'Sunday'])\n",
    "ax3 = plt.subplot(133)\n",
    "sns.countplot(df_drop['MONTH'])\n",
    "plt.tight_layout()\n",
    "plt.show()"
   ]
  },
  {
   "cell_type": "markdown",
   "metadata": {},
   "source": [
    "Most accidets, as expected, are registered during the peak hours (between 15 and 17). Overall, during the week the number of accidents are relatively equally distributed, although on Friday there are the most accidents that happens and on Sunday the least amount of accidents happens. As of 'MONTH' of the year there are not much differences in the number of accidents. It can be observed that the most amount of accidents, although not by much, happens in Oct. A higher number for Octomber probably is due to the fact that weather/road conditions is changing and requires a certain adaptability of the drivers. For February, the least amount of accidents, which is probably because Feb is a short month. "
   ]
  },
  {
   "cell_type": "code",
   "execution_count": 124,
   "metadata": {},
   "outputs": [
    {
     "data": {
      "image/png": "[encoded data removed]",
      "text/plain": [
       "<Figure size 3240x360 with 1 Axes>"
      ]
     },
     "metadata": {
      "needs_background": "light"
     },
     "output_type": "display_data"
    }
   ],
   "source": [
    "fig = plt.figure(figsize=(45,5))\n",
    "ax1 = plt.subplot(131)\n",
    "sns.countplot(x=\"WKDAY\", hue=\"TIME\", data=df_drop, order=['Monday', 'Tuesday','Wednesday','Tuesday', 'Friday', 'Saturday', 'Sunday'])\n",
    "ax1.legend().set_visible(False)\n",
    "plt.tight_layout()\n",
    "plt.show()"
   ]
  },
  {
   "cell_type": "markdown",
   "metadata": {},
   "source": [
    "While during the week the most accidents happens during the peak hours, on weekends the most accidents happens around noon."
   ]
  },
  {
   "cell_type": "code",
   "execution_count": 143,
   "metadata": {},
   "outputs": [
    {
     "data": {
      "image/png": "[encoded data removed]",
      "text/plain": [
       "<Figure size 1080x288 with 1 Axes>"
      ]
     },
     "metadata": {
      "needs_background": "light"
     },
     "output_type": "display_data"
    }
   ],
   "source": [
    "fig = plt.figure(figsize=(15,4))\n",
    "ax1 = plt.subplot(111)\n",
    "order = df_drop['COLLISIONTYPE'].value_counts(ascending=False).index\n",
    "sns.countplot(y='COLLISIONTYPE', data=df_drop, order=order)\n",
    "plt.tight_layout()\n",
    "plt.show()"
   ]
  },
  {
   "cell_type": "code",
   "execution_count": 194,
   "metadata": {},
   "outputs": [
    {
     "data": {
      "text/plain": [
       "Parked Car    0.260283\n",
       "Angles        0.178114\n",
       "Rear Ended    0.175114\n",
       "Left Turn     0.114084\n",
       "Sideswipe     0.095591\n",
       "Other         0.089473\n",
       "Pedestrian    0.033944\n",
       "Cycles        0.027816\n",
       "Right Turn    0.015184\n",
       "Head On       0.010397\n",
       "Name: COLLISIONTYPE, dtype: float64"
      ]
     },
     "execution_count": 194,
     "metadata": {},
     "output_type": "execute_result"
    }
   ],
   "source": [
    "df_drop['COLLISIONTYPE'].value_counts(ascending=False, normalize=True)"
   ]
  },
  {
   "cell_type": "code",
   "execution_count": 216,
   "metadata": {},
   "outputs": [
    {
     "data": {
      "text/plain": [
       "<matplotlib.axes._subplots.AxesSubplot at 0x7f9773385390>"
      ]
     },
     "execution_count": 216,
     "metadata": {},
     "output_type": "execute_result"
    },
    {
     "data": {
      "image/png": "[encoded data removed]",
      "text/plain": [
       "<Figure size 432x288 with 2 Axes>"
      ]
     },
     "metadata": {
      "needs_background": "light"
     },
     "output_type": "display_data"
    }
   ],
   "source": [
    "sns.heatmap(pd.crosstab(df_drop['COLLISIONTYPE'], df_drop['WKDAY']),cmap=\"YlGnBu\", cbar=True)"
   ]
  },
  {
   "cell_type": "code",
   "execution_count": 193,
   "metadata": {},
   "outputs": [
    {
     "data": {
      "text/plain": [
       "<matplotlib.axes._subplots.AxesSubplot at 0x7f9759e4c9d0>"
      ]
     },
     "execution_count": 193,
     "metadata": {},
     "output_type": "execute_result"
    },
    {
     "data": {
      "image/png": "[encoded data removed]",
      "text/plain": [
       "<Figure size 432x288 with 2 Axes>"
      ]
     },
     "metadata": {
      "needs_background": "light"
     },
     "output_type": "display_data"
    }
   ],
   "source": [
    "sns.heatmap(pd.crosstab(df_drop['COLLISIONTYPE'], df_drop['SEVERITYDESC']),cmap=\"YlGnBu\", cbar=True)"
   ]
  },
  {
   "cell_type": "markdown",
   "metadata": {},
   "source": [
    "'Parked Car' related accidentsm (26%) dominates by a significant amount other type of accidents. Next most frequent types of accidents being 'Angles' (18%) and 'Rear Ended' (18%), which are having relatively about the same frequency of occurency. However, 'Parked Car' related accidents are among the least categories of accidets that results in 'Injury' (1.6%), from accident severity perspective, while other two types of accidents mentioned above are leading the the 'Injury' category (about 7% each). Another observation to mention is the fact that the frequency of occurancy of all three types of accidents mentioned here registers the highest amount on Friday and Saturday."
   ]
  },
  {
   "cell_type": "code",
   "execution_count": 195,
   "metadata": {},
   "outputs": [
    {
     "data": {
      "text/html": [
       "<div>\n",
       "<style scoped>\n",
       "    .dataframe tbody tr th:only-of-type {\n",
       "        vertical-align: middle;\n",
       "    }\n",
       "\n",
       "    .dataframe tbody tr th {\n",
       "        vertical-align: top;\n",
       "    }\n",
       "\n",
       "    .dataframe thead th {\n",
       "        text-align: right;\n",
       "    }\n",
       "</style>\n",
       "<table border=\"1\" class=\"dataframe\">\n",
       "  <thead>\n",
       "    <tr style=\"text-align: right;\">\n",
       "      <th>SEVERITYDESC</th>\n",
       "      <th>Injury</th>\n",
       "      <th>Property damage</th>\n",
       "    </tr>\n",
       "    <tr>\n",
       "      <th>COLLISIONTYPE</th>\n",
       "      <th></th>\n",
       "      <th></th>\n",
       "    </tr>\n",
       "  </thead>\n",
       "  <tbody>\n",
       "    <tr>\n",
       "      <th>Angles</th>\n",
       "      <td>0.069984</td>\n",
       "      <td>0.108130</td>\n",
       "    </tr>\n",
       "    <tr>\n",
       "      <th>Cycles</th>\n",
       "      <td>0.024369</td>\n",
       "      <td>0.003447</td>\n",
       "    </tr>\n",
       "    <tr>\n",
       "      <th>Head On</th>\n",
       "      <td>0.004479</td>\n",
       "      <td>0.005918</td>\n",
       "    </tr>\n",
       "    <tr>\n",
       "      <th>Left Turn</th>\n",
       "      <td>0.038233</td>\n",
       "      <td>0.075850</td>\n",
       "    </tr>\n",
       "    <tr>\n",
       "      <th>Other</th>\n",
       "      <td>0.023840</td>\n",
       "      <td>0.065633</td>\n",
       "    </tr>\n",
       "    <tr>\n",
       "      <th>Parked Car</th>\n",
       "      <td>0.016140</td>\n",
       "      <td>0.244143</td>\n",
       "    </tr>\n",
       "    <tr>\n",
       "      <th>Pedestrian</th>\n",
       "      <td>0.030492</td>\n",
       "      <td>0.003452</td>\n",
       "    </tr>\n",
       "    <tr>\n",
       "      <th>Rear Ended</th>\n",
       "      <td>0.075362</td>\n",
       "      <td>0.099752</td>\n",
       "    </tr>\n",
       "    <tr>\n",
       "      <th>Right Turn</th>\n",
       "      <td>0.003128</td>\n",
       "      <td>0.012056</td>\n",
       "    </tr>\n",
       "    <tr>\n",
       "      <th>Sideswipe</th>\n",
       "      <td>0.012873</td>\n",
       "      <td>0.082718</td>\n",
       "    </tr>\n",
       "  </tbody>\n",
       "</table>\n",
       "</div>"
      ],
      "text/plain": [
       "SEVERITYDESC     Injury  Property damage\n",
       "COLLISIONTYPE                           \n",
       "Angles         0.069984         0.108130\n",
       "Cycles         0.024369         0.003447\n",
       "Head On        0.004479         0.005918\n",
       "Left Turn      0.038233         0.075850\n",
       "Other          0.023840         0.065633\n",
       "Parked Car     0.016140         0.244143\n",
       "Pedestrian     0.030492         0.003452\n",
       "Rear Ended     0.075362         0.099752\n",
       "Right Turn     0.003128         0.012056\n",
       "Sideswipe      0.012873         0.082718"
      ]
     },
     "execution_count": 195,
     "metadata": {},
     "output_type": "execute_result"
    }
   ],
   "source": [
    "pd.crosstab(df_drop['COLLISIONTYPE'], df_drop['SEVERITYDESC'], normalize=True)"
   ]
  },
  {
   "cell_type": "code",
   "execution_count": 198,
   "metadata": {},
   "outputs": [
    {
     "data": {
      "image/png": "[encoded data removed]",
      "text/plain": [
       "<Figure size 1080x288 with 6 Axes>"
      ]
     },
     "metadata": {
      "needs_background": "light"
     },
     "output_type": "display_data"
    }
   ],
   "source": [
    "fig = plt.figure(figsize=(15,4))\n",
    "ax1 = plt.subplot(131)\n",
    "sns.heatmap(pd.crosstab(df_drop['ROADCOND'], df_drop['SEVERITYDESC']),cmap=\"YlGnBu\", cbar=True)\n",
    "ax2 = plt.subplot(132)\n",
    "sns.heatmap(pd.crosstab(df_drop['LIGHTCOND'], df_drop['SEVERITYDESC']),cmap=\"YlGnBu\", cbar=True)\n",
    "ax3 = plt.subplot(133)\n",
    "sns.heatmap(pd.crosstab(df_drop['WEATHER'], df_drop['SEVERITYDESC']),cmap=\"YlGnBu\", cbar=True)\n",
    "plt.tight_layout()\n",
    "plt.show()"
   ]
  },
  {
   "cell_type": "code",
   "execution_count": 226,
   "metadata": {},
   "outputs": [
    {
     "data": {
      "text/plain": [
       "<matplotlib.axes._subplots.AxesSubplot at 0x7f9776e4ca50>"
      ]
     },
     "execution_count": 226,
     "metadata": {},
     "output_type": "execute_result"
    },
    {
     "data": {
      "image/png": "[encoded data removed]",
      "text/plain": [
       "<Figure size 720x720 with 2 Axes>"
      ]
     },
     "metadata": {
      "needs_background": "light"
     },
     "output_type": "display_data"
    }
   ],
   "source": [
    "fig = plt.figure(figsize=(10,10))\n",
    "ax1 = plt.subplot(111)\n",
    "sns.heatmap(pd.crosstab([df_drop['ROADCOND'],df_drop['LIGHTCOND'],df_drop['WEATHER']], df_drop['SEVERITYDESC']),cmap=\"YlGnBu\", cbar=True)"
   ]
  },
  {
   "cell_type": "code",
   "execution_count": 211,
   "metadata": {},
   "outputs": [
    {
     "data": {
      "text/html": [
       "<div>\n",
       "<style scoped>\n",
       "    .dataframe tbody tr th:only-of-type {\n",
       "        vertical-align: middle;\n",
       "    }\n",
       "\n",
       "    .dataframe tbody tr th {\n",
       "        vertical-align: top;\n",
       "    }\n",
       "\n",
       "    .dataframe thead th {\n",
       "        text-align: right;\n",
       "    }\n",
       "</style>\n",
       "<table border=\"1\" class=\"dataframe\">\n",
       "  <thead>\n",
       "    <tr style=\"text-align: right;\">\n",
       "      <th></th>\n",
       "      <th></th>\n",
       "      <th>SEVERITYDESC</th>\n",
       "      <th>Injury</th>\n",
       "      <th>Property damage</th>\n",
       "    </tr>\n",
       "    <tr>\n",
       "      <th>ROADCOND</th>\n",
       "      <th>LIGHTCOND</th>\n",
       "      <th>WEATHER</th>\n",
       "      <th></th>\n",
       "      <th></th>\n",
       "    </tr>\n",
       "  </thead>\n",
       "  <tbody>\n",
       "    <tr>\n",
       "      <th rowspan=\"16\" valign=\"top\">Dry</th>\n",
       "      <th rowspan=\"4\" valign=\"top\">Dark - No Street Lights</th>\n",
       "      <th>Clear</th>\n",
       "      <td>1647</td>\n",
       "      <td>3766</td>\n",
       "    </tr>\n",
       "    <tr>\n",
       "      <th>Overcast</th>\n",
       "      <td>363</td>\n",
       "      <td>829</td>\n",
       "    </tr>\n",
       "    <tr>\n",
       "      <th>Raining</th>\n",
       "      <td>14</td>\n",
       "      <td>32</td>\n",
       "    </tr>\n",
       "    <tr>\n",
       "      <th>Unknown</th>\n",
       "      <td>35</td>\n",
       "      <td>122</td>\n",
       "    </tr>\n",
       "    <tr>\n",
       "      <th rowspan=\"4\" valign=\"top\">Dark - Street Lights On</th>\n",
       "      <th>Clear</th>\n",
       "      <td>7070</td>\n",
       "      <td>16755</td>\n",
       "    </tr>\n",
       "    <tr>\n",
       "      <th>Overcast</th>\n",
       "      <td>1095</td>\n",
       "      <td>2578</td>\n",
       "    </tr>\n",
       "    <tr>\n",
       "      <th>Raining</th>\n",
       "      <td>80</td>\n",
       "      <td>188</td>\n",
       "    </tr>\n",
       "    <tr>\n",
       "      <th>Unknown</th>\n",
       "      <td>116</td>\n",
       "      <td>302</td>\n",
       "    </tr>\n",
       "    <tr>\n",
       "      <th rowspan=\"4\" valign=\"top\">Daylight</th>\n",
       "      <th>Clear</th>\n",
       "      <td>25565</td>\n",
       "      <td>50679</td>\n",
       "    </tr>\n",
       "    <tr>\n",
       "      <th>Overcast</th>\n",
       "      <td>3677</td>\n",
       "      <td>7536</td>\n",
       "    </tr>\n",
       "    <tr>\n",
       "      <th>Raining</th>\n",
       "      <td>107</td>\n",
       "      <td>215</td>\n",
       "    </tr>\n",
       "    <tr>\n",
       "      <th>Unknown</th>\n",
       "      <td>199</td>\n",
       "      <td>621</td>\n",
       "    </tr>\n",
       "    <tr>\n",
       "      <th rowspan=\"4\" valign=\"top\">Unknown</th>\n",
       "      <th>Clear</th>\n",
       "      <td>71</td>\n",
       "      <td>593</td>\n",
       "    </tr>\n",
       "    <tr>\n",
       "      <th>Overcast</th>\n",
       "      <td>13</td>\n",
       "      <td>90</td>\n",
       "    </tr>\n",
       "    <tr>\n",
       "      <th>Raining</th>\n",
       "      <td>3</td>\n",
       "      <td>2</td>\n",
       "    </tr>\n",
       "    <tr>\n",
       "      <th>Unknown</th>\n",
       "      <td>9</td>\n",
       "      <td>138</td>\n",
       "    </tr>\n",
       "    <tr>\n",
       "      <th rowspan=\"15\" valign=\"top\">Unknown</th>\n",
       "      <th rowspan=\"4\" valign=\"top\">Dark - No Street Lights</th>\n",
       "      <th>Clear</th>\n",
       "      <td>9</td>\n",
       "      <td>39</td>\n",
       "    </tr>\n",
       "    <tr>\n",
       "      <th>Overcast</th>\n",
       "      <td>4</td>\n",
       "      <td>36</td>\n",
       "    </tr>\n",
       "    <tr>\n",
       "      <th>Raining</th>\n",
       "      <td>0</td>\n",
       "      <td>1</td>\n",
       "    </tr>\n",
       "    <tr>\n",
       "      <th>Unknown</th>\n",
       "      <td>72</td>\n",
       "      <td>960</td>\n",
       "    </tr>\n",
       "    <tr>\n",
       "      <th rowspan=\"4\" valign=\"top\">Dark - Street Lights On</th>\n",
       "      <th>Clear</th>\n",
       "      <td>24</td>\n",
       "      <td>87</td>\n",
       "    </tr>\n",
       "    <tr>\n",
       "      <th>Overcast</th>\n",
       "      <td>20</td>\n",
       "      <td>82</td>\n",
       "    </tr>\n",
       "    <tr>\n",
       "      <th>Raining</th>\n",
       "      <td>1</td>\n",
       "      <td>3</td>\n",
       "    </tr>\n",
       "    <tr>\n",
       "      <th>Unknown</th>\n",
       "      <td>66</td>\n",
       "      <td>995</td>\n",
       "    </tr>\n",
       "    <tr>\n",
       "      <th rowspan=\"4\" valign=\"top\">Daylight</th>\n",
       "      <th>Clear</th>\n",
       "      <td>69</td>\n",
       "      <td>366</td>\n",
       "    </tr>\n",
       "    <tr>\n",
       "      <th>Overcast</th>\n",
       "      <td>39</td>\n",
       "      <td>211</td>\n",
       "    </tr>\n",
       "    <tr>\n",
       "      <th>Raining</th>\n",
       "      <td>2</td>\n",
       "      <td>4</td>\n",
       "    </tr>\n",
       "    <tr>\n",
       "      <th>Unknown</th>\n",
       "      <td>404</td>\n",
       "      <td>7977</td>\n",
       "    </tr>\n",
       "    <tr>\n",
       "      <th rowspan=\"3\" valign=\"top\">Unknown</th>\n",
       "      <th>Clear</th>\n",
       "      <td>1</td>\n",
       "      <td>32</td>\n",
       "    </tr>\n",
       "    <tr>\n",
       "      <th>Overcast</th>\n",
       "      <td>1</td>\n",
       "      <td>17</td>\n",
       "    </tr>\n",
       "    <tr>\n",
       "      <th>Unknown</th>\n",
       "      <td>1147</td>\n",
       "      <td>7565</td>\n",
       "    </tr>\n",
       "    <tr>\n",
       "      <th rowspan=\"16\" valign=\"top\">Wet</th>\n",
       "      <th rowspan=\"4\" valign=\"top\">Dark - No Street Lights</th>\n",
       "      <th>Clear</th>\n",
       "      <td>98</td>\n",
       "      <td>210</td>\n",
       "    </tr>\n",
       "    <tr>\n",
       "      <th>Overcast</th>\n",
       "      <td>329</td>\n",
       "      <td>685</td>\n",
       "    </tr>\n",
       "    <tr>\n",
       "      <th>Raining</th>\n",
       "      <td>888</td>\n",
       "      <td>1803</td>\n",
       "    </tr>\n",
       "    <tr>\n",
       "      <th>Unknown</th>\n",
       "      <td>31</td>\n",
       "      <td>114</td>\n",
       "    </tr>\n",
       "    <tr>\n",
       "      <th rowspan=\"4\" valign=\"top\">Dark - Street Lights On</th>\n",
       "      <th>Clear</th>\n",
       "      <td>427</td>\n",
       "      <td>1108</td>\n",
       "    </tr>\n",
       "    <tr>\n",
       "      <th>Overcast</th>\n",
       "      <td>1120</td>\n",
       "      <td>2650</td>\n",
       "    </tr>\n",
       "    <tr>\n",
       "      <th>Raining</th>\n",
       "      <td>4310</td>\n",
       "      <td>8781</td>\n",
       "    </tr>\n",
       "    <tr>\n",
       "      <th>Unknown</th>\n",
       "      <td>146</td>\n",
       "      <td>503</td>\n",
       "    </tr>\n",
       "    <tr>\n",
       "      <th rowspan=\"4\" valign=\"top\">Daylight</th>\n",
       "      <th>Clear</th>\n",
       "      <td>851</td>\n",
       "      <td>1639</td>\n",
       "    </tr>\n",
       "    <tr>\n",
       "      <th>Overcast</th>\n",
       "      <td>2072</td>\n",
       "      <td>4208</td>\n",
       "    </tr>\n",
       "    <tr>\n",
       "      <th>Raining</th>\n",
       "      <td>5827</td>\n",
       "      <td>11153</td>\n",
       "    </tr>\n",
       "    <tr>\n",
       "      <th>Unknown</th>\n",
       "      <td>94</td>\n",
       "      <td>447</td>\n",
       "    </tr>\n",
       "    <tr>\n",
       "      <th rowspan=\"4\" valign=\"top\">Unknown</th>\n",
       "      <th>Clear</th>\n",
       "      <td>8</td>\n",
       "      <td>21</td>\n",
       "    </tr>\n",
       "    <tr>\n",
       "      <th>Overcast</th>\n",
       "      <td>12</td>\n",
       "      <td>47</td>\n",
       "    </tr>\n",
       "    <tr>\n",
       "      <th>Raining</th>\n",
       "      <td>47</td>\n",
       "      <td>202</td>\n",
       "    </tr>\n",
       "    <tr>\n",
       "      <th>Unknown</th>\n",
       "      <td>5</td>\n",
       "      <td>93</td>\n",
       "    </tr>\n",
       "  </tbody>\n",
       "</table>\n",
       "</div>"
      ],
      "text/plain": [
       "SEVERITYDESC                               Injury  Property damage\n",
       "ROADCOND LIGHTCOND               WEATHER                          \n",
       "Dry      Dark - No Street Lights Clear       1647             3766\n",
       "                                 Overcast     363              829\n",
       "                                 Raining       14               32\n",
       "                                 Unknown       35              122\n",
       "         Dark - Street Lights On Clear       7070            16755\n",
       "                                 Overcast    1095             2578\n",
       "                                 Raining       80              188\n",
       "                                 Unknown      116              302\n",
       "         Daylight                Clear      25565            50679\n",
       "                                 Overcast    3677             7536\n",
       "                                 Raining      107              215\n",
       "                                 Unknown      199              621\n",
       "         Unknown                 Clear         71              593\n",
       "                                 Overcast      13               90\n",
       "                                 Raining        3                2\n",
       "                                 Unknown        9              138\n",
       "Unknown  Dark - No Street Lights Clear          9               39\n",
       "                                 Overcast       4               36\n",
       "                                 Raining        0                1\n",
       "                                 Unknown       72              960\n",
       "         Dark - Street Lights On Clear         24               87\n",
       "                                 Overcast      20               82\n",
       "                                 Raining        1                3\n",
       "                                 Unknown       66              995\n",
       "         Daylight                Clear         69              366\n",
       "                                 Overcast      39              211\n",
       "                                 Raining        2                4\n",
       "                                 Unknown      404             7977\n",
       "         Unknown                 Clear          1               32\n",
       "                                 Overcast       1               17\n",
       "                                 Unknown     1147             7565\n",
       "Wet      Dark - No Street Lights Clear         98              210\n",
       "                                 Overcast     329              685\n",
       "                                 Raining      888             1803\n",
       "                                 Unknown       31              114\n",
       "         Dark - Street Lights On Clear        427             1108\n",
       "                                 Overcast    1120             2650\n",
       "                                 Raining     4310             8781\n",
       "                                 Unknown      146              503\n",
       "         Daylight                Clear        851             1639\n",
       "                                 Overcast    2072             4208\n",
       "                                 Raining     5827            11153\n",
       "                                 Unknown       94              447\n",
       "         Unknown                 Clear          8               21\n",
       "                                 Overcast      12               47\n",
       "                                 Raining       47              202\n",
       "                                 Unknown        5               93"
      ]
     },
     "execution_count": 211,
     "metadata": {},
     "output_type": "execute_result"
    }
   ],
   "source": [
    "pd.crosstab([df_drop['ROADCOND'],df_drop['LIGHTCOND'],df_drop['WEATHER']], df_drop['SEVERITYDESC'])"
   ]
  },
  {
   "cell_type": "markdown",
   "metadata": {},
   "source": [
    "Surprisingly, the most amount of accidents resulting in injuries (13%) happens in a dry road condition, under good visability and clear weather. The same conclusion  regarding the dry road condition, good visability, adn clear weather, holds true and for the accidents resulting in property damages only (26%). I would assume that overconfidence of the drivers in their driving skills affects negatively the safety on public roads."
   ]
  },
  {
   "cell_type": "code",
   "execution_count": 238,
   "metadata": {},
   "outputs": [
    {
     "name": "stdout",
     "output_type": "stream",
     "text": [
      "<class 'pandas.core.frame.DataFrame'>\n",
      "RangeIndex: 194673 entries, 0 to 194672\n",
      "Data columns (total 21 columns):\n",
      " #   Column         Non-Null Count   Dtype  \n",
      "---  ------         --------------   -----  \n",
      " 0   LOG            189339 non-null  float64\n",
      " 1   LAT            189339 non-null  float64\n",
      " 2   ADDRTYPE       194673 non-null  object \n",
      " 3   LOCATION       194673 non-null  object \n",
      " 4   SEVERITYDESC   194673 non-null  object \n",
      " 5   COLLISIONTYPE  194673 non-null  object \n",
      " 6   PERSONCOUNT    194673 non-null  int64  \n",
      " 7   VEHCOUNT       194673 non-null  int64  \n",
      " 8   INCDTTM        194673 non-null  object \n",
      " 9   JUNCTIONTYPE   194673 non-null  object \n",
      " 10  SDOT_COLDESC   194673 non-null  object \n",
      " 11  UNDERINFL      194673 non-null  object \n",
      " 12  WEATHER        194673 non-null  object \n",
      " 13  ROADCOND       194673 non-null  object \n",
      " 14  LIGHTCOND      194673 non-null  object \n",
      " 15  SPEEDING       194673 non-null  object \n",
      " 16  NONVEH         194673 non-null  int64  \n",
      " 17  DATE           194673 non-null  object \n",
      " 18  MONTH          194673 non-null  int64  \n",
      " 19  TIME           194673 non-null  int64  \n",
      " 20  WKDAY          194673 non-null  object \n",
      "dtypes: float64(2), int64(5), object(14)\n",
      "memory usage: 31.2+ MB\n"
     ]
    }
   ],
   "source": [
    "df_drop.info()"
   ]
  },
  {
   "cell_type": "code",
   "execution_count": 239,
   "metadata": {},
   "outputs": [],
   "source": [
    "# Defining the feature matrix\n",
    "df_prep = df_drop.drop(columns=['LOG','LAT','LOCATION','INCDTTM'],axis=1)"
   ]
  },
  {
   "cell_type": "code",
   "execution_count": 240,
   "metadata": {},
   "outputs": [
    {
     "name": "stdout",
     "output_type": "stream",
     "text": [
      "<class 'pandas.core.frame.DataFrame'>\n",
      "RangeIndex: 194673 entries, 0 to 194672\n",
      "Data columns (total 17 columns):\n",
      " #   Column         Non-Null Count   Dtype \n",
      "---  ------         --------------   ----- \n",
      " 0   ADDRTYPE       194673 non-null  object\n",
      " 1   SEVERITYDESC   194673 non-null  object\n",
      " 2   COLLISIONTYPE  194673 non-null  object\n",
      " 3   PERSONCOUNT    194673 non-null  int64 \n",
      " 4   VEHCOUNT       194673 non-null  int64 \n",
      " 5   JUNCTIONTYPE   194673 non-null  object\n",
      " 6   SDOT_COLDESC   194673 non-null  object\n",
      " 7   UNDERINFL      194673 non-null  object\n",
      " 8   WEATHER        194673 non-null  object\n",
      " 9   ROADCOND       194673 non-null  object\n",
      " 10  LIGHTCOND      194673 non-null  object\n",
      " 11  SPEEDING       194673 non-null  object\n",
      " 12  NONVEH         194673 non-null  int64 \n",
      " 13  DATE           194673 non-null  object\n",
      " 14  MONTH          194673 non-null  int64 \n",
      " 15  TIME           194673 non-null  int64 \n",
      " 16  WKDAY          194673 non-null  object\n",
      "dtypes: int64(5), object(12)\n",
      "memory usage: 25.2+ MB\n"
     ]
    }
   ],
   "source": [
    "df_prep.info()"
   ]
  },
  {
   "cell_type": "code",
   "execution_count": 242,
   "metadata": {},
   "outputs": [],
   "source": [
    "df_prep.to_csv(\"DataPreped.csv\")"
   ]
  },
  {
   "cell_type": "code",
   "execution_count": 243,
   "metadata": {},
   "outputs": [
    {
     "data": {
      "text/plain": [
       "Index(['ADDRTYPE', 'SEVERITYDESC', 'COLLISIONTYPE', 'PERSONCOUNT', 'VEHCOUNT',\n",
       "       'JUNCTIONTYPE', 'SDOT_COLDESC', 'UNDERINFL', 'WEATHER', 'ROADCOND',\n",
       "       'LIGHTCOND', 'SPEEDING', 'NONVEH', 'DATE', 'MONTH', 'TIME', 'WKDAY'],\n",
       "      dtype='object')"
      ]
     },
     "execution_count": 243,
     "metadata": {},
     "output_type": "execute_result"
    }
   ],
   "source": [
    "df_prep.columns"
   ]
  },
  {
   "cell_type": "code",
   "execution_count": null,
   "metadata": {},
   "outputs": [],
   "source": []
  }
 ],
 "metadata": {
  "kernelspec": {
   "display_name": "Python 3",
   "language": "python",
   "name": "python3"
  },
  "language_info": {
   "codemirror_mode": {
    "name": "ipython",
    "version": 3
   },
   "file_extension": ".py",
   "mimetype": "text/x-python",
   "name": "python",
   "nbconvert_exporter": "python",
   "pygments_lexer": "ipython3",
   "version": "3.7.6"
  }
 },
 "nbformat": 4,
 "nbformat_minor": 4
}
