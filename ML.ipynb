{
 "cells": [
  {
   "cell_type": "code",
   "execution_count": 1,
   "metadata": {},
   "outputs": [],
   "source": [
    "import numpy as np \n",
    "import pandas as pd\n",
    "import seaborn as sns\n",
    "import matplotlib.pyplot as plt"
   ]
  },
  {
   "cell_type": "code",
   "execution_count": 2,
   "metadata": {},
   "outputs": [],
   "source": [
    "df = pd.read_csv('DataPreped.csv')"
   ]
  },
  {
   "cell_type": "code",
   "execution_count": 3,
   "metadata": {},
   "outputs": [
    {
     "data": {
      "text/html": [
       "<div>\n",
       "<style scoped>\n",
       "    .dataframe tbody tr th:only-of-type {\n",
       "        vertical-align: middle;\n",
       "    }\n",
       "\n",
       "    .dataframe tbody tr th {\n",
       "        vertical-align: top;\n",
       "    }\n",
       "\n",
       "    .dataframe thead th {\n",
       "        text-align: right;\n",
       "    }\n",
       "</style>\n",
       "<table border=\"1\" class=\"dataframe\">\n",
       "  <thead>\n",
       "    <tr style=\"text-align: right;\">\n",
       "      <th></th>\n",
       "      <th>Unnamed: 0</th>\n",
       "      <th>ADDRTYPE</th>\n",
       "      <th>SEVERITYDESC</th>\n",
       "      <th>COLLISIONTYPE</th>\n",
       "      <th>PERSONCOUNT</th>\n",
       "      <th>VEHCOUNT</th>\n",
       "      <th>JUNCTIONTYPE</th>\n",
       "      <th>SDOT_COLDESC</th>\n",
       "      <th>UNDERINFL</th>\n",
       "      <th>WEATHER</th>\n",
       "      <th>ROADCOND</th>\n",
       "      <th>LIGHTCOND</th>\n",
       "      <th>SPEEDING</th>\n",
       "      <th>NONVEH</th>\n",
       "      <th>DATE</th>\n",
       "      <th>MONTH</th>\n",
       "      <th>TIME</th>\n",
       "      <th>WKDAY</th>\n",
       "    </tr>\n",
       "  </thead>\n",
       "  <tbody>\n",
       "    <tr>\n",
       "      <th>0</th>\n",
       "      <td>0</td>\n",
       "      <td>Intersection</td>\n",
       "      <td>Injury</td>\n",
       "      <td>Angles</td>\n",
       "      <td>2</td>\n",
       "      <td>2</td>\n",
       "      <td>At Intersection (intersection related)</td>\n",
       "      <td>MOTOR VEHICLE STRUCK MOTOR VEHICLE, FRONT END ...</td>\n",
       "      <td>N</td>\n",
       "      <td>Overcast</td>\n",
       "      <td>Wet</td>\n",
       "      <td>Daylight</td>\n",
       "      <td>N</td>\n",
       "      <td>0</td>\n",
       "      <td>2013-03-27</td>\n",
       "      <td>3</td>\n",
       "      <td>14</td>\n",
       "      <td>Wednesday</td>\n",
       "    </tr>\n",
       "    <tr>\n",
       "      <th>1</th>\n",
       "      <td>1</td>\n",
       "      <td>Block</td>\n",
       "      <td>Property damage</td>\n",
       "      <td>Sideswipe</td>\n",
       "      <td>2</td>\n",
       "      <td>2</td>\n",
       "      <td>Mid-Block (not related to intersection)</td>\n",
       "      <td>MOTOR VEHICLE STRUCK MOTOR VEHICLE, LEFT SIDE ...</td>\n",
       "      <td>N</td>\n",
       "      <td>Raining</td>\n",
       "      <td>Wet</td>\n",
       "      <td>Dark - Street Lights On</td>\n",
       "      <td>N</td>\n",
       "      <td>0</td>\n",
       "      <td>2006-12-20</td>\n",
       "      <td>12</td>\n",
       "      <td>18</td>\n",
       "      <td>Wednesday</td>\n",
       "    </tr>\n",
       "  </tbody>\n",
       "</table>\n",
       "</div>"
      ],
      "text/plain": [
       "   Unnamed: 0      ADDRTYPE     SEVERITYDESC COLLISIONTYPE  PERSONCOUNT  \\\n",
       "0           0  Intersection           Injury        Angles            2   \n",
       "1           1         Block  Property damage     Sideswipe            2   \n",
       "\n",
       "   VEHCOUNT                             JUNCTIONTYPE  \\\n",
       "0         2   At Intersection (intersection related)   \n",
       "1         2  Mid-Block (not related to intersection)   \n",
       "\n",
       "                                        SDOT_COLDESC UNDERINFL   WEATHER  \\\n",
       "0  MOTOR VEHICLE STRUCK MOTOR VEHICLE, FRONT END ...         N  Overcast   \n",
       "1  MOTOR VEHICLE STRUCK MOTOR VEHICLE, LEFT SIDE ...         N   Raining   \n",
       "\n",
       "  ROADCOND                LIGHTCOND SPEEDING  NONVEH        DATE  MONTH  TIME  \\\n",
       "0      Wet                 Daylight        N       0  2013-03-27      3    14   \n",
       "1      Wet  Dark - Street Lights On        N       0  2006-12-20     12    18   \n",
       "\n",
       "       WKDAY  \n",
       "0  Wednesday  \n",
       "1  Wednesday  "
      ]
     },
     "execution_count": 3,
     "metadata": {},
     "output_type": "execute_result"
    }
   ],
   "source": [
    "df.head(2)"
   ]
  },
  {
   "cell_type": "markdown",
   "metadata": {},
   "source": [
    "The 'Unnamed: 0' and the 'DATE' feature should be dropped since these variables do not present any value for predicting the severity of the accidents."
   ]
  },
  {
   "cell_type": "code",
   "execution_count": 4,
   "metadata": {},
   "outputs": [
    {
     "name": "stdout",
     "output_type": "stream",
     "text": [
      "<class 'pandas.core.frame.DataFrame'>\n",
      "RangeIndex: 194673 entries, 0 to 194672\n",
      "Data columns (total 16 columns):\n",
      " #   Column         Non-Null Count   Dtype \n",
      "---  ------         --------------   ----- \n",
      " 0   ADDRTYPE       194673 non-null  object\n",
      " 1   SEVERITYDESC   194673 non-null  object\n",
      " 2   COLLISIONTYPE  194673 non-null  object\n",
      " 3   PERSONCOUNT    194673 non-null  int64 \n",
      " 4   VEHCOUNT       194673 non-null  int64 \n",
      " 5   JUNCTIONTYPE   194673 non-null  object\n",
      " 6   SDOT_COLDESC   194673 non-null  object\n",
      " 7   UNDERINFL      194673 non-null  object\n",
      " 8   WEATHER        194673 non-null  object\n",
      " 9   ROADCOND       194673 non-null  object\n",
      " 10  LIGHTCOND      194673 non-null  object\n",
      " 11  SPEEDING       194673 non-null  object\n",
      " 12  NONVEH         194673 non-null  int64 \n",
      " 13  MONTH          194673 non-null  int64 \n",
      " 14  TIME           194673 non-null  int64 \n",
      " 15  WKDAY          194673 non-null  object\n",
      "dtypes: int64(5), object(11)\n",
      "memory usage: 23.8+ MB\n"
     ]
    }
   ],
   "source": [
    "df=df.drop(columns=['Unnamed: 0','DATE'], axis=1)\n",
    "df.info()"
   ]
  },
  {
   "cell_type": "markdown",
   "metadata": {},
   "source": [
    "### Converting categorical data to cardinal numbers"
   ]
  },
  {
   "cell_type": "code",
   "execution_count": 5,
   "metadata": {},
   "outputs": [],
   "source": [
    "# will make a copy of the data just in case\n",
    "df_card=df"
   ]
  },
  {
   "cell_type": "code",
   "execution_count": 6,
   "metadata": {},
   "outputs": [],
   "source": [
    "df_card['SEVERITYDESC']=df_card['SEVERITYDESC'].map({'Injury':1, 'Property damage':0})\n",
    "\n",
    "df_card['ADDRTYPE']=df_card['ADDRTYPE'].map({'Block':0,'Intersection':1,\n",
    "                                 'Alley':2,\n",
    "                                 'Unknown':3})\n",
    "df_card['COLLISIONTYPE']=df_card['COLLISIONTYPE'].map({'Parked Car':0,\n",
    "                                           'Angles':1,\n",
    "                                           'Rear Ended':2,\n",
    "                                           'Left Turn':3,\n",
    "                                           'Sideswipe':4,\n",
    "                                           'Other':5,\n",
    "                                           'Pedestrian':6,\n",
    "                                           'Cycles':7,\n",
    "                                           'Right Turn':8,\n",
    "                                           'Head On':9})\n",
    "df_card['JUNCTIONTYPE']=df_card['JUNCTIONTYPE'].map({'Mid-Block (not related to intersection)':0,\n",
    "                                         'At Intersection (intersection related)':1,\n",
    "                                         'Mid-Block (but intersection related)':2,\n",
    "                                         'Driveway Junction':3,\n",
    "                                         'At Intersection (but not related to intersection)':4,\n",
    "                                         'Unknown':5,\n",
    "                                         'Ramp Junction':6})\n",
    "df_card['SDOT_COLDESC']=df_card['SDOT_COLDESC'].map({'MOTOR VEHICLE STRUCK MOTOR VEHICLE, FRONT END AT ANGLE':0,\n",
    "                                         'MOTOR VEHICLE STRUCK MOTOR VEHICLE, REAR END':1,\n",
    "                                         'NOT ENOUGH INFORMATION / NOT APPLICABLE':2,\n",
    "                                         'MOTOR VEHICLE STRUCK PEDALCYCLIST OR PEDESTRIAN':3,\n",
    "                                         'MOTOR VEHICLE STRUCK MOTOR VEHICLE, LEFT SIDE SIDESWIPE':4,\n",
    "                                         'MOTOR VEHICLE RAN OFF ROAD - HIT FIXED OBJECT':5,\n",
    "                                         'MOTOR VEHICLE STRUCK MOTOR VEHICLE, LEFT SIDE AT ANGLE':6,\n",
    "                                         'MOTOR VEHICLE STRUCK OBJECT IN ROAD':7,\n",
    "                                         'PEDALCICLIST AT FAULT':8,\n",
    "                                         'MOTOR VEHICLE STRUCK MOTOR VEHICLE, RIGHT SIDE SIDESWIPE':9,\n",
    "                                         'MOTOR VEHICLE STRUCK MOTOR VEHICLE, RIGHT SIDE AT ANGLE':10,\n",
    "                                         'DRIVERLESS VEHICLE AT FAUL':11})\n",
    "df_card['UNDERINFL']=df_card['UNDERINFL'].map({'Y':1,'N':0,})\n",
    "df_card['WEATHER']=df_card['WEATHER'].map({'Clear':0,\n",
    "                               'Raining':1,\n",
    "                               'Overcast':2,\n",
    "                               'Unknown':3})\n",
    "df_card['ROADCOND']=df_card['ROADCOND'].map({'Dry':0,\n",
    "                                 'Wet':1,\n",
    "                                 'Unknown':2})\n",
    "df_card['SPEEDING']=df_card['SPEEDING'].map({'Y':1,'N':0,})\n",
    "df_card['LIGHTCOND']=df_card['LIGHTCOND'].map({'Daylight':0,\n",
    "                                   'Dark - Street Lights On':1,\n",
    "                                   'Dark - No Street Lights':2,\n",
    "                                   'Unknown':3})\n",
    "df_card['WKDAY']=df_card['WKDAY'].map({'Monday':0,\n",
    "                           'Tuesday':1,\n",
    "                           'Wednesday':2,\n",
    "                           'Thursday':3,\n",
    "                           'Friday':4,\n",
    "                           'Saturday':5,\n",
    "                           'Sunday':6})"
   ]
  },
  {
   "cell_type": "markdown",
   "metadata": {},
   "source": [
    "### Define x and y using the entire dataset."
   ]
  },
  {
   "cell_type": "code",
   "execution_count": 7,
   "metadata": {},
   "outputs": [
    {
     "data": {
      "text/plain": [
       "0    1\n",
       "1    0\n",
       "2    0\n",
       "3    0\n",
       "4    1\n",
       "5    0\n",
       "6    0\n",
       "7    1\n",
       "8    0\n",
       "9    1\n",
       "Name: SEVERITYDESC, dtype: int64"
      ]
     },
     "execution_count": 7,
     "metadata": {},
     "output_type": "execute_result"
    }
   ],
   "source": [
    "y=df_card['SEVERITYDESC']\n",
    "y[0:10]"
   ]
  },
  {
   "cell_type": "code",
   "execution_count": 8,
   "metadata": {},
   "outputs": [],
   "source": [
    "x=df_card.drop(['SEVERITYDESC'], axis=1)"
   ]
  },
  {
   "cell_type": "code",
   "execution_count": 9,
   "metadata": {},
   "outputs": [
    {
     "data": {
      "text/plain": [
       "(194673,)"
      ]
     },
     "execution_count": 9,
     "metadata": {},
     "output_type": "execute_result"
    }
   ],
   "source": [
    "y.shape"
   ]
  },
  {
   "cell_type": "code",
   "execution_count": 10,
   "metadata": {},
   "outputs": [
    {
     "data": {
      "text/plain": [
       "(194673, 15)"
      ]
     },
     "execution_count": 10,
     "metadata": {},
     "output_type": "execute_result"
    }
   ],
   "source": [
    "x.shape"
   ]
  },
  {
   "cell_type": "markdown",
   "metadata": {},
   "source": [
    "### Setting up the Decission Tree model and importing modules needed for metricses."
   ]
  },
  {
   "cell_type": "code",
   "execution_count": 11,
   "metadata": {},
   "outputs": [],
   "source": [
    "from sklearn.tree import DecisionTreeClassifier \n",
    "from sklearn.model_selection import train_test_split # train/test split\n",
    "from sklearn import metrics\n",
    "from sklearn.metrics import accuracy_score\n",
    "from sklearn.metrics import f1_score\n",
    "from sklearn.metrics import classification_report, confusion_matrix  "
   ]
  },
  {
   "cell_type": "markdown",
   "metadata": {},
   "source": [
    "The train_test_split will return 4 different parameters:\n",
    "X_train, X_test, y_train, y_test.\n",
    "\n",
    "The train_test_split will need the parameters:\n",
    "x, y, test_size=0.3, and random_state=3."
   ]
  },
  {
   "cell_type": "code",
   "execution_count": 12,
   "metadata": {},
   "outputs": [],
   "source": [
    "X_train, X_test, y_train, y_test = train_test_split(x, y, test_size=0.3, random_state=3)"
   ]
  },
  {
   "cell_type": "markdown",
   "metadata": {},
   "source": [
    "Printing the shape of obtained paramenters to make sure that everything is matching."
   ]
  },
  {
   "cell_type": "code",
   "execution_count": 13,
   "metadata": {},
   "outputs": [
    {
     "name": "stdout",
     "output_type": "stream",
     "text": [
      "X trainset is: (136271, 15)\n",
      "y trainset is: (136271,)\n",
      "X testset is: (58402, 15)\n",
      "y testset is: (58402,)\n"
     ]
    }
   ],
   "source": [
    "print('X trainset is:', X_train.shape)\n",
    "print('y trainset is:', y_train.shape)\n",
    "print('X testset is:', X_test.shape)\n",
    "print('y testset is:', y_test.shape)"
   ]
  },
  {
   "cell_type": "markdown",
   "metadata": {},
   "source": [
    "Creating the Decision Tree Classifier model."
   ]
  },
  {
   "cell_type": "code",
   "execution_count": 15,
   "metadata": {},
   "outputs": [],
   "source": [
    "SeverityTree = DecisionTreeClassifier(criterion=\"entropy\", max_depth = 4)"
   ]
  },
  {
   "cell_type": "markdown",
   "metadata": {},
   "source": [
    "Fitting the model."
   ]
  },
  {
   "cell_type": "code",
   "execution_count": 16,
   "metadata": {},
   "outputs": [
    {
     "data": {
      "text/plain": [
       "DecisionTreeClassifier(ccp_alpha=0.0, class_weight=None, criterion='entropy',\n",
       "                       max_depth=4, max_features=None, max_leaf_nodes=None,\n",
       "                       min_impurity_decrease=0.0, min_impurity_split=None,\n",
       "                       min_samples_leaf=1, min_samples_split=2,\n",
       "                       min_weight_fraction_leaf=0.0, presort='deprecated',\n",
       "                       random_state=None, splitter='best')"
      ]
     },
     "execution_count": 16,
     "metadata": {},
     "output_type": "execute_result"
    }
   ],
   "source": [
    "SeverityTree.fit(X_train, y_train)"
   ]
  },
  {
   "cell_type": "markdown",
   "metadata": {},
   "source": [
    "Prediction based on DecissionTree model"
   ]
  },
  {
   "cell_type": "code",
   "execution_count": 17,
   "metadata": {},
   "outputs": [],
   "source": [
    "predTree = SeverityTree.predict(X_test)"
   ]
  },
  {
   "cell_type": "markdown",
   "metadata": {},
   "source": [
    "Comparing predTree and y_test to compare the prediction to the actual values."
   ]
  },
  {
   "cell_type": "code",
   "execution_count": 18,
   "metadata": {},
   "outputs": [
    {
     "name": "stdout",
     "output_type": "stream",
     "text": [
      "[0 0 0 0 0 0 1 0 0 0]\n",
      "188393    0\n",
      "191329    0\n",
      "52824     0\n",
      "42414     1\n",
      "114021    0\n",
      "105896    1\n",
      "70683     1\n",
      "47118     0\n",
      "65718     1\n",
      "8618      0\n",
      "Name: SEVERITYDESC, dtype: int64\n"
     ]
    }
   ],
   "source": [
    "print (predTree [0:10])\n",
    "print (y_test [0:10])"
   ]
  },
  {
   "cell_type": "markdown",
   "metadata": {},
   "source": [
    "### Evaluation"
   ]
  },
  {
   "cell_type": "code",
   "execution_count": 22,
   "metadata": {},
   "outputs": [
    {
     "name": "stdout",
     "output_type": "stream",
     "text": [
      "Decision Tree's Training set Accuracy:  0.750915455232588\n",
      "Decision Tree's Test set Accuracy:  0.7483990274305674\n",
      "Decision Tree Training Set Evaluation F1-Score=> 0.31070405946022783\n",
      "Decision Tree Test Set Evaluation F1-Score=>  0.3079966092116417\n",
      "              precision    recall  f1-score   support\n",
      "\n",
      "           0       0.74      0.99      0.85     40847\n",
      "           1       0.89      0.19      0.31     17555\n",
      "\n",
      "    accuracy                           0.75     58402\n",
      "   macro avg       0.81      0.59      0.58     58402\n",
      "weighted avg       0.78      0.75      0.68     58402\n",
      "\n"
     ]
    }
   ],
   "source": [
    "print(\"Decision Tree's Training set Accuracy: \", metrics.accuracy_score(y_train, SeverityTree.predict(X_train)))\n",
    "print(\"Decision Tree's Test set Accuracy: \", metrics.accuracy_score(y_test, predTree))\n",
    "print(\"Decision Tree Training Set Evaluation F1-Score=>\",f1_score(y_train, SeverityTree.predict(X_train)))\n",
    "print(\"Decision Tree Test Set Evaluation F1-Score=> \",f1_score(y_test, predTree))\n",
    "print(classification_report(y_test, predTree))"
   ]
  },
  {
   "cell_type": "markdown",
   "metadata": {},
   "source": [
    "The recall for 'Property Damage' is pretty high (0.99) which implies that the model picks very well this kind of values of SEVERITYDESC. However, the social cost is not equal among these two values and is much higher for the 'Injury' value. A value of 0.19 for the recall for 'Injury' implies that our model predicts 'Injuries' only 19% of the time, even thought when it does it predicts with a probability of 89%. Since the 'False Negative' must be taken in consideration the F1-score is the metrics of choise. Unfortunately, the F1-score is low and other classification models must be evaluated."
   ]
  },
  {
   "cell_type": "markdown",
   "metadata": {},
   "source": [
    "### Random Forest Classifier"
   ]
  },
  {
   "cell_type": "markdown",
   "metadata": {},
   "source": [
    "I will try use the Random Forest Classifier model that I would expect to obtain better results"
   ]
  },
  {
   "cell_type": "code",
   "execution_count": 23,
   "metadata": {},
   "outputs": [],
   "source": [
    "from sklearn.ensemble import RandomForestClassifier"
   ]
  },
  {
   "cell_type": "code",
   "execution_count": 24,
   "metadata": {},
   "outputs": [],
   "source": [
    "model = RandomForestClassifier()"
   ]
  },
  {
   "cell_type": "code",
   "execution_count": 25,
   "metadata": {},
   "outputs": [
    {
     "data": {
      "text/plain": [
       "RandomForestClassifier(bootstrap=True, ccp_alpha=0.0, class_weight=None,\n",
       "                       criterion='gini', max_depth=None, max_features='auto',\n",
       "                       max_leaf_nodes=None, max_samples=None,\n",
       "                       min_impurity_decrease=0.0, min_impurity_split=None,\n",
       "                       min_samples_leaf=1, min_samples_split=2,\n",
       "                       min_weight_fraction_leaf=0.0, n_estimators=100,\n",
       "                       n_jobs=None, oob_score=False, random_state=None,\n",
       "                       verbose=0, warm_start=False)"
      ]
     },
     "execution_count": 25,
     "metadata": {},
     "output_type": "execute_result"
    }
   ],
   "source": [
    "# fit the model with the training data\n",
    "model.fit(X_train,y_train)"
   ]
  },
  {
   "cell_type": "code",
   "execution_count": 26,
   "metadata": {},
   "outputs": [],
   "source": [
    "# predict the target on the train and test dataset\n",
    "predict_train = model.predict(X_train)\n",
    "predict_test = model.predict(X_test)"
   ]
  },
  {
   "cell_type": "code",
   "execution_count": 30,
   "metadata": {},
   "outputs": [
    {
     "name": "stdout",
     "output_type": "stream",
     "text": [
      "Random Forest Target on train data [0 0 0 0 0 0 0 0 0 1 1 0 0 1 0 0 0 0 0 1]\n",
      "Random Forest Target on test data [0 0 0 0 0 0 1 0 0 0 0 1 0 0 0 0 0 0 0 0]\n"
     ]
    }
   ],
   "source": [
    "# predict the target on the train vs test dataset\n",
    "print('Random Forest Target on train data',predict_train[0:20])\n",
    "print('Random Forest Target on test data',predict_test[0:20])"
   ]
  },
  {
   "cell_type": "code",
   "execution_count": 31,
   "metadata": {},
   "outputs": [
    {
     "name": "stdout",
     "output_type": "stream",
     "text": [
      "Random Forest Accuracy_score on train dataset :  0.9493656023658739\n",
      "Random Forest Accuracy_score on test dataset :  0.7290846203897127\n"
     ]
    }
   ],
   "source": [
    "# Accuray Score on train and test dataset\n",
    "accuracy_train = accuracy_score(y_train,predict_train)\n",
    "accuracy_test = accuracy_score(y_test,predict_test)\n",
    "print('Random Forest Accuracy_score on train dataset : ', accuracy_train)\n",
    "print('Random Forest Accuracy_score on test dataset : ', accuracy_test)"
   ]
  },
  {
   "cell_type": "code",
   "execution_count": 32,
   "metadata": {},
   "outputs": [
    {
     "name": "stdout",
     "output_type": "stream",
     "text": [
      "Random Forest Training Set Evaluation F1-Score=> 0.912706846819493\n",
      "Random Forest Testing Set Evaluation F1-Score=> 0.4896458293013353\n",
      "[[34990  5857]\n",
      " [ 9965  7590]]\n",
      "              precision    recall  f1-score   support\n",
      "\n",
      "           0       0.78      0.86      0.82     40847\n",
      "           1       0.56      0.43      0.49     17555\n",
      "\n",
      "    accuracy                           0.73     58402\n",
      "   macro avg       0.67      0.64      0.65     58402\n",
      "weighted avg       0.71      0.73      0.72     58402\n",
      "\n"
     ]
    }
   ],
   "source": [
    "print('Random Forest Training Set Evaluation F1-Score=>',f1_score(y_train,predict_train))\n",
    "print('Random Forest Testing Set Evaluation F1-Score=>',f1_score(y_test,predict_test))\n",
    "print(confusion_matrix(y_test, predict_test))  \n",
    "print(classification_report(y_test, predict_test))"
   ]
  },
  {
   "cell_type": "markdown",
   "metadata": {},
   "source": [
    "By using the Random Forest model we get an increase in F1 score from 0.30 to 0.48 in the out-of-sample evaluation without  changing the accuracy_score."
   ]
  },
  {
   "cell_type": "markdown",
   "metadata": {},
   "source": [
    "### Feature Importance"
   ]
  },
  {
   "cell_type": "markdown",
   "metadata": {},
   "source": [
    "In an attempt to add improvements or to reveal some more insights regarding the applicability of the models on our data set I will try to identify the importance of variables used in above models. This way, I might exclude the least important ones in hope to eliminate the 'noise' from the data set and hopefully it will help to show a better performance of the models."
   ]
  },
  {
   "cell_type": "markdown",
   "metadata": {},
   "source": [
    "The bar graph bellow shows the wieghts given for features for Decision Tree and Random Forest algorithms."
   ]
  },
  {
   "cell_type": "code",
   "execution_count": 33,
   "metadata": {},
   "outputs": [
    {
     "data": {
      "image/png": "[encoded data removed]",
      "text/plain": [
       "<Figure size 1296x576 with 1 Axes>"
      ]
     },
     "metadata": {
      "needs_background": "light"
     },
     "output_type": "display_data"
    }
   ],
   "source": [
    "# https://www.analyticsvidhya.com/blog/2020/05/decision-tree-vs-random-forest-algorithm/#:~:text=Each%20node%20in%20the%20decision,to%20generate%20the%20final%20output.&text=The%20Random%20Forest%20Algorithm%20combines,to%20generate%20the%20final%20output.\n",
    "\n",
    "feature_importance=pd.DataFrame({\n",
    "    'rfc':model.feature_importances_,\n",
    "    'dt':SeverityTree.feature_importances_\n",
    "},index=df.drop(columns=['SEVERITYDESC']).columns)\n",
    "feature_importance.sort_values(by='rfc',ascending=True,inplace=True)\n",
    "\n",
    "index = np.arange(len(feature_importance))\n",
    "fig, ax = plt.subplots(figsize=(18,8))\n",
    "rfc_feature=ax.barh(index,feature_importance['rfc'],0.4,color='purple',label='Random Forest')\n",
    "dt_feature=ax.barh(index+0.4,feature_importance['dt'],0.4,color='lightgreen',label='Decision Tree')\n",
    "ax.set(yticks=index+0.4,yticklabels=feature_importance.index)\n",
    "\n",
    "ax.legend()\n",
    "plt.show()"
   ]
  },
  {
   "cell_type": "markdown",
   "metadata": {},
   "source": [
    "It can be noticed, that decision tree model puts a higher importance to a particular set of features, while random forest focuses on different set of features. Thus, I will evaluate the feature correlation, the permutation importance  and eventually the \"least\" important ones will be dropped."
   ]
  },
  {
   "cell_type": "code",
   "execution_count": 35,
   "metadata": {},
   "outputs": [
    {
     "data": {
      "image/png": "[encoded data removed]",
      "text/plain": [
       "<Figure size 864x720 with 2 Axes>"
      ]
     },
     "metadata": {
      "needs_background": "light"
     },
     "output_type": "display_data"
    }
   ],
   "source": [
    "#Using Pearson Correlation\n",
    "plt.figure(figsize=(12,10))\n",
    "cor = df_card.corr()\n",
    "sns.heatmap(cor, annot=True, cmap=plt.cm.Reds)\n",
    "plt.show()"
   ]
  },
  {
   "cell_type": "markdown",
   "metadata": {},
   "source": [
    "The correlation matrix implies that there are a relatively strong correlation between ROADCOND, LIGHTCOND and WEATHER, which is expected considering the fact that we have done a lot of cross checking between these two variables. Although the correlation matrix do not reveals which variables are worthy of dropping/keeping, the permutation importance algoritm might sugest some insights on this matter."
   ]
  },
  {
   "cell_type": "markdown",
   "metadata": {},
   "source": [
    "### Permutation Importance with Multicollinear or Correlated Features"
   ]
  },
  {
   "cell_type": "code",
   "execution_count": 36,
   "metadata": {},
   "outputs": [],
   "source": [
    "from collections import defaultdict\n",
    "import matplotlib.pyplot as plt\n",
    "from scipy.stats import spearmanr\n",
    "from scipy.cluster import hierarchy\n",
    "from sklearn.inspection import permutation_importance"
   ]
  },
  {
   "cell_type": "code",
   "execution_count": 37,
   "metadata": {},
   "outputs": [
    {
     "data": {
      "image/png": "[encoded data removed]",
      "text/plain": [
       "<Figure size 864x576 with 2 Axes>"
      ]
     },
     "metadata": {
      "needs_background": "light"
     },
     "output_type": "display_data"
    }
   ],
   "source": [
    "# https://scikit-learn.org/stable/auto_examples/inspection/plot_permutation_importance_multicollinear.html#sphx-glr-auto-examples-inspection-plot-permutation-importance-multicollinear-py\n",
    "result = permutation_importance(model, X_train, y_train, n_repeats=10,\n",
    "                                random_state=42)\n",
    "perm_sorted_idx = result.importances_mean.argsort()\n",
    "\n",
    "tree_importance_sorted_idx = np.argsort(model.feature_importances_)\n",
    "tree_indices = np.arange(0, len(model.feature_importances_)) + 0.5\n",
    "\n",
    "fig, (ax1, ax2) = plt.subplots(1, 2, figsize=(12, 8))\n",
    "ax1.barh(tree_indices,\n",
    "         model.feature_importances_[tree_importance_sorted_idx], height=0.7)\n",
    "ax1.set_yticklabels(x.columns[tree_importance_sorted_idx])\n",
    "ax1.set_yticks(tree_indices)\n",
    "ax1.set_ylim((0, len(model.feature_importances_)))\n",
    "ax2.boxplot(result.importances[perm_sorted_idx].T, vert=False,\n",
    "            labels=x.columns[perm_sorted_idx])\n",
    "fig.tight_layout()\n",
    "plt.show()"
   ]
  },
  {
   "cell_type": "markdown",
   "metadata": {},
   "source": [
    "According to the graph on the right, UNDERINFL and SPEEDING do not have a suficient impact on predicted variable, thus it might be dropped. Although, the literature is sugesting to keep variables that has an accuracy impact of at least 0.05, I will drop NONVEH, VEHCOUNT as well, since these variables represent only the 'after the accident' status not something that can influence the occurance of the accident itself."
   ]
  },
  {
   "cell_type": "markdown",
   "metadata": {},
   "source": [
    "### Reviewed Random Forest"
   ]
  },
  {
   "cell_type": "code",
   "execution_count": 38,
   "metadata": {},
   "outputs": [],
   "source": [
    "rf=df_card.drop(['UNDERINFL','SPEEDING','NONVEH','VEHCOUNT'], axis=1)"
   ]
  },
  {
   "cell_type": "code",
   "execution_count": 40,
   "metadata": {},
   "outputs": [
    {
     "data": {
      "text/html": [
       "<div>\n",
       "<style scoped>\n",
       "    .dataframe tbody tr th:only-of-type {\n",
       "        vertical-align: middle;\n",
       "    }\n",
       "\n",
       "    .dataframe tbody tr th {\n",
       "        vertical-align: top;\n",
       "    }\n",
       "\n",
       "    .dataframe thead th {\n",
       "        text-align: right;\n",
       "    }\n",
       "</style>\n",
       "<table border=\"1\" class=\"dataframe\">\n",
       "  <thead>\n",
       "    <tr style=\"text-align: right;\">\n",
       "      <th></th>\n",
       "      <th>ADDRTYPE</th>\n",
       "      <th>COLLISIONTYPE</th>\n",
       "      <th>PERSONCOUNT</th>\n",
       "      <th>JUNCTIONTYPE</th>\n",
       "      <th>SDOT_COLDESC</th>\n",
       "      <th>WEATHER</th>\n",
       "      <th>ROADCOND</th>\n",
       "      <th>LIGHTCOND</th>\n",
       "      <th>MONTH</th>\n",
       "      <th>TIME</th>\n",
       "      <th>WKDAY</th>\n",
       "    </tr>\n",
       "  </thead>\n",
       "  <tbody>\n",
       "    <tr>\n",
       "      <th>0</th>\n",
       "      <td>1</td>\n",
       "      <td>1</td>\n",
       "      <td>2</td>\n",
       "      <td>1</td>\n",
       "      <td>0</td>\n",
       "      <td>2</td>\n",
       "      <td>1</td>\n",
       "      <td>0</td>\n",
       "      <td>3</td>\n",
       "      <td>14</td>\n",
       "      <td>2</td>\n",
       "    </tr>\n",
       "    <tr>\n",
       "      <th>1</th>\n",
       "      <td>0</td>\n",
       "      <td>4</td>\n",
       "      <td>2</td>\n",
       "      <td>0</td>\n",
       "      <td>4</td>\n",
       "      <td>1</td>\n",
       "      <td>1</td>\n",
       "      <td>1</td>\n",
       "      <td>12</td>\n",
       "      <td>18</td>\n",
       "      <td>2</td>\n",
       "    </tr>\n",
       "    <tr>\n",
       "      <th>2</th>\n",
       "      <td>0</td>\n",
       "      <td>0</td>\n",
       "      <td>4</td>\n",
       "      <td>0</td>\n",
       "      <td>1</td>\n",
       "      <td>2</td>\n",
       "      <td>0</td>\n",
       "      <td>0</td>\n",
       "      <td>11</td>\n",
       "      <td>10</td>\n",
       "      <td>3</td>\n",
       "    </tr>\n",
       "    <tr>\n",
       "      <th>3</th>\n",
       "      <td>0</td>\n",
       "      <td>5</td>\n",
       "      <td>3</td>\n",
       "      <td>0</td>\n",
       "      <td>0</td>\n",
       "      <td>0</td>\n",
       "      <td>0</td>\n",
       "      <td>0</td>\n",
       "      <td>3</td>\n",
       "      <td>9</td>\n",
       "      <td>4</td>\n",
       "    </tr>\n",
       "    <tr>\n",
       "      <th>4</th>\n",
       "      <td>1</td>\n",
       "      <td>1</td>\n",
       "      <td>2</td>\n",
       "      <td>1</td>\n",
       "      <td>0</td>\n",
       "      <td>1</td>\n",
       "      <td>1</td>\n",
       "      <td>0</td>\n",
       "      <td>1</td>\n",
       "      <td>8</td>\n",
       "      <td>2</td>\n",
       "    </tr>\n",
       "  </tbody>\n",
       "</table>\n",
       "</div>"
      ],
      "text/plain": [
       "   ADDRTYPE  COLLISIONTYPE  PERSONCOUNT  JUNCTIONTYPE  SDOT_COLDESC  WEATHER  \\\n",
       "0         1              1            2             1             0        2   \n",
       "1         0              4            2             0             4        1   \n",
       "2         0              0            4             0             1        2   \n",
       "3         0              5            3             0             0        0   \n",
       "4         1              1            2             1             0        1   \n",
       "\n",
       "   ROADCOND  LIGHTCOND  MONTH  TIME  WKDAY  \n",
       "0         1          0      3    14      2  \n",
       "1         1          1     12    18      2  \n",
       "2         0          0     11    10      3  \n",
       "3         0          0      3     9      4  \n",
       "4         1          0      1     8      2  "
      ]
     },
     "execution_count": 40,
     "metadata": {},
     "output_type": "execute_result"
    }
   ],
   "source": [
    "X_rf=rf.drop(['SEVERITYDESC'], axis=1)\n",
    "Y_rf=rf['SEVERITYDESC']\n",
    "X_rf[0:5]"
   ]
  },
  {
   "cell_type": "code",
   "execution_count": 41,
   "metadata": {},
   "outputs": [
    {
     "data": {
      "text/plain": [
       "0    1\n",
       "1    0\n",
       "2    0\n",
       "3    0\n",
       "4    1\n",
       "Name: SEVERITYDESC, dtype: int64"
      ]
     },
     "execution_count": 41,
     "metadata": {},
     "output_type": "execute_result"
    }
   ],
   "source": [
    "Y_rf[0:5]"
   ]
  },
  {
   "cell_type": "code",
   "execution_count": 42,
   "metadata": {},
   "outputs": [
    {
     "name": "stdout",
     "output_type": "stream",
     "text": [
      "<class 'pandas.core.frame.DataFrame'>\n",
      "RangeIndex: 194673 entries, 0 to 194672\n",
      "Data columns (total 11 columns):\n",
      " #   Column         Non-Null Count   Dtype\n",
      "---  ------         --------------   -----\n",
      " 0   ADDRTYPE       194673 non-null  int64\n",
      " 1   COLLISIONTYPE  194673 non-null  int64\n",
      " 2   PERSONCOUNT    194673 non-null  int64\n",
      " 3   JUNCTIONTYPE   194673 non-null  int64\n",
      " 4   SDOT_COLDESC   194673 non-null  int64\n",
      " 5   WEATHER        194673 non-null  int64\n",
      " 6   ROADCOND       194673 non-null  int64\n",
      " 7   LIGHTCOND      194673 non-null  int64\n",
      " 8   MONTH          194673 non-null  int64\n",
      " 9   TIME           194673 non-null  int64\n",
      " 10  WKDAY          194673 non-null  int64\n",
      "dtypes: int64(11)\n",
      "memory usage: 16.3 MB\n"
     ]
    }
   ],
   "source": [
    "X_rf.info()"
   ]
  },
  {
   "cell_type": "markdown",
   "metadata": {},
   "source": [
    "Running the Random Forest Classifier algorithm on a new smaller data set and listing previous results."
   ]
  },
  {
   "cell_type": "code",
   "execution_count": 43,
   "metadata": {},
   "outputs": [],
   "source": [
    "X_rf_train, X_rf_test, y_rf_train, y_rf_test = train_test_split(X_rf, Y_rf, test_size=0.3, random_state=3)\n",
    "RF_model = RandomForestClassifier()\n",
    "RF_model.fit(X_rf_train, y_rf_train)\n",
    "RF_Tree = RF_model.predict(X_rf_test)"
   ]
  },
  {
   "cell_type": "code",
   "execution_count": 44,
   "metadata": {},
   "outputs": [
    {
     "name": "stdout",
     "output_type": "stream",
     "text": [
      "Decision Tree model results\n",
      "Decision Tree's Training set Accuracy:  0.750915455232588\n",
      "Decision Tree's Test set Accuracy:  0.7483990274305674\n",
      "Decision Tree's Training Set Evaluation F1-Score=> 0.31070405946022783\n",
      "Decision Tree's Test Set Evaluation F1-Score=>  0.3079966092116417\n",
      "              precision    recall  f1-score   support\n",
      "\n",
      "           0       0.74      0.99      0.85     40847\n",
      "           1       0.89      0.19      0.31     17555\n",
      "\n",
      "    accuracy                           0.75     58402\n",
      "   macro avg       0.81      0.59      0.58     58402\n",
      "weighted avg       0.78      0.75      0.68     58402\n",
      "\n",
      "Random Forest model results\n",
      "Random Forest's Accuracy_score on train dataset :  0.9493656023658739\n",
      "Random Forest's Accuracy_score on test dataset :  0.7290846203897127\n",
      "Random Forest's Training Set Evaluation F1-Score=> 0.912706846819493\n",
      "Random Forest's Testing Set Evaluation F1-Score=> 0.4896458293013353\n",
      "              precision    recall  f1-score   support\n",
      "\n",
      "           0       0.78      0.86      0.82     40847\n",
      "           1       0.56      0.43      0.49     17555\n",
      "\n",
      "    accuracy                           0.73     58402\n",
      "   macro avg       0.67      0.64      0.65     58402\n",
      "weighted avg       0.71      0.73      0.72     58402\n",
      "\n",
      "Reviewed Random Forest model results\n",
      "Reviewed Random Forest's Accuracy_score on train dataset :  0.939451534075482\n",
      "Reviewed Random Forest's Accuracy_score on test dataset :  0.7225951166055957\n",
      "Reviewed Random Forest's Training Set Evaluation F1-Score=> 0.8951681553102012\n",
      "Reviewed Random Forest's Testing Set Evaluation F1-Score=> 0.48062065206937454\n",
      "              precision    recall  f1-score   support\n",
      "\n",
      "           0       0.78      0.85      0.81     40847\n",
      "           1       0.55      0.43      0.48     17555\n",
      "\n",
      "    accuracy                           0.72     58402\n",
      "   macro avg       0.66      0.64      0.65     58402\n",
      "weighted avg       0.71      0.72      0.71     58402\n",
      "\n"
     ]
    }
   ],
   "source": [
    "# Decision Tree model Results\n",
    "print(\"Decision Tree model results\")\n",
    "\n",
    "print(\"Decision Tree's Training set Accuracy: \", metrics.accuracy_score(y_train, SeverityTree.predict(X_train)))\n",
    "print(\"Decision Tree's Test set Accuracy: \", metrics.accuracy_score(y_test, predTree))\n",
    "print(\"Decision Tree's Training Set Evaluation F1-Score=>\",f1_score(y_train, SeverityTree.predict(X_train)))\n",
    "print(\"Decision Tree's Test Set Evaluation F1-Score=> \",f1_score(y_test, predTree))\n",
    "print(classification_report(y_test, predTree))\n",
    "\n",
    "#------------------------------------------------------------------------------------------\n",
    "\n",
    "# Decision Tree model Results\n",
    "print(\"Decision Tree model results\")\n",
    "\n",
    "print(\"Decision Tree's Training set Accuracy: \", metrics.accuracy_score(y_rf_train, SeverityTree.predict(X_rf_train)))\n",
    "print(\"Decision Tree's Test set Accuracy: \", metrics.accuracy_score(y_rf_test, SeverityTree.predict(X_rf_test)))\n",
    "print(\"Decision Tree's Training Set Evaluation F1-Score=>\",f1_score(y_rf_train, SeverityTree.predict(X_rf_train)))\n",
    "print(\"Decision Tree's Test Set Evaluation F1-Score=> \",f1_score(y_rf_test, SeverityTree.predict(X_rf_test)))\n",
    "print(classification_report(y_rf_test, SeverityTree.predict(X_rf_test)))\n",
    "\n",
    "#-----------------------------------------------------------------------------------------\n",
    "\n",
    "# Random Forest model results\n",
    "print(\"Random Forest model results\")\n",
    "\n",
    "print(\"Random Forest's Accuracy_score on train dataset : \", accuracy_train)\n",
    "print(\"Random Forest's Accuracy_score on test dataset : \", accuracy_test)\n",
    "print(\"Random Forest's Training Set Evaluation F1-Score=>\",f1_score(y_train,predict_train))\n",
    "print(\"Random Forest's Testing Set Evaluation F1-Score=>\",f1_score(y_test,predict_test))  \n",
    "print(classification_report(y_test, predict_test))\n",
    "\n",
    "#-----------------------------------------------------------------------------------------\n",
    "\n",
    "# Reviewed Random Forest model Results\n",
    "print(\"Reviewed Random Forest model results\")\n",
    "\n",
    "# predict the target on the train dataset\n",
    "predictRF_train = RF_model.predict(X_rf_train)\n",
    "# predict the target on the test dataset\n",
    "predictRF_test = RF_model.predict(X_rf_test)\n",
    "\n",
    "# Accuracy Score on train dataset\n",
    "accuracyRF_train = accuracy_score(y_rf_train,predictRF_train)\n",
    "print(\"Reviewed Random Forest's Accuracy_score on train dataset : \", accuracyRF_train)\n",
    "# Accuracy Score on test dataset\n",
    "accuracyRF_test = accuracy_score(y_rf_test,predictRF_test)\n",
    "print(\"Reviewed Random Forest's Accuracy_score on test dataset : \", accuracyRF_test)\n",
    "\n",
    "print(\"Reviewed Random Forest's Training Set Evaluation F1-Score=>\",f1_score(y_rf_train,predictRF_train))\n",
    "print(\"Reviewed Random Forest's Testing Set Evaluation F1-Score=>\",f1_score(y_rf_test,predictRF_test))\n",
    "print(classification_report(y_rf_test, predictRF_test))"
   ]
  },
  {
   "cell_type": "markdown",
   "metadata": {},
   "source": [
    "As a conclusion, the Reviewed Random Forest algorithm provides a similar performance of predicting the severity of accidents by using less features. That translates into less time and resource consumtion to predict the severity of the accidents."
   ]
  },
  {
   "cell_type": "code",
   "execution_count": 62,
   "metadata": {},
   "outputs": [
    {
     "name": "stdout",
     "output_type": "stream",
     "text": [
      "Confusion matrix, without normalization\n",
      "[[ 7496 10059]\n",
      " [ 6142 34705]]\n"
     ]
    },
    {
     "data": {
      "image/png": "[encoded data removed]",
      "text/plain": [
       "<Figure size 432x288 with 2 Axes>"
      ]
     },
     "metadata": {
      "needs_background": "light"
     },
     "output_type": "display_data"
    }
   ],
   "source": [
    "from sklearn.metrics import classification_report, confusion_matrix\n",
    "import itertools\n",
    "def plot_confusion_matrix(cm, classes,\n",
    "                          normalize=False,\n",
    "                          title='Confusion matrix',\n",
    "                          cmap=plt.cm.Blues):\n",
    "    \"\"\"\n",
    "    This function prints and plots the confusion matrix.\n",
    "    Normalization can be applied by setting `normalize=True`.\n",
    "    \"\"\"\n",
    "    if normalize:\n",
    "        cm = cm.astype('float') / cm.sum(axis=1)[:, np.newaxis]\n",
    "        print(\"Normalized confusion matrix\")\n",
    "    else:\n",
    "        print('Confusion matrix, without normalization')\n",
    "\n",
    "    print(cm)\n",
    "\n",
    "    plt.imshow(cm, interpolation='nearest', cmap=cmap)\n",
    "    plt.title(title)\n",
    "    plt.colorbar()\n",
    "    tick_marks = np.arange(len(classes))\n",
    "    plt.xticks(tick_marks, classes, rotation=45)\n",
    "    plt.yticks(tick_marks, classes)\n",
    "\n",
    "    fmt = '.2f' if normalize else 'd'\n",
    "    thresh = cm.max() / 2.\n",
    "    for i, j in itertools.product(range(cm.shape[0]), range(cm.shape[1])):\n",
    "        plt.text(j, i, format(cm[i, j], fmt),\n",
    "                 horizontalalignment=\"center\",\n",
    "                 color=\"white\" if cm[i, j] > thresh else \"black\")\n",
    "\n",
    "    plt.tight_layout()\n",
    "    plt.ylabel('True label')\n",
    "    plt.xlabel('Predicted label')\n",
    "\n",
    "# Compute confusion matrix\n",
    "cnf_matrix = confusion_matrix(y_rf_test, predictRF_test, labels=[1,0])\n",
    "np.set_printoptions(precision=2)\n",
    "\n",
    "\n",
    "# Plot non-normalized confusion matrix\n",
    "plt.figure()\n",
    "plot_confusion_matrix(cnf_matrix, classes=['Injury','Property Damage'],normalize= False,  title='Confusion matrix')"
   ]
  },
  {
   "cell_type": "markdown",
   "metadata": {},
   "source": [
    "## Logistic Regression approach"
   ]
  },
  {
   "cell_type": "markdown",
   "metadata": {},
   "source": [
    "Since the target feature takes binary values, it will be appropriate to use logistic regression algorithm and to check its performance against tree algorithms. While Decision Tree and Random Forest algorithms do not require normalization of the data, the Logistic Regression requires it. Thus, needed modules and steps will be taken."
   ]
  },
  {
   "cell_type": "code",
   "execution_count": 49,
   "metadata": {},
   "outputs": [],
   "source": [
    "import pylab as pl\n",
    "import scipy.optimize as opt\n",
    "from sklearn import preprocessing"
   ]
  },
  {
   "cell_type": "markdown",
   "metadata": {},
   "source": [
    "The same variables as for 'Reviewed Random Forest' algorithm will be used since the logic behind dropping the un-needed features remains the same and for the logistic regression algorithm."
   ]
  },
  {
   "cell_type": "code",
   "execution_count": 51,
   "metadata": {},
   "outputs": [
    {
     "name": "stdout",
     "output_type": "stream",
     "text": [
      "Data shape:  (194673, 12)\n"
     ]
    },
    {
     "data": {
      "text/html": [
       "<div>\n",
       "<style scoped>\n",
       "    .dataframe tbody tr th:only-of-type {\n",
       "        vertical-align: middle;\n",
       "    }\n",
       "\n",
       "    .dataframe tbody tr th {\n",
       "        vertical-align: top;\n",
       "    }\n",
       "\n",
       "    .dataframe thead th {\n",
       "        text-align: right;\n",
       "    }\n",
       "</style>\n",
       "<table border=\"1\" class=\"dataframe\">\n",
       "  <thead>\n",
       "    <tr style=\"text-align: right;\">\n",
       "      <th></th>\n",
       "      <th>ADDRTYPE</th>\n",
       "      <th>SEVERITYDESC</th>\n",
       "      <th>COLLISIONTYPE</th>\n",
       "      <th>PERSONCOUNT</th>\n",
       "      <th>JUNCTIONTYPE</th>\n",
       "      <th>SDOT_COLDESC</th>\n",
       "      <th>WEATHER</th>\n",
       "      <th>ROADCOND</th>\n",
       "      <th>LIGHTCOND</th>\n",
       "      <th>MONTH</th>\n",
       "      <th>TIME</th>\n",
       "      <th>WKDAY</th>\n",
       "    </tr>\n",
       "  </thead>\n",
       "  <tbody>\n",
       "    <tr>\n",
       "      <th>0</th>\n",
       "      <td>1</td>\n",
       "      <td>1</td>\n",
       "      <td>1</td>\n",
       "      <td>2</td>\n",
       "      <td>1</td>\n",
       "      <td>0</td>\n",
       "      <td>2</td>\n",
       "      <td>1</td>\n",
       "      <td>0</td>\n",
       "      <td>3</td>\n",
       "      <td>14</td>\n",
       "      <td>2</td>\n",
       "    </tr>\n",
       "    <tr>\n",
       "      <th>1</th>\n",
       "      <td>0</td>\n",
       "      <td>0</td>\n",
       "      <td>4</td>\n",
       "      <td>2</td>\n",
       "      <td>0</td>\n",
       "      <td>4</td>\n",
       "      <td>1</td>\n",
       "      <td>1</td>\n",
       "      <td>1</td>\n",
       "      <td>12</td>\n",
       "      <td>18</td>\n",
       "      <td>2</td>\n",
       "    </tr>\n",
       "    <tr>\n",
       "      <th>2</th>\n",
       "      <td>0</td>\n",
       "      <td>0</td>\n",
       "      <td>0</td>\n",
       "      <td>4</td>\n",
       "      <td>0</td>\n",
       "      <td>1</td>\n",
       "      <td>2</td>\n",
       "      <td>0</td>\n",
       "      <td>0</td>\n",
       "      <td>11</td>\n",
       "      <td>10</td>\n",
       "      <td>3</td>\n",
       "    </tr>\n",
       "    <tr>\n",
       "      <th>3</th>\n",
       "      <td>0</td>\n",
       "      <td>0</td>\n",
       "      <td>5</td>\n",
       "      <td>3</td>\n",
       "      <td>0</td>\n",
       "      <td>0</td>\n",
       "      <td>0</td>\n",
       "      <td>0</td>\n",
       "      <td>0</td>\n",
       "      <td>3</td>\n",
       "      <td>9</td>\n",
       "      <td>4</td>\n",
       "    </tr>\n",
       "    <tr>\n",
       "      <th>4</th>\n",
       "      <td>1</td>\n",
       "      <td>1</td>\n",
       "      <td>1</td>\n",
       "      <td>2</td>\n",
       "      <td>1</td>\n",
       "      <td>0</td>\n",
       "      <td>1</td>\n",
       "      <td>1</td>\n",
       "      <td>0</td>\n",
       "      <td>1</td>\n",
       "      <td>8</td>\n",
       "      <td>2</td>\n",
       "    </tr>\n",
       "  </tbody>\n",
       "</table>\n",
       "</div>"
      ],
      "text/plain": [
       "   ADDRTYPE  SEVERITYDESC  COLLISIONTYPE  PERSONCOUNT  JUNCTIONTYPE  \\\n",
       "0         1             1              1            2             1   \n",
       "1         0             0              4            2             0   \n",
       "2         0             0              0            4             0   \n",
       "3         0             0              5            3             0   \n",
       "4         1             1              1            2             1   \n",
       "\n",
       "   SDOT_COLDESC  WEATHER  ROADCOND  LIGHTCOND  MONTH  TIME  WKDAY  \n",
       "0             0        2         1          0      3    14      2  \n",
       "1             4        1         1          1     12    18      2  \n",
       "2             1        2         0          0     11    10      3  \n",
       "3             0        0         0          0      3     9      4  \n",
       "4             0        1         1          0      1     8      2  "
      ]
     },
     "execution_count": 51,
     "metadata": {},
     "output_type": "execute_result"
    }
   ],
   "source": [
    "lr=rf\n",
    "print('Data shape: ', lr.shape)\n",
    "lr.head()"
   ]
  },
  {
   "cell_type": "code",
   "execution_count": 52,
   "metadata": {},
   "outputs": [],
   "source": [
    "X_lr=lr.drop(['SEVERITYDESC'], axis=1)\n",
    "y_lr=lr['SEVERITYDESC']"
   ]
  },
  {
   "cell_type": "markdown",
   "metadata": {},
   "source": [
    "Normilize the data set."
   ]
  },
  {
   "cell_type": "code",
   "execution_count": 53,
   "metadata": {},
   "outputs": [],
   "source": [
    "X_lr = preprocessing.StandardScaler().fit(X_lr).transform(X_lr)"
   ]
  },
  {
   "cell_type": "code",
   "execution_count": 54,
   "metadata": {},
   "outputs": [],
   "source": [
    "X_lr_train, X_lr_test, y_lr_train, y_lr_test = train_test_split( X_lr, y_lr, test_size=0.2, random_state=4)"
   ]
  },
  {
   "cell_type": "code",
   "execution_count": 55,
   "metadata": {},
   "outputs": [
    {
     "data": {
      "text/plain": [
       "LogisticRegression(C=0.01, class_weight=None, dual=False, fit_intercept=True,\n",
       "                   intercept_scaling=1, l1_ratio=None, max_iter=100,\n",
       "                   multi_class='auto', n_jobs=None, penalty='l2',\n",
       "                   random_state=None, solver='liblinear', tol=0.0001, verbose=0,\n",
       "                   warm_start=False)"
      ]
     },
     "execution_count": 55,
     "metadata": {},
     "output_type": "execute_result"
    }
   ],
   "source": [
    "from sklearn.linear_model import LogisticRegression\n",
    "LR = LogisticRegression(C=0.01, solver='liblinear').fit(X_lr_train,y_lr_train)\n",
    "LR"
   ]
  },
  {
   "cell_type": "code",
   "execution_count": 56,
   "metadata": {},
   "outputs": [],
   "source": [
    "yhat_lr = LR.predict(X_lr_test)\n",
    "yhat_lr_prob = LR.predict_proba(X_lr_test)"
   ]
  },
  {
   "cell_type": "markdown",
   "metadata": {},
   "source": [
    "### Evaluation\n",
    "\n",
    "### Obtaining the Jackard Index"
   ]
  },
  {
   "cell_type": "code",
   "execution_count": 57,
   "metadata": {},
   "outputs": [
    {
     "name": "stderr",
     "output_type": "stream",
     "text": [
      "/Users/olegsargu/opt/anaconda3/lib/python3.7/site-packages/sklearn/metrics/_classification.py:664: FutureWarning: jaccard_similarity_score has been deprecated and replaced with jaccard_score. It will be removed in version 0.23. This implementation has surprising behavior for binary and multiclass classification tasks.\n",
      "  FutureWarning)\n"
     ]
    },
    {
     "data": {
      "text/plain": [
       "0.7188134069603185"
      ]
     },
     "execution_count": 57,
     "metadata": {},
     "output_type": "execute_result"
    }
   ],
   "source": [
    "from sklearn.metrics import jaccard_similarity_score\n",
    "jaccard_similarity_score(y_lr_test, yhat_lr)"
   ]
  },
  {
   "cell_type": "markdown",
   "metadata": {},
   "source": [
    "### Confusion Matrix"
   ]
  },
  {
   "cell_type": "code",
   "execution_count": 64,
   "metadata": {},
   "outputs": [
    {
     "name": "stdout",
     "output_type": "stream",
     "text": [
      "Confusion matrix, without normalization\n",
      "[[ 2237  9273]\n",
      " [ 1675 25750]]\n"
     ]
    },
    {
     "data": {
      "image/png": "[encoded data removed]",
      "text/plain": [
       "<Figure size 432x288 with 2 Axes>"
      ]
     },
     "metadata": {
      "needs_background": "light"
     },
     "output_type": "display_data"
    }
   ],
   "source": [
    "from sklearn.metrics import classification_report, confusion_matrix\n",
    "import itertools\n",
    "def plot_confusion_matrix(cm, classes,\n",
    "                          normalize=False,\n",
    "                          title='Confusion matrix',\n",
    "                          cmap=plt.cm.Blues):\n",
    "    \"\"\"\n",
    "    This function prints and plots the confusion matrix.\n",
    "    Normalization can be applied by setting `normalize=True`.\n",
    "    \"\"\"\n",
    "    if normalize:\n",
    "        cm = cm.astype('float') / cm.sum(axis=1)[:, np.newaxis]\n",
    "        print(\"Normalized confusion matrix\")\n",
    "    else:\n",
    "        print('Confusion matrix, without normalization')\n",
    "\n",
    "    print(cm)\n",
    "\n",
    "    plt.imshow(cm, interpolation='nearest', cmap=cmap)\n",
    "    plt.title(title)\n",
    "    plt.colorbar()\n",
    "    tick_marks = np.arange(len(classes))\n",
    "    plt.xticks(tick_marks, classes, rotation=45)\n",
    "    plt.yticks(tick_marks, classes)\n",
    "\n",
    "    fmt = '.2f' if normalize else 'd'\n",
    "    thresh = cm.max() / 2.\n",
    "    for i, j in itertools.product(range(cm.shape[0]), range(cm.shape[1])):\n",
    "        plt.text(j, i, format(cm[i, j], fmt),\n",
    "                 horizontalalignment=\"center\",\n",
    "                 color=\"white\" if cm[i, j] > thresh else \"black\")\n",
    "\n",
    "    plt.tight_layout()\n",
    "    plt.ylabel('True label')\n",
    "    plt.xlabel('Predicted label')\n",
    "\n",
    "# Compute confusion matrix\n",
    "cnf_matrix_lr = confusion_matrix(y_lr_test, yhat_lr, labels=[1,0])\n",
    "np.set_printoptions(precision=2)\n",
    "\n",
    "\n",
    "# Plot non-normalized confusion matrix\n",
    "plt.figure()\n",
    "plot_confusion_matrix(cnf_matrix_lr, classes=['Injury','Property Damage'],normalize= False,  title='Confusion matrix Logistc ')"
   ]
  },
  {
   "cell_type": "markdown",
   "metadata": {},
   "source": [
    "### Classification Report"
   ]
  },
  {
   "cell_type": "code",
   "execution_count": 66,
   "metadata": {},
   "outputs": [
    {
     "name": "stdout",
     "output_type": "stream",
     "text": [
      "              precision    recall  f1-score   support\n",
      "\n",
      "           0       0.74      0.94      0.82     27425\n",
      "           1       0.57      0.19      0.29     11510\n",
      "\n",
      "    accuracy                           0.72     38935\n",
      "   macro avg       0.65      0.57      0.56     38935\n",
      "weighted avg       0.69      0.72      0.67     38935\n",
      "\n"
     ]
    }
   ],
   "source": [
    "# logistic regression report\n",
    "print (classification_report(y_lr_test, yhat_lr))"
   ]
  },
  {
   "cell_type": "markdown",
   "metadata": {},
   "source": [
    "### Log_Loss"
   ]
  },
  {
   "cell_type": "code",
   "execution_count": 67,
   "metadata": {},
   "outputs": [
    {
     "data": {
      "text/plain": [
       "0.5541521504625931"
      ]
     },
     "execution_count": 67,
     "metadata": {},
     "output_type": "execute_result"
    }
   ],
   "source": [
    "from sklearn.metrics import log_loss\n",
    "log_loss(y_lr_test, yhat_lr_prob)"
   ]
  },
  {
   "cell_type": "markdown",
   "metadata": {},
   "source": [
    "## K-Nearest Neighbors"
   ]
  },
  {
   "cell_type": "code",
   "execution_count": 68,
   "metadata": {},
   "outputs": [],
   "source": [
    "from sklearn.neighbors import KNeighborsClassifier"
   ]
  },
  {
   "cell_type": "code",
   "execution_count": 69,
   "metadata": {},
   "outputs": [
    {
     "data": {
      "image/png": "[encoded data removed]",
      "text/plain": [
       "<Figure size 432x288 with 1 Axes>"
      ]
     },
     "metadata": {
      "needs_background": "light"
     },
     "output_type": "display_data"
    }
   ],
   "source": [
    "Ks = 10\n",
    "mean_acc = np.zeros((Ks-1))\n",
    "std_acc = np.zeros((Ks-1))\n",
    "ConfustionMx = [];\n",
    "for n in range(1,Ks):\n",
    "    \n",
    "    #Train Model and Predict  \n",
    "    knn = KNeighborsClassifier(n_neighbors = n).fit(X_lr_train,y_lr_train)\n",
    "    yhat_knn=knn.predict(X_lr_test)\n",
    "    mean_acc[n-1] = metrics.accuracy_score(y_lr_test, yhat_knn)\n",
    "\n",
    "    \n",
    "    std_acc[n-1]=np.std(yhat_knn==y_lr_test)/np.sqrt(yhat_knn.shape[0])\n",
    "plt.plot(range(1,Ks),mean_acc,'g')\n",
    "plt.fill_between(range(1,Ks),mean_acc - 1 * std_acc,mean_acc + 1 * std_acc, alpha=0.10)\n",
    "plt.legend(('Accuracy ', '+/- 3xstd'))\n",
    "plt.ylabel('Accuracy ')\n",
    "plt.xlabel('Number of Nabors (K)')\n",
    "plt.tight_layout()\n",
    "plt.show()"
   ]
  },
  {
   "cell_type": "code",
   "execution_count": 70,
   "metadata": {},
   "outputs": [
    {
     "name": "stdout",
     "output_type": "stream",
     "text": [
      "The best accuracy was with 0.7369461923719018 with k= 8\n"
     ]
    }
   ],
   "source": [
    "print( \"The best accuracy was with\", mean_acc.max(), \"with k=\", mean_acc.argmax()+1) "
   ]
  },
  {
   "cell_type": "code",
   "execution_count": 71,
   "metadata": {},
   "outputs": [
    {
     "name": "stdout",
     "output_type": "stream",
     "text": [
      "Test set Accuracy:  0.7302427122126621\n"
     ]
    }
   ],
   "source": [
    "print(\"Test set Accuracy: \", metrics.accuracy_score(y_lr_test, yhat_knn))"
   ]
  },
  {
   "cell_type": "code",
   "execution_count": 73,
   "metadata": {},
   "outputs": [
    {
     "name": "stdout",
     "output_type": "stream",
     "text": [
      "              precision    recall  f1-score   support\n",
      "\n",
      "           0       0.77      0.87      0.82     27425\n",
      "           1       0.56      0.39      0.46     11510\n",
      "\n",
      "    accuracy                           0.73     38935\n",
      "   macro avg       0.67      0.63      0.64     38935\n",
      "weighted avg       0.71      0.73      0.71     38935\n",
      "\n"
     ]
    }
   ],
   "source": [
    "print (classification_report(y_lr_test, yhat_knn))"
   ]
  },
  {
   "cell_type": "code",
   "execution_count": null,
   "metadata": {},
   "outputs": [],
   "source": []
  },
  {
   "cell_type": "code",
   "execution_count": null,
   "metadata": {},
   "outputs": [],
   "source": []
  }
 ],
 "metadata": {
  "kernelspec": {
   "display_name": "Python 3",
   "language": "python",
   "name": "python3"
  },
  "language_info": {
   "codemirror_mode": {
    "name": "ipython",
    "version": 3
   },
   "file_extension": ".py",
   "mimetype": "text/x-python",
   "name": "python",
   "nbconvert_exporter": "python",
   "pygments_lexer": "ipython3",
   "version": "3.7.6"
  }
 },
 "nbformat": 4,
 "nbformat_minor": 4
}
